{
 "cells": [
  {
   "cell_type": "markdown",
   "id": "166dd3d7",
   "metadata": {},
   "source": [
    "# International Super Market Data Analysis"
   ]
  },
  {
   "cell_type": "code",
   "execution_count": 1,
   "id": "6a72597e",
   "metadata": {},
   "outputs": [],
   "source": [
    "# install libraries\n",
    "# pip install -r requirements.txt\n",
    "\n",
    "# import libraries\n",
    "import numpy as np\n",
    "import pandas as pd\n",
    "import matplotlib.pyplot as plt\n",
    "import seaborn as sns\n",
    "import plotly.graph_objects as go\n",
    "import plotly.express as px"
   ]
  },
  {
   "cell_type": "code",
   "execution_count": 2,
   "id": "4ef64727",
   "metadata": {},
   "outputs": [
    {
     "data": {
      "text/html": [
       "<div>\n",
       "<style scoped>\n",
       "    .dataframe tbody tr th:only-of-type {\n",
       "        vertical-align: middle;\n",
       "    }\n",
       "\n",
       "    .dataframe tbody tr th {\n",
       "        vertical-align: top;\n",
       "    }\n",
       "\n",
       "    .dataframe thead th {\n",
       "        text-align: right;\n",
       "    }\n",
       "</style>\n",
       "<table border=\"1\" class=\"dataframe\">\n",
       "  <thead>\n",
       "    <tr style=\"text-align: right;\">\n",
       "      <th></th>\n",
       "      <th>Row ID</th>\n",
       "      <th>Order ID</th>\n",
       "      <th>Order Date</th>\n",
       "      <th>Ship Date</th>\n",
       "      <th>Ship Mode</th>\n",
       "      <th>Customer ID</th>\n",
       "      <th>Customer Name</th>\n",
       "      <th>Segment</th>\n",
       "      <th>City</th>\n",
       "      <th>State</th>\n",
       "      <th>...</th>\n",
       "      <th>Product ID</th>\n",
       "      <th>Category</th>\n",
       "      <th>Sub-Category</th>\n",
       "      <th>Product Name</th>\n",
       "      <th>Sales</th>\n",
       "      <th>Quantity</th>\n",
       "      <th>Discount</th>\n",
       "      <th>Profit</th>\n",
       "      <th>Shipping Cost</th>\n",
       "      <th>Order Priority</th>\n",
       "    </tr>\n",
       "  </thead>\n",
       "  <tbody>\n",
       "    <tr>\n",
       "      <th>0</th>\n",
       "      <td>32298</td>\n",
       "      <td>CA-2012-124891</td>\n",
       "      <td>31-07-2012</td>\n",
       "      <td>31-07-2012</td>\n",
       "      <td>Same Day</td>\n",
       "      <td>RH-19495</td>\n",
       "      <td>Rick Hansen</td>\n",
       "      <td>Consumer</td>\n",
       "      <td>New York City</td>\n",
       "      <td>New York</td>\n",
       "      <td>...</td>\n",
       "      <td>TEC-AC-10003033</td>\n",
       "      <td>Technology</td>\n",
       "      <td>Accessories</td>\n",
       "      <td>Plantronics CS510 - Over-the-Head monaural Wir...</td>\n",
       "      <td>2309.650</td>\n",
       "      <td>7</td>\n",
       "      <td>0.0</td>\n",
       "      <td>762.1845</td>\n",
       "      <td>933.57</td>\n",
       "      <td>Critical</td>\n",
       "    </tr>\n",
       "    <tr>\n",
       "      <th>1</th>\n",
       "      <td>26341</td>\n",
       "      <td>IN-2013-77878</td>\n",
       "      <td>2/5/2013</td>\n",
       "      <td>5/2/2013</td>\n",
       "      <td>Second Class</td>\n",
       "      <td>JR-16210</td>\n",
       "      <td>Justin Ritter</td>\n",
       "      <td>Corporate</td>\n",
       "      <td>Wollongong</td>\n",
       "      <td>New South Wales</td>\n",
       "      <td>...</td>\n",
       "      <td>FUR-CH-10003950</td>\n",
       "      <td>Furniture</td>\n",
       "      <td>Chairs</td>\n",
       "      <td>Novimex Executive Leather Armchair, Black</td>\n",
       "      <td>3709.395</td>\n",
       "      <td>9</td>\n",
       "      <td>0.1</td>\n",
       "      <td>-288.7650</td>\n",
       "      <td>923.63</td>\n",
       "      <td>Critical</td>\n",
       "    </tr>\n",
       "    <tr>\n",
       "      <th>2</th>\n",
       "      <td>25330</td>\n",
       "      <td>IN-2013-71249</td>\n",
       "      <td>17-10-2013</td>\n",
       "      <td>17-10-2013</td>\n",
       "      <td>First Class</td>\n",
       "      <td>CR-12730</td>\n",
       "      <td>Craig Reiter</td>\n",
       "      <td>Consumer</td>\n",
       "      <td>Brisbane</td>\n",
       "      <td>Queensland</td>\n",
       "      <td>...</td>\n",
       "      <td>TEC-PH-10004664</td>\n",
       "      <td>Technology</td>\n",
       "      <td>Phones</td>\n",
       "      <td>Nokia Smart Phone, with Caller ID</td>\n",
       "      <td>5175.171</td>\n",
       "      <td>9</td>\n",
       "      <td>0.1</td>\n",
       "      <td>919.9710</td>\n",
       "      <td>915.49</td>\n",
       "      <td>Medium</td>\n",
       "    </tr>\n",
       "    <tr>\n",
       "      <th>3</th>\n",
       "      <td>13524</td>\n",
       "      <td>ES-2013-1579342</td>\n",
       "      <td>28-01-2013</td>\n",
       "      <td>28-01-2013</td>\n",
       "      <td>First Class</td>\n",
       "      <td>KM-16375</td>\n",
       "      <td>Katherine Murray</td>\n",
       "      <td>Home Office</td>\n",
       "      <td>Berlin</td>\n",
       "      <td>Berlin</td>\n",
       "      <td>...</td>\n",
       "      <td>TEC-PH-10004583</td>\n",
       "      <td>Technology</td>\n",
       "      <td>Phones</td>\n",
       "      <td>Motorola Smart Phone, Cordless</td>\n",
       "      <td>2892.510</td>\n",
       "      <td>5</td>\n",
       "      <td>0.1</td>\n",
       "      <td>-96.5400</td>\n",
       "      <td>910.16</td>\n",
       "      <td>Medium</td>\n",
       "    </tr>\n",
       "    <tr>\n",
       "      <th>4</th>\n",
       "      <td>47221</td>\n",
       "      <td>SG-2013-4320</td>\n",
       "      <td>11/5/2013</td>\n",
       "      <td>5/11/2013</td>\n",
       "      <td>Same Day</td>\n",
       "      <td>RH-9495</td>\n",
       "      <td>Rick Hansen</td>\n",
       "      <td>Consumer</td>\n",
       "      <td>Dakar</td>\n",
       "      <td>Dakar</td>\n",
       "      <td>...</td>\n",
       "      <td>TEC-SHA-10000501</td>\n",
       "      <td>Technology</td>\n",
       "      <td>Copiers</td>\n",
       "      <td>Sharp Wireless Fax, High-Speed</td>\n",
       "      <td>2832.960</td>\n",
       "      <td>8</td>\n",
       "      <td>0.0</td>\n",
       "      <td>311.5200</td>\n",
       "      <td>903.04</td>\n",
       "      <td>Critical</td>\n",
       "    </tr>\n",
       "    <tr>\n",
       "      <th>...</th>\n",
       "      <td>...</td>\n",
       "      <td>...</td>\n",
       "      <td>...</td>\n",
       "      <td>...</td>\n",
       "      <td>...</td>\n",
       "      <td>...</td>\n",
       "      <td>...</td>\n",
       "      <td>...</td>\n",
       "      <td>...</td>\n",
       "      <td>...</td>\n",
       "      <td>...</td>\n",
       "      <td>...</td>\n",
       "      <td>...</td>\n",
       "      <td>...</td>\n",
       "      <td>...</td>\n",
       "      <td>...</td>\n",
       "      <td>...</td>\n",
       "      <td>...</td>\n",
       "      <td>...</td>\n",
       "      <td>...</td>\n",
       "      <td>...</td>\n",
       "    </tr>\n",
       "    <tr>\n",
       "      <th>51285</th>\n",
       "      <td>29002</td>\n",
       "      <td>IN-2014-62366</td>\n",
       "      <td>19-06-2014</td>\n",
       "      <td>19-06-2014</td>\n",
       "      <td>Same Day</td>\n",
       "      <td>KE-16420</td>\n",
       "      <td>Katrina Edelman</td>\n",
       "      <td>Corporate</td>\n",
       "      <td>Kure</td>\n",
       "      <td>Hiroshima</td>\n",
       "      <td>...</td>\n",
       "      <td>OFF-FA-10000746</td>\n",
       "      <td>Office Supplies</td>\n",
       "      <td>Fasteners</td>\n",
       "      <td>Advantus Thumb Tacks, 12 Pack</td>\n",
       "      <td>65.100</td>\n",
       "      <td>5</td>\n",
       "      <td>0.0</td>\n",
       "      <td>4.5000</td>\n",
       "      <td>0.01</td>\n",
       "      <td>Medium</td>\n",
       "    </tr>\n",
       "    <tr>\n",
       "      <th>51286</th>\n",
       "      <td>35398</td>\n",
       "      <td>US-2014-102288</td>\n",
       "      <td>20-06-2014</td>\n",
       "      <td>20-06-2014</td>\n",
       "      <td>Standard Class</td>\n",
       "      <td>ZC-21910</td>\n",
       "      <td>Zuschuss Carroll</td>\n",
       "      <td>Consumer</td>\n",
       "      <td>Houston</td>\n",
       "      <td>Texas</td>\n",
       "      <td>...</td>\n",
       "      <td>OFF-AP-10002906</td>\n",
       "      <td>Office Supplies</td>\n",
       "      <td>Appliances</td>\n",
       "      <td>Hoover Replacement Belt for Commercial Guardsm...</td>\n",
       "      <td>0.444</td>\n",
       "      <td>1</td>\n",
       "      <td>0.8</td>\n",
       "      <td>-1.1100</td>\n",
       "      <td>0.01</td>\n",
       "      <td>Medium</td>\n",
       "    </tr>\n",
       "    <tr>\n",
       "      <th>51287</th>\n",
       "      <td>40470</td>\n",
       "      <td>US-2013-155768</td>\n",
       "      <td>12/2/2013</td>\n",
       "      <td>2/12/2013</td>\n",
       "      <td>Same Day</td>\n",
       "      <td>LB-16795</td>\n",
       "      <td>Laurel Beltran</td>\n",
       "      <td>Home Office</td>\n",
       "      <td>Oxnard</td>\n",
       "      <td>California</td>\n",
       "      <td>...</td>\n",
       "      <td>OFF-EN-10001219</td>\n",
       "      <td>Office Supplies</td>\n",
       "      <td>Envelopes</td>\n",
       "      <td>#10- 4 1/8\" x 9 1/2\" Security-Tint Envelopes</td>\n",
       "      <td>22.920</td>\n",
       "      <td>3</td>\n",
       "      <td>0.0</td>\n",
       "      <td>11.2308</td>\n",
       "      <td>0.01</td>\n",
       "      <td>High</td>\n",
       "    </tr>\n",
       "    <tr>\n",
       "      <th>51288</th>\n",
       "      <td>9596</td>\n",
       "      <td>MX-2012-140767</td>\n",
       "      <td>18-02-2012</td>\n",
       "      <td>18-02-2012</td>\n",
       "      <td>Standard Class</td>\n",
       "      <td>RB-19795</td>\n",
       "      <td>Ross Baird</td>\n",
       "      <td>Home Office</td>\n",
       "      <td>Valinhos</td>\n",
       "      <td>São Paulo</td>\n",
       "      <td>...</td>\n",
       "      <td>OFF-BI-10000806</td>\n",
       "      <td>Office Supplies</td>\n",
       "      <td>Binders</td>\n",
       "      <td>Acco Index Tab, Economy</td>\n",
       "      <td>13.440</td>\n",
       "      <td>2</td>\n",
       "      <td>0.0</td>\n",
       "      <td>2.4000</td>\n",
       "      <td>0.00</td>\n",
       "      <td>Medium</td>\n",
       "    </tr>\n",
       "    <tr>\n",
       "      <th>51289</th>\n",
       "      <td>6147</td>\n",
       "      <td>MX-2012-134460</td>\n",
       "      <td>22-05-2012</td>\n",
       "      <td>22-05-2012</td>\n",
       "      <td>Second Class</td>\n",
       "      <td>MC-18100</td>\n",
       "      <td>Mick Crebagga</td>\n",
       "      <td>Consumer</td>\n",
       "      <td>Tipitapa</td>\n",
       "      <td>Managua</td>\n",
       "      <td>...</td>\n",
       "      <td>OFF-PA-10004155</td>\n",
       "      <td>Office Supplies</td>\n",
       "      <td>Paper</td>\n",
       "      <td>Eaton Computer Printout Paper, 8.5 x 11</td>\n",
       "      <td>61.380</td>\n",
       "      <td>3</td>\n",
       "      <td>0.0</td>\n",
       "      <td>1.8000</td>\n",
       "      <td>0.00</td>\n",
       "      <td>High</td>\n",
       "    </tr>\n",
       "  </tbody>\n",
       "</table>\n",
       "<p>51290 rows × 24 columns</p>\n",
       "</div>"
      ],
      "text/plain": [
       "       Row ID         Order ID  Order Date   Ship Date       Ship Mode  \\\n",
       "0       32298   CA-2012-124891  31-07-2012  31-07-2012        Same Day   \n",
       "1       26341    IN-2013-77878    2/5/2013    5/2/2013    Second Class   \n",
       "2       25330    IN-2013-71249  17-10-2013  17-10-2013     First Class   \n",
       "3       13524  ES-2013-1579342  28-01-2013  28-01-2013     First Class   \n",
       "4       47221     SG-2013-4320   11/5/2013   5/11/2013        Same Day   \n",
       "...       ...              ...         ...         ...             ...   \n",
       "51285   29002    IN-2014-62366  19-06-2014  19-06-2014        Same Day   \n",
       "51286   35398   US-2014-102288  20-06-2014  20-06-2014  Standard Class   \n",
       "51287   40470   US-2013-155768   12/2/2013   2/12/2013        Same Day   \n",
       "51288    9596   MX-2012-140767  18-02-2012  18-02-2012  Standard Class   \n",
       "51289    6147   MX-2012-134460  22-05-2012  22-05-2012    Second Class   \n",
       "\n",
       "      Customer ID     Customer Name      Segment           City  \\\n",
       "0        RH-19495       Rick Hansen     Consumer  New York City   \n",
       "1        JR-16210     Justin Ritter    Corporate     Wollongong   \n",
       "2        CR-12730      Craig Reiter     Consumer       Brisbane   \n",
       "3        KM-16375  Katherine Murray  Home Office         Berlin   \n",
       "4         RH-9495       Rick Hansen     Consumer          Dakar   \n",
       "...           ...               ...          ...            ...   \n",
       "51285    KE-16420   Katrina Edelman    Corporate           Kure   \n",
       "51286    ZC-21910  Zuschuss Carroll     Consumer        Houston   \n",
       "51287    LB-16795    Laurel Beltran  Home Office         Oxnard   \n",
       "51288    RB-19795        Ross Baird  Home Office       Valinhos   \n",
       "51289    MC-18100     Mick Crebagga     Consumer       Tipitapa   \n",
       "\n",
       "                 State  ...        Product ID         Category Sub-Category  \\\n",
       "0             New York  ...   TEC-AC-10003033       Technology  Accessories   \n",
       "1      New South Wales  ...   FUR-CH-10003950        Furniture       Chairs   \n",
       "2           Queensland  ...   TEC-PH-10004664       Technology       Phones   \n",
       "3               Berlin  ...   TEC-PH-10004583       Technology       Phones   \n",
       "4                Dakar  ...  TEC-SHA-10000501       Technology      Copiers   \n",
       "...                ...  ...               ...              ...          ...   \n",
       "51285        Hiroshima  ...   OFF-FA-10000746  Office Supplies    Fasteners   \n",
       "51286            Texas  ...   OFF-AP-10002906  Office Supplies   Appliances   \n",
       "51287       California  ...   OFF-EN-10001219  Office Supplies    Envelopes   \n",
       "51288        São Paulo  ...   OFF-BI-10000806  Office Supplies      Binders   \n",
       "51289          Managua  ...   OFF-PA-10004155  Office Supplies        Paper   \n",
       "\n",
       "                                            Product Name     Sales Quantity  \\\n",
       "0      Plantronics CS510 - Over-the-Head monaural Wir...  2309.650        7   \n",
       "1              Novimex Executive Leather Armchair, Black  3709.395        9   \n",
       "2                      Nokia Smart Phone, with Caller ID  5175.171        9   \n",
       "3                         Motorola Smart Phone, Cordless  2892.510        5   \n",
       "4                         Sharp Wireless Fax, High-Speed  2832.960        8   \n",
       "...                                                  ...       ...      ...   \n",
       "51285                      Advantus Thumb Tacks, 12 Pack    65.100        5   \n",
       "51286  Hoover Replacement Belt for Commercial Guardsm...     0.444        1   \n",
       "51287       #10- 4 1/8\" x 9 1/2\" Security-Tint Envelopes    22.920        3   \n",
       "51288                            Acco Index Tab, Economy    13.440        2   \n",
       "51289            Eaton Computer Printout Paper, 8.5 x 11    61.380        3   \n",
       "\n",
       "      Discount    Profit  Shipping Cost  Order Priority  \n",
       "0          0.0  762.1845         933.57        Critical  \n",
       "1          0.1 -288.7650         923.63        Critical  \n",
       "2          0.1  919.9710         915.49          Medium  \n",
       "3          0.1  -96.5400         910.16          Medium  \n",
       "4          0.0  311.5200         903.04        Critical  \n",
       "...        ...       ...            ...             ...  \n",
       "51285      0.0    4.5000           0.01          Medium  \n",
       "51286      0.8   -1.1100           0.01          Medium  \n",
       "51287      0.0   11.2308           0.01            High  \n",
       "51288      0.0    2.4000           0.00          Medium  \n",
       "51289      0.0    1.8000           0.00            High  \n",
       "\n",
       "[51290 rows x 24 columns]"
      ]
     },
     "execution_count": 2,
     "metadata": {},
     "output_type": "execute_result"
    }
   ],
   "source": [
    "# Load the dataset into a pandas DataFrame\n",
    "data = pd.read_csv(\"./data/internationalmarketdata.csv\", encoding='latin1')\n",
    "data"
   ]
  },
  {
   "cell_type": "code",
   "execution_count": 3,
   "id": "f046e7b4",
   "metadata": {},
   "outputs": [],
   "source": [
    "# Create a copy of the data DataFrame to work with\n",
    "df = data.copy()"
   ]
  },
  {
   "cell_type": "code",
   "execution_count": 4,
   "id": "60958bcd",
   "metadata": {},
   "outputs": [
    {
     "data": {
      "text/html": [
       "<div>\n",
       "<style scoped>\n",
       "    .dataframe tbody tr th:only-of-type {\n",
       "        vertical-align: middle;\n",
       "    }\n",
       "\n",
       "    .dataframe tbody tr th {\n",
       "        vertical-align: top;\n",
       "    }\n",
       "\n",
       "    .dataframe thead th {\n",
       "        text-align: right;\n",
       "    }\n",
       "</style>\n",
       "<table border=\"1\" class=\"dataframe\">\n",
       "  <thead>\n",
       "    <tr style=\"text-align: right;\">\n",
       "      <th></th>\n",
       "      <th>Row ID</th>\n",
       "      <th>Order ID</th>\n",
       "      <th>Order Date</th>\n",
       "      <th>Ship Date</th>\n",
       "      <th>Ship Mode</th>\n",
       "      <th>Customer ID</th>\n",
       "      <th>Customer Name</th>\n",
       "      <th>Segment</th>\n",
       "      <th>City</th>\n",
       "      <th>State</th>\n",
       "      <th>...</th>\n",
       "      <th>Product ID</th>\n",
       "      <th>Category</th>\n",
       "      <th>Sub-Category</th>\n",
       "      <th>Product Name</th>\n",
       "      <th>Sales</th>\n",
       "      <th>Quantity</th>\n",
       "      <th>Discount</th>\n",
       "      <th>Profit</th>\n",
       "      <th>Shipping Cost</th>\n",
       "      <th>Order Priority</th>\n",
       "    </tr>\n",
       "  </thead>\n",
       "  <tbody>\n",
       "    <tr>\n",
       "      <th>0</th>\n",
       "      <td>32298</td>\n",
       "      <td>CA-2012-124891</td>\n",
       "      <td>31-07-2012</td>\n",
       "      <td>31-07-2012</td>\n",
       "      <td>Same Day</td>\n",
       "      <td>RH-19495</td>\n",
       "      <td>Rick Hansen</td>\n",
       "      <td>Consumer</td>\n",
       "      <td>New York City</td>\n",
       "      <td>New York</td>\n",
       "      <td>...</td>\n",
       "      <td>TEC-AC-10003033</td>\n",
       "      <td>Technology</td>\n",
       "      <td>Accessories</td>\n",
       "      <td>Plantronics CS510 - Over-the-Head monaural Wir...</td>\n",
       "      <td>2309.650</td>\n",
       "      <td>7</td>\n",
       "      <td>0.0</td>\n",
       "      <td>762.1845</td>\n",
       "      <td>933.57</td>\n",
       "      <td>Critical</td>\n",
       "    </tr>\n",
       "    <tr>\n",
       "      <th>1</th>\n",
       "      <td>26341</td>\n",
       "      <td>IN-2013-77878</td>\n",
       "      <td>2/5/2013</td>\n",
       "      <td>5/2/2013</td>\n",
       "      <td>Second Class</td>\n",
       "      <td>JR-16210</td>\n",
       "      <td>Justin Ritter</td>\n",
       "      <td>Corporate</td>\n",
       "      <td>Wollongong</td>\n",
       "      <td>New South Wales</td>\n",
       "      <td>...</td>\n",
       "      <td>FUR-CH-10003950</td>\n",
       "      <td>Furniture</td>\n",
       "      <td>Chairs</td>\n",
       "      <td>Novimex Executive Leather Armchair, Black</td>\n",
       "      <td>3709.395</td>\n",
       "      <td>9</td>\n",
       "      <td>0.1</td>\n",
       "      <td>-288.7650</td>\n",
       "      <td>923.63</td>\n",
       "      <td>Critical</td>\n",
       "    </tr>\n",
       "    <tr>\n",
       "      <th>2</th>\n",
       "      <td>25330</td>\n",
       "      <td>IN-2013-71249</td>\n",
       "      <td>17-10-2013</td>\n",
       "      <td>17-10-2013</td>\n",
       "      <td>First Class</td>\n",
       "      <td>CR-12730</td>\n",
       "      <td>Craig Reiter</td>\n",
       "      <td>Consumer</td>\n",
       "      <td>Brisbane</td>\n",
       "      <td>Queensland</td>\n",
       "      <td>...</td>\n",
       "      <td>TEC-PH-10004664</td>\n",
       "      <td>Technology</td>\n",
       "      <td>Phones</td>\n",
       "      <td>Nokia Smart Phone, with Caller ID</td>\n",
       "      <td>5175.171</td>\n",
       "      <td>9</td>\n",
       "      <td>0.1</td>\n",
       "      <td>919.9710</td>\n",
       "      <td>915.49</td>\n",
       "      <td>Medium</td>\n",
       "    </tr>\n",
       "    <tr>\n",
       "      <th>3</th>\n",
       "      <td>13524</td>\n",
       "      <td>ES-2013-1579342</td>\n",
       "      <td>28-01-2013</td>\n",
       "      <td>28-01-2013</td>\n",
       "      <td>First Class</td>\n",
       "      <td>KM-16375</td>\n",
       "      <td>Katherine Murray</td>\n",
       "      <td>Home Office</td>\n",
       "      <td>Berlin</td>\n",
       "      <td>Berlin</td>\n",
       "      <td>...</td>\n",
       "      <td>TEC-PH-10004583</td>\n",
       "      <td>Technology</td>\n",
       "      <td>Phones</td>\n",
       "      <td>Motorola Smart Phone, Cordless</td>\n",
       "      <td>2892.510</td>\n",
       "      <td>5</td>\n",
       "      <td>0.1</td>\n",
       "      <td>-96.5400</td>\n",
       "      <td>910.16</td>\n",
       "      <td>Medium</td>\n",
       "    </tr>\n",
       "    <tr>\n",
       "      <th>4</th>\n",
       "      <td>47221</td>\n",
       "      <td>SG-2013-4320</td>\n",
       "      <td>11/5/2013</td>\n",
       "      <td>5/11/2013</td>\n",
       "      <td>Same Day</td>\n",
       "      <td>RH-9495</td>\n",
       "      <td>Rick Hansen</td>\n",
       "      <td>Consumer</td>\n",
       "      <td>Dakar</td>\n",
       "      <td>Dakar</td>\n",
       "      <td>...</td>\n",
       "      <td>TEC-SHA-10000501</td>\n",
       "      <td>Technology</td>\n",
       "      <td>Copiers</td>\n",
       "      <td>Sharp Wireless Fax, High-Speed</td>\n",
       "      <td>2832.960</td>\n",
       "      <td>8</td>\n",
       "      <td>0.0</td>\n",
       "      <td>311.5200</td>\n",
       "      <td>903.04</td>\n",
       "      <td>Critical</td>\n",
       "    </tr>\n",
       "    <tr>\n",
       "      <th>5</th>\n",
       "      <td>22732</td>\n",
       "      <td>IN-2013-42360</td>\n",
       "      <td>28-06-2013</td>\n",
       "      <td>28-06-2013</td>\n",
       "      <td>Second Class</td>\n",
       "      <td>JM-15655</td>\n",
       "      <td>Jim Mitchum</td>\n",
       "      <td>Corporate</td>\n",
       "      <td>Sydney</td>\n",
       "      <td>New South Wales</td>\n",
       "      <td>...</td>\n",
       "      <td>TEC-PH-10000030</td>\n",
       "      <td>Technology</td>\n",
       "      <td>Phones</td>\n",
       "      <td>Samsung Smart Phone, with Caller ID</td>\n",
       "      <td>2862.675</td>\n",
       "      <td>5</td>\n",
       "      <td>0.1</td>\n",
       "      <td>763.2750</td>\n",
       "      <td>897.35</td>\n",
       "      <td>Critical</td>\n",
       "    </tr>\n",
       "    <tr>\n",
       "      <th>6</th>\n",
       "      <td>30570</td>\n",
       "      <td>IN-2011-81826</td>\n",
       "      <td>11/7/2011</td>\n",
       "      <td>7/11/2011</td>\n",
       "      <td>First Class</td>\n",
       "      <td>TS-21340</td>\n",
       "      <td>Toby Swindell</td>\n",
       "      <td>Consumer</td>\n",
       "      <td>Porirua</td>\n",
       "      <td>Wellington</td>\n",
       "      <td>...</td>\n",
       "      <td>FUR-CH-10004050</td>\n",
       "      <td>Furniture</td>\n",
       "      <td>Chairs</td>\n",
       "      <td>Novimex Executive Leather Armchair, Adjustable</td>\n",
       "      <td>1822.080</td>\n",
       "      <td>4</td>\n",
       "      <td>0.0</td>\n",
       "      <td>564.8400</td>\n",
       "      <td>894.77</td>\n",
       "      <td>Critical</td>\n",
       "    </tr>\n",
       "    <tr>\n",
       "      <th>7</th>\n",
       "      <td>31192</td>\n",
       "      <td>IN-2012-86369</td>\n",
       "      <td>14-04-2012</td>\n",
       "      <td>14-04-2012</td>\n",
       "      <td>Standard Class</td>\n",
       "      <td>MB-18085</td>\n",
       "      <td>Mick Brown</td>\n",
       "      <td>Consumer</td>\n",
       "      <td>Hamilton</td>\n",
       "      <td>Waikato</td>\n",
       "      <td>...</td>\n",
       "      <td>FUR-TA-10002958</td>\n",
       "      <td>Furniture</td>\n",
       "      <td>Tables</td>\n",
       "      <td>Chromcraft Conference Table, Fully Assembled</td>\n",
       "      <td>5244.840</td>\n",
       "      <td>6</td>\n",
       "      <td>0.0</td>\n",
       "      <td>996.4800</td>\n",
       "      <td>878.38</td>\n",
       "      <td>High</td>\n",
       "    </tr>\n",
       "    <tr>\n",
       "      <th>8</th>\n",
       "      <td>40155</td>\n",
       "      <td>CA-2014-135909</td>\n",
       "      <td>14-10-2014</td>\n",
       "      <td>14-10-2014</td>\n",
       "      <td>Standard Class</td>\n",
       "      <td>JW-15220</td>\n",
       "      <td>Jane Waco</td>\n",
       "      <td>Corporate</td>\n",
       "      <td>Sacramento</td>\n",
       "      <td>California</td>\n",
       "      <td>...</td>\n",
       "      <td>OFF-BI-10003527</td>\n",
       "      <td>Office Supplies</td>\n",
       "      <td>Binders</td>\n",
       "      <td>Fellowes PB500 Electric Punch Plastic Comb Bin...</td>\n",
       "      <td>5083.960</td>\n",
       "      <td>5</td>\n",
       "      <td>0.2</td>\n",
       "      <td>1906.4850</td>\n",
       "      <td>867.69</td>\n",
       "      <td>Low</td>\n",
       "    </tr>\n",
       "    <tr>\n",
       "      <th>9</th>\n",
       "      <td>40936</td>\n",
       "      <td>CA-2012-116638</td>\n",
       "      <td>28-01-2012</td>\n",
       "      <td>28-01-2012</td>\n",
       "      <td>Second Class</td>\n",
       "      <td>JH-15985</td>\n",
       "      <td>Joseph Holt</td>\n",
       "      <td>Consumer</td>\n",
       "      <td>Concord</td>\n",
       "      <td>North Carolina</td>\n",
       "      <td>...</td>\n",
       "      <td>FUR-TA-10000198</td>\n",
       "      <td>Furniture</td>\n",
       "      <td>Tables</td>\n",
       "      <td>Chromcraft Bull-Nose Wood Oval Conference Tabl...</td>\n",
       "      <td>4297.644</td>\n",
       "      <td>13</td>\n",
       "      <td>0.4</td>\n",
       "      <td>-1862.3124</td>\n",
       "      <td>865.74</td>\n",
       "      <td>Critical</td>\n",
       "    </tr>\n",
       "  </tbody>\n",
       "</table>\n",
       "<p>10 rows × 24 columns</p>\n",
       "</div>"
      ],
      "text/plain": [
       "   Row ID         Order ID  Order Date   Ship Date       Ship Mode  \\\n",
       "0   32298   CA-2012-124891  31-07-2012  31-07-2012        Same Day   \n",
       "1   26341    IN-2013-77878    2/5/2013    5/2/2013    Second Class   \n",
       "2   25330    IN-2013-71249  17-10-2013  17-10-2013     First Class   \n",
       "3   13524  ES-2013-1579342  28-01-2013  28-01-2013     First Class   \n",
       "4   47221     SG-2013-4320   11/5/2013   5/11/2013        Same Day   \n",
       "5   22732    IN-2013-42360  28-06-2013  28-06-2013    Second Class   \n",
       "6   30570    IN-2011-81826   11/7/2011   7/11/2011     First Class   \n",
       "7   31192    IN-2012-86369  14-04-2012  14-04-2012  Standard Class   \n",
       "8   40155   CA-2014-135909  14-10-2014  14-10-2014  Standard Class   \n",
       "9   40936   CA-2012-116638  28-01-2012  28-01-2012    Second Class   \n",
       "\n",
       "  Customer ID     Customer Name      Segment           City            State  \\\n",
       "0    RH-19495       Rick Hansen     Consumer  New York City         New York   \n",
       "1    JR-16210     Justin Ritter    Corporate     Wollongong  New South Wales   \n",
       "2    CR-12730      Craig Reiter     Consumer       Brisbane       Queensland   \n",
       "3    KM-16375  Katherine Murray  Home Office         Berlin           Berlin   \n",
       "4     RH-9495       Rick Hansen     Consumer          Dakar            Dakar   \n",
       "5    JM-15655       Jim Mitchum    Corporate         Sydney  New South Wales   \n",
       "6    TS-21340     Toby Swindell     Consumer        Porirua       Wellington   \n",
       "7    MB-18085        Mick Brown     Consumer       Hamilton          Waikato   \n",
       "8    JW-15220         Jane Waco    Corporate     Sacramento       California   \n",
       "9    JH-15985       Joseph Holt     Consumer        Concord   North Carolina   \n",
       "\n",
       "   ...        Product ID         Category Sub-Category  \\\n",
       "0  ...   TEC-AC-10003033       Technology  Accessories   \n",
       "1  ...   FUR-CH-10003950        Furniture       Chairs   \n",
       "2  ...   TEC-PH-10004664       Technology       Phones   \n",
       "3  ...   TEC-PH-10004583       Technology       Phones   \n",
       "4  ...  TEC-SHA-10000501       Technology      Copiers   \n",
       "5  ...   TEC-PH-10000030       Technology       Phones   \n",
       "6  ...   FUR-CH-10004050        Furniture       Chairs   \n",
       "7  ...   FUR-TA-10002958        Furniture       Tables   \n",
       "8  ...   OFF-BI-10003527  Office Supplies      Binders   \n",
       "9  ...   FUR-TA-10000198        Furniture       Tables   \n",
       "\n",
       "                                        Product Name     Sales Quantity  \\\n",
       "0  Plantronics CS510 - Over-the-Head monaural Wir...  2309.650        7   \n",
       "1          Novimex Executive Leather Armchair, Black  3709.395        9   \n",
       "2                  Nokia Smart Phone, with Caller ID  5175.171        9   \n",
       "3                     Motorola Smart Phone, Cordless  2892.510        5   \n",
       "4                     Sharp Wireless Fax, High-Speed  2832.960        8   \n",
       "5                Samsung Smart Phone, with Caller ID  2862.675        5   \n",
       "6     Novimex Executive Leather Armchair, Adjustable  1822.080        4   \n",
       "7       Chromcraft Conference Table, Fully Assembled  5244.840        6   \n",
       "8  Fellowes PB500 Electric Punch Plastic Comb Bin...  5083.960        5   \n",
       "9  Chromcraft Bull-Nose Wood Oval Conference Tabl...  4297.644       13   \n",
       "\n",
       "  Discount     Profit  Shipping Cost  Order Priority  \n",
       "0      0.0   762.1845         933.57        Critical  \n",
       "1      0.1  -288.7650         923.63        Critical  \n",
       "2      0.1   919.9710         915.49          Medium  \n",
       "3      0.1   -96.5400         910.16          Medium  \n",
       "4      0.0   311.5200         903.04        Critical  \n",
       "5      0.1   763.2750         897.35        Critical  \n",
       "6      0.0   564.8400         894.77        Critical  \n",
       "7      0.0   996.4800         878.38            High  \n",
       "8      0.2  1906.4850         867.69             Low  \n",
       "9      0.4 -1862.3124         865.74        Critical  \n",
       "\n",
       "[10 rows x 24 columns]"
      ]
     },
     "execution_count": 4,
     "metadata": {},
     "output_type": "execute_result"
    }
   ],
   "source": [
    "# Display the first 10 rows of the DataFrame to get an overview of the data\n",
    "df.head(10)"
   ]
  },
  {
   "cell_type": "code",
   "execution_count": 5,
   "id": "3074ed28",
   "metadata": {},
   "outputs": [
    {
     "data": {
      "text/html": [
       "<div>\n",
       "<style scoped>\n",
       "    .dataframe tbody tr th:only-of-type {\n",
       "        vertical-align: middle;\n",
       "    }\n",
       "\n",
       "    .dataframe tbody tr th {\n",
       "        vertical-align: top;\n",
       "    }\n",
       "\n",
       "    .dataframe thead th {\n",
       "        text-align: right;\n",
       "    }\n",
       "</style>\n",
       "<table border=\"1\" class=\"dataframe\">\n",
       "  <thead>\n",
       "    <tr style=\"text-align: right;\">\n",
       "      <th></th>\n",
       "      <th>Row ID</th>\n",
       "      <th>Order ID</th>\n",
       "      <th>Order Date</th>\n",
       "      <th>Ship Date</th>\n",
       "      <th>Ship Mode</th>\n",
       "      <th>Customer ID</th>\n",
       "      <th>Customer Name</th>\n",
       "      <th>Segment</th>\n",
       "      <th>City</th>\n",
       "      <th>State</th>\n",
       "      <th>...</th>\n",
       "      <th>Product ID</th>\n",
       "      <th>Category</th>\n",
       "      <th>Sub-Category</th>\n",
       "      <th>Product Name</th>\n",
       "      <th>Sales</th>\n",
       "      <th>Quantity</th>\n",
       "      <th>Discount</th>\n",
       "      <th>Profit</th>\n",
       "      <th>Shipping Cost</th>\n",
       "      <th>Order Priority</th>\n",
       "    </tr>\n",
       "  </thead>\n",
       "  <tbody>\n",
       "    <tr>\n",
       "      <th>51285</th>\n",
       "      <td>29002</td>\n",
       "      <td>IN-2014-62366</td>\n",
       "      <td>19-06-2014</td>\n",
       "      <td>19-06-2014</td>\n",
       "      <td>Same Day</td>\n",
       "      <td>KE-16420</td>\n",
       "      <td>Katrina Edelman</td>\n",
       "      <td>Corporate</td>\n",
       "      <td>Kure</td>\n",
       "      <td>Hiroshima</td>\n",
       "      <td>...</td>\n",
       "      <td>OFF-FA-10000746</td>\n",
       "      <td>Office Supplies</td>\n",
       "      <td>Fasteners</td>\n",
       "      <td>Advantus Thumb Tacks, 12 Pack</td>\n",
       "      <td>65.100</td>\n",
       "      <td>5</td>\n",
       "      <td>0.0</td>\n",
       "      <td>4.5000</td>\n",
       "      <td>0.01</td>\n",
       "      <td>Medium</td>\n",
       "    </tr>\n",
       "    <tr>\n",
       "      <th>51286</th>\n",
       "      <td>35398</td>\n",
       "      <td>US-2014-102288</td>\n",
       "      <td>20-06-2014</td>\n",
       "      <td>20-06-2014</td>\n",
       "      <td>Standard Class</td>\n",
       "      <td>ZC-21910</td>\n",
       "      <td>Zuschuss Carroll</td>\n",
       "      <td>Consumer</td>\n",
       "      <td>Houston</td>\n",
       "      <td>Texas</td>\n",
       "      <td>...</td>\n",
       "      <td>OFF-AP-10002906</td>\n",
       "      <td>Office Supplies</td>\n",
       "      <td>Appliances</td>\n",
       "      <td>Hoover Replacement Belt for Commercial Guardsm...</td>\n",
       "      <td>0.444</td>\n",
       "      <td>1</td>\n",
       "      <td>0.8</td>\n",
       "      <td>-1.1100</td>\n",
       "      <td>0.01</td>\n",
       "      <td>Medium</td>\n",
       "    </tr>\n",
       "    <tr>\n",
       "      <th>51287</th>\n",
       "      <td>40470</td>\n",
       "      <td>US-2013-155768</td>\n",
       "      <td>12/2/2013</td>\n",
       "      <td>2/12/2013</td>\n",
       "      <td>Same Day</td>\n",
       "      <td>LB-16795</td>\n",
       "      <td>Laurel Beltran</td>\n",
       "      <td>Home Office</td>\n",
       "      <td>Oxnard</td>\n",
       "      <td>California</td>\n",
       "      <td>...</td>\n",
       "      <td>OFF-EN-10001219</td>\n",
       "      <td>Office Supplies</td>\n",
       "      <td>Envelopes</td>\n",
       "      <td>#10- 4 1/8\" x 9 1/2\" Security-Tint Envelopes</td>\n",
       "      <td>22.920</td>\n",
       "      <td>3</td>\n",
       "      <td>0.0</td>\n",
       "      <td>11.2308</td>\n",
       "      <td>0.01</td>\n",
       "      <td>High</td>\n",
       "    </tr>\n",
       "    <tr>\n",
       "      <th>51288</th>\n",
       "      <td>9596</td>\n",
       "      <td>MX-2012-140767</td>\n",
       "      <td>18-02-2012</td>\n",
       "      <td>18-02-2012</td>\n",
       "      <td>Standard Class</td>\n",
       "      <td>RB-19795</td>\n",
       "      <td>Ross Baird</td>\n",
       "      <td>Home Office</td>\n",
       "      <td>Valinhos</td>\n",
       "      <td>São Paulo</td>\n",
       "      <td>...</td>\n",
       "      <td>OFF-BI-10000806</td>\n",
       "      <td>Office Supplies</td>\n",
       "      <td>Binders</td>\n",
       "      <td>Acco Index Tab, Economy</td>\n",
       "      <td>13.440</td>\n",
       "      <td>2</td>\n",
       "      <td>0.0</td>\n",
       "      <td>2.4000</td>\n",
       "      <td>0.00</td>\n",
       "      <td>Medium</td>\n",
       "    </tr>\n",
       "    <tr>\n",
       "      <th>51289</th>\n",
       "      <td>6147</td>\n",
       "      <td>MX-2012-134460</td>\n",
       "      <td>22-05-2012</td>\n",
       "      <td>22-05-2012</td>\n",
       "      <td>Second Class</td>\n",
       "      <td>MC-18100</td>\n",
       "      <td>Mick Crebagga</td>\n",
       "      <td>Consumer</td>\n",
       "      <td>Tipitapa</td>\n",
       "      <td>Managua</td>\n",
       "      <td>...</td>\n",
       "      <td>OFF-PA-10004155</td>\n",
       "      <td>Office Supplies</td>\n",
       "      <td>Paper</td>\n",
       "      <td>Eaton Computer Printout Paper, 8.5 x 11</td>\n",
       "      <td>61.380</td>\n",
       "      <td>3</td>\n",
       "      <td>0.0</td>\n",
       "      <td>1.8000</td>\n",
       "      <td>0.00</td>\n",
       "      <td>High</td>\n",
       "    </tr>\n",
       "  </tbody>\n",
       "</table>\n",
       "<p>5 rows × 24 columns</p>\n",
       "</div>"
      ],
      "text/plain": [
       "       Row ID        Order ID  Order Date   Ship Date       Ship Mode  \\\n",
       "51285   29002   IN-2014-62366  19-06-2014  19-06-2014        Same Day   \n",
       "51286   35398  US-2014-102288  20-06-2014  20-06-2014  Standard Class   \n",
       "51287   40470  US-2013-155768   12/2/2013   2/12/2013        Same Day   \n",
       "51288    9596  MX-2012-140767  18-02-2012  18-02-2012  Standard Class   \n",
       "51289    6147  MX-2012-134460  22-05-2012  22-05-2012    Second Class   \n",
       "\n",
       "      Customer ID     Customer Name      Segment      City       State  ...  \\\n",
       "51285    KE-16420   Katrina Edelman    Corporate      Kure   Hiroshima  ...   \n",
       "51286    ZC-21910  Zuschuss Carroll     Consumer   Houston       Texas  ...   \n",
       "51287    LB-16795    Laurel Beltran  Home Office    Oxnard  California  ...   \n",
       "51288    RB-19795        Ross Baird  Home Office  Valinhos   São Paulo  ...   \n",
       "51289    MC-18100     Mick Crebagga     Consumer  Tipitapa     Managua  ...   \n",
       "\n",
       "            Product ID         Category Sub-Category  \\\n",
       "51285  OFF-FA-10000746  Office Supplies    Fasteners   \n",
       "51286  OFF-AP-10002906  Office Supplies   Appliances   \n",
       "51287  OFF-EN-10001219  Office Supplies    Envelopes   \n",
       "51288  OFF-BI-10000806  Office Supplies      Binders   \n",
       "51289  OFF-PA-10004155  Office Supplies        Paper   \n",
       "\n",
       "                                            Product Name   Sales Quantity  \\\n",
       "51285                      Advantus Thumb Tacks, 12 Pack  65.100        5   \n",
       "51286  Hoover Replacement Belt for Commercial Guardsm...   0.444        1   \n",
       "51287       #10- 4 1/8\" x 9 1/2\" Security-Tint Envelopes  22.920        3   \n",
       "51288                            Acco Index Tab, Economy  13.440        2   \n",
       "51289            Eaton Computer Printout Paper, 8.5 x 11  61.380        3   \n",
       "\n",
       "      Discount   Profit  Shipping Cost  Order Priority  \n",
       "51285      0.0   4.5000           0.01          Medium  \n",
       "51286      0.8  -1.1100           0.01          Medium  \n",
       "51287      0.0  11.2308           0.01            High  \n",
       "51288      0.0   2.4000           0.00          Medium  \n",
       "51289      0.0   1.8000           0.00            High  \n",
       "\n",
       "[5 rows x 24 columns]"
      ]
     },
     "execution_count": 5,
     "metadata": {},
     "output_type": "execute_result"
    }
   ],
   "source": [
    "# Display the last 5 rows of the DataFrame to examine the end of the dataset\n",
    "df.tail()"
   ]
  },
  {
   "cell_type": "code",
   "execution_count": 6,
   "id": "346e47ce",
   "metadata": {},
   "outputs": [
    {
     "name": "stdout",
     "output_type": "stream",
     "text": [
      "<class 'pandas.core.frame.DataFrame'>\n",
      "RangeIndex: 51290 entries, 0 to 51289\n",
      "Data columns (total 24 columns):\n",
      " #   Column          Non-Null Count  Dtype  \n",
      "---  ------          --------------  -----  \n",
      " 0   Row ID          51290 non-null  int64  \n",
      " 1   Order ID        51290 non-null  object \n",
      " 2   Order Date      51290 non-null  object \n",
      " 3   Ship Date       51290 non-null  object \n",
      " 4   Ship Mode       51290 non-null  object \n",
      " 5   Customer ID     51290 non-null  object \n",
      " 6   Customer Name   51290 non-null  object \n",
      " 7   Segment         51290 non-null  object \n",
      " 8   City            51290 non-null  object \n",
      " 9   State           51290 non-null  object \n",
      " 10  Country         51290 non-null  object \n",
      " 11  Postal Code     9994 non-null   float64\n",
      " 12  Market          51290 non-null  object \n",
      " 13  Region          51290 non-null  object \n",
      " 14  Product ID      51290 non-null  object \n",
      " 15  Category        51290 non-null  object \n",
      " 16  Sub-Category    51290 non-null  object \n",
      " 17  Product Name    51290 non-null  object \n",
      " 18  Sales           51290 non-null  float64\n",
      " 19  Quantity        51290 non-null  int64  \n",
      " 20  Discount        51290 non-null  float64\n",
      " 21  Profit          51290 non-null  float64\n",
      " 22  Shipping Cost   51290 non-null  float64\n",
      " 23  Order Priority  51290 non-null  object \n",
      "dtypes: float64(5), int64(2), object(17)\n",
      "memory usage: 9.4+ MB\n"
     ]
    }
   ],
   "source": [
    "# Display information about the DataFrame, including the data types and non-null values\n",
    "df.info()"
   ]
  },
  {
   "cell_type": "code",
   "execution_count": 7,
   "id": "06dd8171",
   "metadata": {},
   "outputs": [
    {
     "data": {
      "text/plain": [
       "(51290, 24)"
      ]
     },
     "execution_count": 7,
     "metadata": {},
     "output_type": "execute_result"
    }
   ],
   "source": [
    "# Display the shape of the DataFrame to understand its dimensions (rows, columns)\n",
    "df.shape"
   ]
  },
  {
   "cell_type": "code",
   "execution_count": 8,
   "id": "3931757a",
   "metadata": {},
   "outputs": [
    {
     "data": {
      "text/html": [
       "<div>\n",
       "<style scoped>\n",
       "    .dataframe tbody tr th:only-of-type {\n",
       "        vertical-align: middle;\n",
       "    }\n",
       "\n",
       "    .dataframe tbody tr th {\n",
       "        vertical-align: top;\n",
       "    }\n",
       "\n",
       "    .dataframe thead th {\n",
       "        text-align: right;\n",
       "    }\n",
       "</style>\n",
       "<table border=\"1\" class=\"dataframe\">\n",
       "  <thead>\n",
       "    <tr style=\"text-align: right;\">\n",
       "      <th></th>\n",
       "      <th>Row ID</th>\n",
       "      <th>Postal Code</th>\n",
       "      <th>Sales</th>\n",
       "      <th>Quantity</th>\n",
       "      <th>Discount</th>\n",
       "      <th>Profit</th>\n",
       "      <th>Shipping Cost</th>\n",
       "    </tr>\n",
       "  </thead>\n",
       "  <tbody>\n",
       "    <tr>\n",
       "      <th>count</th>\n",
       "      <td>51290.00000</td>\n",
       "      <td>9994.000000</td>\n",
       "      <td>51290.000000</td>\n",
       "      <td>51290.000000</td>\n",
       "      <td>51290.000000</td>\n",
       "      <td>51290.000000</td>\n",
       "      <td>51290.000000</td>\n",
       "    </tr>\n",
       "    <tr>\n",
       "      <th>mean</th>\n",
       "      <td>25645.50000</td>\n",
       "      <td>55190.379428</td>\n",
       "      <td>246.490581</td>\n",
       "      <td>3.476545</td>\n",
       "      <td>0.142908</td>\n",
       "      <td>28.610982</td>\n",
       "      <td>26.375915</td>\n",
       "    </tr>\n",
       "    <tr>\n",
       "      <th>std</th>\n",
       "      <td>14806.29199</td>\n",
       "      <td>32063.693350</td>\n",
       "      <td>487.565361</td>\n",
       "      <td>2.278766</td>\n",
       "      <td>0.212280</td>\n",
       "      <td>174.340972</td>\n",
       "      <td>57.296804</td>\n",
       "    </tr>\n",
       "    <tr>\n",
       "      <th>min</th>\n",
       "      <td>1.00000</td>\n",
       "      <td>1040.000000</td>\n",
       "      <td>0.444000</td>\n",
       "      <td>1.000000</td>\n",
       "      <td>0.000000</td>\n",
       "      <td>-6599.978000</td>\n",
       "      <td>0.000000</td>\n",
       "    </tr>\n",
       "    <tr>\n",
       "      <th>25%</th>\n",
       "      <td>12823.25000</td>\n",
       "      <td>23223.000000</td>\n",
       "      <td>30.758625</td>\n",
       "      <td>2.000000</td>\n",
       "      <td>0.000000</td>\n",
       "      <td>0.000000</td>\n",
       "      <td>2.610000</td>\n",
       "    </tr>\n",
       "    <tr>\n",
       "      <th>50%</th>\n",
       "      <td>25645.50000</td>\n",
       "      <td>56430.500000</td>\n",
       "      <td>85.053000</td>\n",
       "      <td>3.000000</td>\n",
       "      <td>0.000000</td>\n",
       "      <td>9.240000</td>\n",
       "      <td>7.790000</td>\n",
       "    </tr>\n",
       "    <tr>\n",
       "      <th>75%</th>\n",
       "      <td>38467.75000</td>\n",
       "      <td>90008.000000</td>\n",
       "      <td>251.053200</td>\n",
       "      <td>5.000000</td>\n",
       "      <td>0.200000</td>\n",
       "      <td>36.810000</td>\n",
       "      <td>24.450000</td>\n",
       "    </tr>\n",
       "    <tr>\n",
       "      <th>max</th>\n",
       "      <td>51290.00000</td>\n",
       "      <td>99301.000000</td>\n",
       "      <td>22638.480000</td>\n",
       "      <td>14.000000</td>\n",
       "      <td>0.850000</td>\n",
       "      <td>8399.976000</td>\n",
       "      <td>933.570000</td>\n",
       "    </tr>\n",
       "  </tbody>\n",
       "</table>\n",
       "</div>"
      ],
      "text/plain": [
       "            Row ID   Postal Code         Sales      Quantity      Discount  \\\n",
       "count  51290.00000   9994.000000  51290.000000  51290.000000  51290.000000   \n",
       "mean   25645.50000  55190.379428    246.490581      3.476545      0.142908   \n",
       "std    14806.29199  32063.693350    487.565361      2.278766      0.212280   \n",
       "min        1.00000   1040.000000      0.444000      1.000000      0.000000   \n",
       "25%    12823.25000  23223.000000     30.758625      2.000000      0.000000   \n",
       "50%    25645.50000  56430.500000     85.053000      3.000000      0.000000   \n",
       "75%    38467.75000  90008.000000    251.053200      5.000000      0.200000   \n",
       "max    51290.00000  99301.000000  22638.480000     14.000000      0.850000   \n",
       "\n",
       "             Profit  Shipping Cost  \n",
       "count  51290.000000   51290.000000  \n",
       "mean      28.610982      26.375915  \n",
       "std      174.340972      57.296804  \n",
       "min    -6599.978000       0.000000  \n",
       "25%        0.000000       2.610000  \n",
       "50%        9.240000       7.790000  \n",
       "75%       36.810000      24.450000  \n",
       "max     8399.976000     933.570000  "
      ]
     },
     "execution_count": 8,
     "metadata": {},
     "output_type": "execute_result"
    }
   ],
   "source": [
    "# Generate descriptive statistics for the DataFrame\n",
    "df.describe()"
   ]
  },
  {
   "cell_type": "code",
   "execution_count": 9,
   "id": "9a884501",
   "metadata": {},
   "outputs": [
    {
     "data": {
      "text/html": [
       "<div>\n",
       "<style scoped>\n",
       "    .dataframe tbody tr th:only-of-type {\n",
       "        vertical-align: middle;\n",
       "    }\n",
       "\n",
       "    .dataframe tbody tr th {\n",
       "        vertical-align: top;\n",
       "    }\n",
       "\n",
       "    .dataframe thead th {\n",
       "        text-align: right;\n",
       "    }\n",
       "</style>\n",
       "<table border=\"1\" class=\"dataframe\">\n",
       "  <thead>\n",
       "    <tr style=\"text-align: right;\">\n",
       "      <th></th>\n",
       "      <th>Row ID</th>\n",
       "      <th>Order ID</th>\n",
       "      <th>Order Date</th>\n",
       "      <th>Ship Date</th>\n",
       "      <th>Ship Mode</th>\n",
       "      <th>Customer ID</th>\n",
       "      <th>Customer Name</th>\n",
       "      <th>Segment</th>\n",
       "      <th>City</th>\n",
       "      <th>State</th>\n",
       "      <th>...</th>\n",
       "      <th>Product ID</th>\n",
       "      <th>Category</th>\n",
       "      <th>Sub-Category</th>\n",
       "      <th>Product Name</th>\n",
       "      <th>Sales</th>\n",
       "      <th>Quantity</th>\n",
       "      <th>Discount</th>\n",
       "      <th>Profit</th>\n",
       "      <th>Shipping Cost</th>\n",
       "      <th>Order Priority</th>\n",
       "    </tr>\n",
       "  </thead>\n",
       "  <tbody>\n",
       "    <tr>\n",
       "      <th>count</th>\n",
       "      <td>51290.00000</td>\n",
       "      <td>51290</td>\n",
       "      <td>51290</td>\n",
       "      <td>51290</td>\n",
       "      <td>51290</td>\n",
       "      <td>51290</td>\n",
       "      <td>51290</td>\n",
       "      <td>51290</td>\n",
       "      <td>51290</td>\n",
       "      <td>51290</td>\n",
       "      <td>...</td>\n",
       "      <td>51290</td>\n",
       "      <td>51290</td>\n",
       "      <td>51290</td>\n",
       "      <td>51290</td>\n",
       "      <td>51290.000000</td>\n",
       "      <td>51290.000000</td>\n",
       "      <td>51290.000000</td>\n",
       "      <td>51290.000000</td>\n",
       "      <td>51290.000000</td>\n",
       "      <td>51290</td>\n",
       "    </tr>\n",
       "    <tr>\n",
       "      <th>unique</th>\n",
       "      <td>NaN</td>\n",
       "      <td>25035</td>\n",
       "      <td>1430</td>\n",
       "      <td>1430</td>\n",
       "      <td>4</td>\n",
       "      <td>1590</td>\n",
       "      <td>795</td>\n",
       "      <td>3</td>\n",
       "      <td>3636</td>\n",
       "      <td>1094</td>\n",
       "      <td>...</td>\n",
       "      <td>10292</td>\n",
       "      <td>3</td>\n",
       "      <td>17</td>\n",
       "      <td>3788</td>\n",
       "      <td>NaN</td>\n",
       "      <td>NaN</td>\n",
       "      <td>NaN</td>\n",
       "      <td>NaN</td>\n",
       "      <td>NaN</td>\n",
       "      <td>4</td>\n",
       "    </tr>\n",
       "    <tr>\n",
       "      <th>top</th>\n",
       "      <td>NaN</td>\n",
       "      <td>CA-2014-100111</td>\n",
       "      <td>18-06-2014</td>\n",
       "      <td>18-06-2014</td>\n",
       "      <td>Standard Class</td>\n",
       "      <td>PO-18850</td>\n",
       "      <td>Muhammed Yedwab</td>\n",
       "      <td>Consumer</td>\n",
       "      <td>New York City</td>\n",
       "      <td>California</td>\n",
       "      <td>...</td>\n",
       "      <td>OFF-AR-10003651</td>\n",
       "      <td>Office Supplies</td>\n",
       "      <td>Binders</td>\n",
       "      <td>Staples</td>\n",
       "      <td>NaN</td>\n",
       "      <td>NaN</td>\n",
       "      <td>NaN</td>\n",
       "      <td>NaN</td>\n",
       "      <td>NaN</td>\n",
       "      <td>Medium</td>\n",
       "    </tr>\n",
       "    <tr>\n",
       "      <th>freq</th>\n",
       "      <td>NaN</td>\n",
       "      <td>14</td>\n",
       "      <td>135</td>\n",
       "      <td>135</td>\n",
       "      <td>30775</td>\n",
       "      <td>97</td>\n",
       "      <td>108</td>\n",
       "      <td>26518</td>\n",
       "      <td>915</td>\n",
       "      <td>2001</td>\n",
       "      <td>...</td>\n",
       "      <td>35</td>\n",
       "      <td>31273</td>\n",
       "      <td>6152</td>\n",
       "      <td>227</td>\n",
       "      <td>NaN</td>\n",
       "      <td>NaN</td>\n",
       "      <td>NaN</td>\n",
       "      <td>NaN</td>\n",
       "      <td>NaN</td>\n",
       "      <td>29433</td>\n",
       "    </tr>\n",
       "    <tr>\n",
       "      <th>mean</th>\n",
       "      <td>25645.50000</td>\n",
       "      <td>NaN</td>\n",
       "      <td>NaN</td>\n",
       "      <td>NaN</td>\n",
       "      <td>NaN</td>\n",
       "      <td>NaN</td>\n",
       "      <td>NaN</td>\n",
       "      <td>NaN</td>\n",
       "      <td>NaN</td>\n",
       "      <td>NaN</td>\n",
       "      <td>...</td>\n",
       "      <td>NaN</td>\n",
       "      <td>NaN</td>\n",
       "      <td>NaN</td>\n",
       "      <td>NaN</td>\n",
       "      <td>246.490581</td>\n",
       "      <td>3.476545</td>\n",
       "      <td>0.142908</td>\n",
       "      <td>28.610982</td>\n",
       "      <td>26.375915</td>\n",
       "      <td>NaN</td>\n",
       "    </tr>\n",
       "    <tr>\n",
       "      <th>std</th>\n",
       "      <td>14806.29199</td>\n",
       "      <td>NaN</td>\n",
       "      <td>NaN</td>\n",
       "      <td>NaN</td>\n",
       "      <td>NaN</td>\n",
       "      <td>NaN</td>\n",
       "      <td>NaN</td>\n",
       "      <td>NaN</td>\n",
       "      <td>NaN</td>\n",
       "      <td>NaN</td>\n",
       "      <td>...</td>\n",
       "      <td>NaN</td>\n",
       "      <td>NaN</td>\n",
       "      <td>NaN</td>\n",
       "      <td>NaN</td>\n",
       "      <td>487.565361</td>\n",
       "      <td>2.278766</td>\n",
       "      <td>0.212280</td>\n",
       "      <td>174.340972</td>\n",
       "      <td>57.296804</td>\n",
       "      <td>NaN</td>\n",
       "    </tr>\n",
       "    <tr>\n",
       "      <th>min</th>\n",
       "      <td>1.00000</td>\n",
       "      <td>NaN</td>\n",
       "      <td>NaN</td>\n",
       "      <td>NaN</td>\n",
       "      <td>NaN</td>\n",
       "      <td>NaN</td>\n",
       "      <td>NaN</td>\n",
       "      <td>NaN</td>\n",
       "      <td>NaN</td>\n",
       "      <td>NaN</td>\n",
       "      <td>...</td>\n",
       "      <td>NaN</td>\n",
       "      <td>NaN</td>\n",
       "      <td>NaN</td>\n",
       "      <td>NaN</td>\n",
       "      <td>0.444000</td>\n",
       "      <td>1.000000</td>\n",
       "      <td>0.000000</td>\n",
       "      <td>-6599.978000</td>\n",
       "      <td>0.000000</td>\n",
       "      <td>NaN</td>\n",
       "    </tr>\n",
       "    <tr>\n",
       "      <th>25%</th>\n",
       "      <td>12823.25000</td>\n",
       "      <td>NaN</td>\n",
       "      <td>NaN</td>\n",
       "      <td>NaN</td>\n",
       "      <td>NaN</td>\n",
       "      <td>NaN</td>\n",
       "      <td>NaN</td>\n",
       "      <td>NaN</td>\n",
       "      <td>NaN</td>\n",
       "      <td>NaN</td>\n",
       "      <td>...</td>\n",
       "      <td>NaN</td>\n",
       "      <td>NaN</td>\n",
       "      <td>NaN</td>\n",
       "      <td>NaN</td>\n",
       "      <td>30.758625</td>\n",
       "      <td>2.000000</td>\n",
       "      <td>0.000000</td>\n",
       "      <td>0.000000</td>\n",
       "      <td>2.610000</td>\n",
       "      <td>NaN</td>\n",
       "    </tr>\n",
       "    <tr>\n",
       "      <th>50%</th>\n",
       "      <td>25645.50000</td>\n",
       "      <td>NaN</td>\n",
       "      <td>NaN</td>\n",
       "      <td>NaN</td>\n",
       "      <td>NaN</td>\n",
       "      <td>NaN</td>\n",
       "      <td>NaN</td>\n",
       "      <td>NaN</td>\n",
       "      <td>NaN</td>\n",
       "      <td>NaN</td>\n",
       "      <td>...</td>\n",
       "      <td>NaN</td>\n",
       "      <td>NaN</td>\n",
       "      <td>NaN</td>\n",
       "      <td>NaN</td>\n",
       "      <td>85.053000</td>\n",
       "      <td>3.000000</td>\n",
       "      <td>0.000000</td>\n",
       "      <td>9.240000</td>\n",
       "      <td>7.790000</td>\n",
       "      <td>NaN</td>\n",
       "    </tr>\n",
       "    <tr>\n",
       "      <th>75%</th>\n",
       "      <td>38467.75000</td>\n",
       "      <td>NaN</td>\n",
       "      <td>NaN</td>\n",
       "      <td>NaN</td>\n",
       "      <td>NaN</td>\n",
       "      <td>NaN</td>\n",
       "      <td>NaN</td>\n",
       "      <td>NaN</td>\n",
       "      <td>NaN</td>\n",
       "      <td>NaN</td>\n",
       "      <td>...</td>\n",
       "      <td>NaN</td>\n",
       "      <td>NaN</td>\n",
       "      <td>NaN</td>\n",
       "      <td>NaN</td>\n",
       "      <td>251.053200</td>\n",
       "      <td>5.000000</td>\n",
       "      <td>0.200000</td>\n",
       "      <td>36.810000</td>\n",
       "      <td>24.450000</td>\n",
       "      <td>NaN</td>\n",
       "    </tr>\n",
       "    <tr>\n",
       "      <th>max</th>\n",
       "      <td>51290.00000</td>\n",
       "      <td>NaN</td>\n",
       "      <td>NaN</td>\n",
       "      <td>NaN</td>\n",
       "      <td>NaN</td>\n",
       "      <td>NaN</td>\n",
       "      <td>NaN</td>\n",
       "      <td>NaN</td>\n",
       "      <td>NaN</td>\n",
       "      <td>NaN</td>\n",
       "      <td>...</td>\n",
       "      <td>NaN</td>\n",
       "      <td>NaN</td>\n",
       "      <td>NaN</td>\n",
       "      <td>NaN</td>\n",
       "      <td>22638.480000</td>\n",
       "      <td>14.000000</td>\n",
       "      <td>0.850000</td>\n",
       "      <td>8399.976000</td>\n",
       "      <td>933.570000</td>\n",
       "      <td>NaN</td>\n",
       "    </tr>\n",
       "  </tbody>\n",
       "</table>\n",
       "<p>11 rows × 24 columns</p>\n",
       "</div>"
      ],
      "text/plain": [
       "             Row ID        Order ID  Order Date   Ship Date       Ship Mode  \\\n",
       "count   51290.00000           51290       51290       51290           51290   \n",
       "unique          NaN           25035        1430        1430               4   \n",
       "top             NaN  CA-2014-100111  18-06-2014  18-06-2014  Standard Class   \n",
       "freq            NaN              14         135         135           30775   \n",
       "mean    25645.50000             NaN         NaN         NaN             NaN   \n",
       "std     14806.29199             NaN         NaN         NaN             NaN   \n",
       "min         1.00000             NaN         NaN         NaN             NaN   \n",
       "25%     12823.25000             NaN         NaN         NaN             NaN   \n",
       "50%     25645.50000             NaN         NaN         NaN             NaN   \n",
       "75%     38467.75000             NaN         NaN         NaN             NaN   \n",
       "max     51290.00000             NaN         NaN         NaN             NaN   \n",
       "\n",
       "       Customer ID    Customer Name   Segment           City       State  ...  \\\n",
       "count        51290            51290     51290          51290       51290  ...   \n",
       "unique        1590              795         3           3636        1094  ...   \n",
       "top       PO-18850  Muhammed Yedwab  Consumer  New York City  California  ...   \n",
       "freq            97              108     26518            915        2001  ...   \n",
       "mean           NaN              NaN       NaN            NaN         NaN  ...   \n",
       "std            NaN              NaN       NaN            NaN         NaN  ...   \n",
       "min            NaN              NaN       NaN            NaN         NaN  ...   \n",
       "25%            NaN              NaN       NaN            NaN         NaN  ...   \n",
       "50%            NaN              NaN       NaN            NaN         NaN  ...   \n",
       "75%            NaN              NaN       NaN            NaN         NaN  ...   \n",
       "max            NaN              NaN       NaN            NaN         NaN  ...   \n",
       "\n",
       "             Product ID         Category Sub-Category Product Name  \\\n",
       "count             51290            51290        51290        51290   \n",
       "unique            10292                3           17         3788   \n",
       "top     OFF-AR-10003651  Office Supplies      Binders      Staples   \n",
       "freq                 35            31273         6152          227   \n",
       "mean                NaN              NaN          NaN          NaN   \n",
       "std                 NaN              NaN          NaN          NaN   \n",
       "min                 NaN              NaN          NaN          NaN   \n",
       "25%                 NaN              NaN          NaN          NaN   \n",
       "50%                 NaN              NaN          NaN          NaN   \n",
       "75%                 NaN              NaN          NaN          NaN   \n",
       "max                 NaN              NaN          NaN          NaN   \n",
       "\n",
       "               Sales      Quantity      Discount        Profit  Shipping Cost  \\\n",
       "count   51290.000000  51290.000000  51290.000000  51290.000000   51290.000000   \n",
       "unique           NaN           NaN           NaN           NaN            NaN   \n",
       "top              NaN           NaN           NaN           NaN            NaN   \n",
       "freq             NaN           NaN           NaN           NaN            NaN   \n",
       "mean      246.490581      3.476545      0.142908     28.610982      26.375915   \n",
       "std       487.565361      2.278766      0.212280    174.340972      57.296804   \n",
       "min         0.444000      1.000000      0.000000  -6599.978000       0.000000   \n",
       "25%        30.758625      2.000000      0.000000      0.000000       2.610000   \n",
       "50%        85.053000      3.000000      0.000000      9.240000       7.790000   \n",
       "75%       251.053200      5.000000      0.200000     36.810000      24.450000   \n",
       "max     22638.480000     14.000000      0.850000   8399.976000     933.570000   \n",
       "\n",
       "        Order Priority  \n",
       "count            51290  \n",
       "unique               4  \n",
       "top             Medium  \n",
       "freq             29433  \n",
       "mean               NaN  \n",
       "std                NaN  \n",
       "min                NaN  \n",
       "25%                NaN  \n",
       "50%                NaN  \n",
       "75%                NaN  \n",
       "max                NaN  \n",
       "\n",
       "[11 rows x 24 columns]"
      ]
     },
     "execution_count": 9,
     "metadata": {},
     "output_type": "execute_result"
    }
   ],
   "source": [
    "# Display descriptive statistics for all columns, including categorical ones\n",
    "df.describe(include='all')"
   ]
  },
  {
   "cell_type": "code",
   "execution_count": 10,
   "id": "dd178aff",
   "metadata": {},
   "outputs": [
    {
     "data": {
      "text/plain": [
       "Row ID              int64\n",
       "Order ID           object\n",
       "Order Date         object\n",
       "Ship Date          object\n",
       "Ship Mode          object\n",
       "Customer ID        object\n",
       "Customer Name      object\n",
       "Segment            object\n",
       "City               object\n",
       "State              object\n",
       "Country            object\n",
       "Postal Code       float64\n",
       "Market             object\n",
       "Region             object\n",
       "Product ID         object\n",
       "Category           object\n",
       "Sub-Category       object\n",
       "Product Name       object\n",
       "Sales             float64\n",
       "Quantity            int64\n",
       "Discount          float64\n",
       "Profit            float64\n",
       "Shipping Cost     float64\n",
       "Order Priority     object\n",
       "dtype: object"
      ]
     },
     "execution_count": 10,
     "metadata": {},
     "output_type": "execute_result"
    }
   ],
   "source": [
    "# Display the data types of each column in the DataFrame\n",
    "df.dtypes"
   ]
  },
  {
   "cell_type": "code",
   "execution_count": 11,
   "id": "a10c0eb4",
   "metadata": {},
   "outputs": [
    {
     "data": {
      "text/html": [
       "<div>\n",
       "<style scoped>\n",
       "    .dataframe tbody tr th:only-of-type {\n",
       "        vertical-align: middle;\n",
       "    }\n",
       "\n",
       "    .dataframe tbody tr th {\n",
       "        vertical-align: top;\n",
       "    }\n",
       "\n",
       "    .dataframe thead th {\n",
       "        text-align: right;\n",
       "    }\n",
       "</style>\n",
       "<table border=\"1\" class=\"dataframe\">\n",
       "  <thead>\n",
       "    <tr style=\"text-align: right;\">\n",
       "      <th></th>\n",
       "      <th>Postal Code</th>\n",
       "      <th>Sales</th>\n",
       "      <th>Discount</th>\n",
       "      <th>Profit</th>\n",
       "      <th>Shipping Cost</th>\n",
       "    </tr>\n",
       "  </thead>\n",
       "  <tbody>\n",
       "    <tr>\n",
       "      <th>0</th>\n",
       "      <td>10024.0</td>\n",
       "      <td>2309.650</td>\n",
       "      <td>0.0</td>\n",
       "      <td>762.1845</td>\n",
       "      <td>933.57</td>\n",
       "    </tr>\n",
       "    <tr>\n",
       "      <th>1</th>\n",
       "      <td>NaN</td>\n",
       "      <td>3709.395</td>\n",
       "      <td>0.1</td>\n",
       "      <td>-288.7650</td>\n",
       "      <td>923.63</td>\n",
       "    </tr>\n",
       "    <tr>\n",
       "      <th>2</th>\n",
       "      <td>NaN</td>\n",
       "      <td>5175.171</td>\n",
       "      <td>0.1</td>\n",
       "      <td>919.9710</td>\n",
       "      <td>915.49</td>\n",
       "    </tr>\n",
       "    <tr>\n",
       "      <th>3</th>\n",
       "      <td>NaN</td>\n",
       "      <td>2892.510</td>\n",
       "      <td>0.1</td>\n",
       "      <td>-96.5400</td>\n",
       "      <td>910.16</td>\n",
       "    </tr>\n",
       "    <tr>\n",
       "      <th>4</th>\n",
       "      <td>NaN</td>\n",
       "      <td>2832.960</td>\n",
       "      <td>0.0</td>\n",
       "      <td>311.5200</td>\n",
       "      <td>903.04</td>\n",
       "    </tr>\n",
       "  </tbody>\n",
       "</table>\n",
       "</div>"
      ],
      "text/plain": [
       "   Postal Code     Sales  Discount    Profit  Shipping Cost\n",
       "0      10024.0  2309.650       0.0  762.1845         933.57\n",
       "1          NaN  3709.395       0.1 -288.7650         923.63\n",
       "2          NaN  5175.171       0.1  919.9710         915.49\n",
       "3          NaN  2892.510       0.1  -96.5400         910.16\n",
       "4          NaN  2832.960       0.0  311.5200         903.04"
      ]
     },
     "execution_count": 11,
     "metadata": {},
     "output_type": "execute_result"
    }
   ],
   "source": [
    "# Select specific columns with float data types from the DataFrame\n",
    "float_type = df[['Postal Code', 'Sales', 'Discount', 'Profit', 'Shipping Cost']]\n",
    "float_type.head()"
   ]
  },
  {
   "cell_type": "code",
   "execution_count": 12,
   "id": "d2375295",
   "metadata": {},
   "outputs": [
    {
     "data": {
      "text/html": [
       "<div>\n",
       "<style scoped>\n",
       "    .dataframe tbody tr th:only-of-type {\n",
       "        vertical-align: middle;\n",
       "    }\n",
       "\n",
       "    .dataframe tbody tr th {\n",
       "        vertical-align: top;\n",
       "    }\n",
       "\n",
       "    .dataframe thead th {\n",
       "        text-align: right;\n",
       "    }\n",
       "</style>\n",
       "<table border=\"1\" class=\"dataframe\">\n",
       "  <thead>\n",
       "    <tr style=\"text-align: right;\">\n",
       "      <th></th>\n",
       "      <th>Row ID</th>\n",
       "      <th>Order ID</th>\n",
       "      <th>Ship Mode</th>\n",
       "      <th>Customer ID</th>\n",
       "      <th>Customer Name</th>\n",
       "      <th>Segment</th>\n",
       "      <th>City</th>\n",
       "      <th>State</th>\n",
       "      <th>Country</th>\n",
       "    </tr>\n",
       "  </thead>\n",
       "  <tbody>\n",
       "    <tr>\n",
       "      <th>0</th>\n",
       "      <td>32298</td>\n",
       "      <td>CA-2012-124891</td>\n",
       "      <td>Same Day</td>\n",
       "      <td>RH-19495</td>\n",
       "      <td>Rick Hansen</td>\n",
       "      <td>Consumer</td>\n",
       "      <td>New York City</td>\n",
       "      <td>New York</td>\n",
       "      <td>United States</td>\n",
       "    </tr>\n",
       "    <tr>\n",
       "      <th>1</th>\n",
       "      <td>26341</td>\n",
       "      <td>IN-2013-77878</td>\n",
       "      <td>Second Class</td>\n",
       "      <td>JR-16210</td>\n",
       "      <td>Justin Ritter</td>\n",
       "      <td>Corporate</td>\n",
       "      <td>Wollongong</td>\n",
       "      <td>New South Wales</td>\n",
       "      <td>Australia</td>\n",
       "    </tr>\n",
       "    <tr>\n",
       "      <th>2</th>\n",
       "      <td>25330</td>\n",
       "      <td>IN-2013-71249</td>\n",
       "      <td>First Class</td>\n",
       "      <td>CR-12730</td>\n",
       "      <td>Craig Reiter</td>\n",
       "      <td>Consumer</td>\n",
       "      <td>Brisbane</td>\n",
       "      <td>Queensland</td>\n",
       "      <td>Australia</td>\n",
       "    </tr>\n",
       "    <tr>\n",
       "      <th>3</th>\n",
       "      <td>13524</td>\n",
       "      <td>ES-2013-1579342</td>\n",
       "      <td>First Class</td>\n",
       "      <td>KM-16375</td>\n",
       "      <td>Katherine Murray</td>\n",
       "      <td>Home Office</td>\n",
       "      <td>Berlin</td>\n",
       "      <td>Berlin</td>\n",
       "      <td>Germany</td>\n",
       "    </tr>\n",
       "    <tr>\n",
       "      <th>4</th>\n",
       "      <td>47221</td>\n",
       "      <td>SG-2013-4320</td>\n",
       "      <td>Same Day</td>\n",
       "      <td>RH-9495</td>\n",
       "      <td>Rick Hansen</td>\n",
       "      <td>Consumer</td>\n",
       "      <td>Dakar</td>\n",
       "      <td>Dakar</td>\n",
       "      <td>Senegal</td>\n",
       "    </tr>\n",
       "  </tbody>\n",
       "</table>\n",
       "</div>"
      ],
      "text/plain": [
       "   Row ID         Order ID     Ship Mode Customer ID     Customer Name  \\\n",
       "0   32298   CA-2012-124891      Same Day    RH-19495       Rick Hansen   \n",
       "1   26341    IN-2013-77878  Second Class    JR-16210     Justin Ritter   \n",
       "2   25330    IN-2013-71249   First Class    CR-12730      Craig Reiter   \n",
       "3   13524  ES-2013-1579342   First Class    KM-16375  Katherine Murray   \n",
       "4   47221     SG-2013-4320      Same Day     RH-9495       Rick Hansen   \n",
       "\n",
       "       Segment           City            State        Country  \n",
       "0     Consumer  New York City         New York  United States  \n",
       "1    Corporate     Wollongong  New South Wales      Australia  \n",
       "2     Consumer       Brisbane       Queensland      Australia  \n",
       "3  Home Office         Berlin           Berlin        Germany  \n",
       "4     Consumer          Dakar            Dakar        Senegal  "
      ]
     },
     "execution_count": 12,
     "metadata": {},
     "output_type": "execute_result"
    }
   ],
   "source": [
    "# Select specific columns with non-float data types from the DataFrame\n",
    "else_type = df[['Row ID','Order ID', 'Ship Mode', 'Customer ID', 'Customer Name', 'Segment', 'City', 'State', 'Country']]\n",
    "else_type.head()"
   ]
  },
  {
   "cell_type": "code",
   "execution_count": 13,
   "id": "6f5820cc",
   "metadata": {},
   "outputs": [
    {
     "data": {
      "text/html": [
       "<div>\n",
       "<style scoped>\n",
       "    .dataframe tbody tr th:only-of-type {\n",
       "        vertical-align: middle;\n",
       "    }\n",
       "\n",
       "    .dataframe tbody tr th {\n",
       "        vertical-align: top;\n",
       "    }\n",
       "\n",
       "    .dataframe thead th {\n",
       "        text-align: right;\n",
       "    }\n",
       "</style>\n",
       "<table border=\"1\" class=\"dataframe\">\n",
       "  <thead>\n",
       "    <tr style=\"text-align: right;\">\n",
       "      <th></th>\n",
       "      <th>Order Date</th>\n",
       "      <th>Ship Date</th>\n",
       "    </tr>\n",
       "  </thead>\n",
       "  <tbody>\n",
       "    <tr>\n",
       "      <th>0</th>\n",
       "      <td>31-07-2012</td>\n",
       "      <td>31-07-2012</td>\n",
       "    </tr>\n",
       "    <tr>\n",
       "      <th>1</th>\n",
       "      <td>2/5/2013</td>\n",
       "      <td>5/2/2013</td>\n",
       "    </tr>\n",
       "    <tr>\n",
       "      <th>2</th>\n",
       "      <td>17-10-2013</td>\n",
       "      <td>17-10-2013</td>\n",
       "    </tr>\n",
       "    <tr>\n",
       "      <th>3</th>\n",
       "      <td>28-01-2013</td>\n",
       "      <td>28-01-2013</td>\n",
       "    </tr>\n",
       "    <tr>\n",
       "      <th>4</th>\n",
       "      <td>11/5/2013</td>\n",
       "      <td>5/11/2013</td>\n",
       "    </tr>\n",
       "  </tbody>\n",
       "</table>\n",
       "</div>"
      ],
      "text/plain": [
       "   Order Date   Ship Date\n",
       "0  31-07-2012  31-07-2012\n",
       "1    2/5/2013    5/2/2013\n",
       "2  17-10-2013  17-10-2013\n",
       "3  28-01-2013  28-01-2013\n",
       "4   11/5/2013   5/11/2013"
      ]
     },
     "execution_count": 13,
     "metadata": {},
     "output_type": "execute_result"
    }
   ],
   "source": [
    "# Select columns containing date information from the DataFrame\n",
    "date_type = df[['Order Date', 'Ship Date']]\n",
    "date_type.head()"
   ]
  },
  {
   "cell_type": "code",
   "execution_count": 14,
   "id": "2e931589",
   "metadata": {},
   "outputs": [],
   "source": [
    "# Convert 'Order Date' and 'Ship Date' columns to datetime format, handling mixed formats and coercing errors\n",
    "df['Order Date'] = pd.to_datetime(df['Order Date'], format='mixed')\n",
    "df['Ship Date'] = pd.to_datetime(df['Ship Date'], format='mixed')"
   ]
  },
  {
   "cell_type": "code",
   "execution_count": 15,
   "id": "a59339f8",
   "metadata": {},
   "outputs": [
    {
     "data": {
      "text/plain": [
       "Row ID            51290\n",
       "Order ID          25035\n",
       "Order Date         1430\n",
       "Ship Date          1430\n",
       "Ship Mode             4\n",
       "Customer ID        1590\n",
       "Customer Name       795\n",
       "Segment               3\n",
       "City               3636\n",
       "State              1094\n",
       "Country             147\n",
       "Postal Code         631\n",
       "Market                7\n",
       "Region               13\n",
       "Product ID        10292\n",
       "Category              3\n",
       "Sub-Category         17\n",
       "Product Name       3788\n",
       "Sales             22995\n",
       "Quantity             14\n",
       "Discount             27\n",
       "Profit            24575\n",
       "Shipping Cost     10037\n",
       "Order Priority        4\n",
       "dtype: int64"
      ]
     },
     "execution_count": 15,
     "metadata": {},
     "output_type": "execute_result"
    }
   ],
   "source": [
    "# Display the number of unique values for each column in the DataFrame\n",
    "df.nunique()"
   ]
  },
  {
   "cell_type": "code",
   "execution_count": 16,
   "id": "22795c29",
   "metadata": {},
   "outputs": [
    {
     "data": {
      "text/plain": [
       "Row ID                     int64\n",
       "Order ID                  object\n",
       "Order Date        datetime64[ns]\n",
       "Ship Date         datetime64[ns]\n",
       "Ship Mode                 object\n",
       "Customer ID               object\n",
       "Customer Name             object\n",
       "Segment                   object\n",
       "City                      object\n",
       "State                     object\n",
       "Country                   object\n",
       "Postal Code              float64\n",
       "Market                    object\n",
       "Region                    object\n",
       "Product ID                object\n",
       "Category                  object\n",
       "Sub-Category              object\n",
       "Product Name              object\n",
       "Sales                    float64\n",
       "Quantity                   int64\n",
       "Discount                 float64\n",
       "Profit                   float64\n",
       "Shipping Cost            float64\n",
       "Order Priority            object\n",
       "dtype: object"
      ]
     },
     "execution_count": 16,
     "metadata": {},
     "output_type": "execute_result"
    }
   ],
   "source": [
    "# Display the data types of each column in the DataFrame after converting date columns to datetime format\n",
    "df.dtypes"
   ]
  },
  {
   "cell_type": "code",
   "execution_count": 17,
   "id": "bd0ed77e",
   "metadata": {},
   "outputs": [
    {
     "data": {
      "text/plain": [
       "Index(['Row ID', 'Order ID', 'Order Date', 'Ship Date', 'Ship Mode',\n",
       "       'Customer ID', 'Customer Name', 'Segment', 'City', 'State', 'Country',\n",
       "       'Postal Code', 'Market', 'Region', 'Product ID', 'Category',\n",
       "       'Sub-Category', 'Product Name', 'Sales', 'Quantity', 'Discount',\n",
       "       'Profit', 'Shipping Cost', 'Order Priority'],\n",
       "      dtype='object')"
      ]
     },
     "execution_count": 17,
     "metadata": {},
     "output_type": "execute_result"
    }
   ],
   "source": [
    "# Display the column names of the DataFrame\n",
    "df.columns"
   ]
  },
  {
   "cell_type": "code",
   "execution_count": 18,
   "id": "4c5be6a0",
   "metadata": {},
   "outputs": [],
   "source": [
    "# Convert specific columns to the 'category' data type to optimize memory usage and improve performance\n",
    "df['Ship Mode'] = df['Ship Mode'].astype('category')\n",
    "df['Segment'] = df['Segment'].astype('category')\n",
    "df['Country'] = df['Country'].astype('category')\n",
    "df['Market'] = df['Market'].astype('category')\n",
    "df['Region'] = df['Region'].astype('category')\n",
    "df['Category'] = df['Category'].astype('category')\n",
    "df['Sub-Category'] = df['Sub-Category'].astype('category')\n",
    "df['Order Priority'] = df['Order Priority'].astype('category')"
   ]
  },
  {
   "cell_type": "code",
   "execution_count": 19,
   "id": "f3cd36ce",
   "metadata": {},
   "outputs": [
    {
     "name": "stdout",
     "output_type": "stream",
     "text": [
      "<class 'pandas.core.frame.DataFrame'>\n",
      "RangeIndex: 51290 entries, 0 to 51289\n",
      "Data columns (total 24 columns):\n",
      " #   Column          Non-Null Count  Dtype         \n",
      "---  ------          --------------  -----         \n",
      " 0   Row ID          51290 non-null  int64         \n",
      " 1   Order ID        51290 non-null  object        \n",
      " 2   Order Date      51290 non-null  datetime64[ns]\n",
      " 3   Ship Date       51290 non-null  datetime64[ns]\n",
      " 4   Ship Mode       51290 non-null  category      \n",
      " 5   Customer ID     51290 non-null  object        \n",
      " 6   Customer Name   51290 non-null  object        \n",
      " 7   Segment         51290 non-null  category      \n",
      " 8   City            51290 non-null  object        \n",
      " 9   State           51290 non-null  object        \n",
      " 10  Country         51290 non-null  category      \n",
      " 11  Postal Code     9994 non-null   float64       \n",
      " 12  Market          51290 non-null  category      \n",
      " 13  Region          51290 non-null  category      \n",
      " 14  Product ID      51290 non-null  object        \n",
      " 15  Category        51290 non-null  category      \n",
      " 16  Sub-Category    51290 non-null  category      \n",
      " 17  Product Name    51290 non-null  object        \n",
      " 18  Sales           51290 non-null  float64       \n",
      " 19  Quantity        51290 non-null  int64         \n",
      " 20  Discount        51290 non-null  float64       \n",
      " 21  Profit          51290 non-null  float64       \n",
      " 22  Shipping Cost   51290 non-null  float64       \n",
      " 23  Order Priority  51290 non-null  category      \n",
      "dtypes: category(8), datetime64[ns](2), float64(5), int64(2), object(7)\n",
      "memory usage: 6.7+ MB\n"
     ]
    }
   ],
   "source": [
    "# Display the updated information about the DataFrame after data type conversions\n",
    "df.info()"
   ]
  },
  {
   "cell_type": "markdown",
   "id": "095ea90c",
   "metadata": {},
   "source": [
    "### Data Cleaning"
   ]
  },
  {
   "cell_type": "code",
   "execution_count": 20,
   "id": "91f58202",
   "metadata": {},
   "outputs": [
    {
     "data": {
      "text/plain": [
       "np.int64(0)"
      ]
     },
     "execution_count": 20,
     "metadata": {},
     "output_type": "execute_result"
    }
   ],
   "source": [
    "# Count the number of duplicate rows in the DataFrame\n",
    "df.duplicated().sum()"
   ]
  },
  {
   "cell_type": "code",
   "execution_count": 21,
   "id": "75f96ed1",
   "metadata": {},
   "outputs": [
    {
     "data": {
      "text/plain": [
       "Row ID                0\n",
       "Order ID              0\n",
       "Order Date            0\n",
       "Ship Date             0\n",
       "Ship Mode             0\n",
       "Customer ID           0\n",
       "Customer Name         0\n",
       "Segment               0\n",
       "City                  0\n",
       "State                 0\n",
       "Country               0\n",
       "Postal Code       41296\n",
       "Market                0\n",
       "Region                0\n",
       "Product ID            0\n",
       "Category              0\n",
       "Sub-Category          0\n",
       "Product Name          0\n",
       "Sales                 0\n",
       "Quantity              0\n",
       "Discount              0\n",
       "Profit                0\n",
       "Shipping Cost         0\n",
       "Order Priority        0\n",
       "dtype: int64"
      ]
     },
     "execution_count": 21,
     "metadata": {},
     "output_type": "execute_result"
    }
   ],
   "source": [
    "# Check for missing values in the DataFrame and count them for each column\n",
    "df.isnull().sum()"
   ]
  },
  {
   "cell_type": "code",
   "execution_count": 22,
   "id": "a4952053",
   "metadata": {},
   "outputs": [
    {
     "data": {
      "text/plain": [
       "(51290, 24)"
      ]
     },
     "execution_count": 22,
     "metadata": {},
     "output_type": "execute_result"
    }
   ],
   "source": [
    "# Display the shape of the DataFrame to understand its dimensions (rows, columns)\n",
    "df.shape"
   ]
  },
  {
   "cell_type": "code",
   "execution_count": 23,
   "id": "823a93ae",
   "metadata": {},
   "outputs": [
    {
     "data": {
      "text/plain": [
       "Row ID            51290\n",
       "Order ID          25035\n",
       "Order Date         1430\n",
       "Ship Date          1430\n",
       "Ship Mode             4\n",
       "Customer ID        1590\n",
       "Customer Name       795\n",
       "Segment               3\n",
       "City               3636\n",
       "State              1094\n",
       "Country             147\n",
       "Postal Code         631\n",
       "Market                7\n",
       "Region               13\n",
       "Product ID        10292\n",
       "Category              3\n",
       "Sub-Category         17\n",
       "Product Name       3788\n",
       "Sales             22995\n",
       "Quantity             14\n",
       "Discount             27\n",
       "Profit            24575\n",
       "Shipping Cost     10037\n",
       "Order Priority        4\n",
       "dtype: int64"
      ]
     },
     "execution_count": 23,
     "metadata": {},
     "output_type": "execute_result"
    }
   ],
   "source": [
    "# Display the number of unique values for each column in the DataFrame\n",
    "df.nunique()"
   ]
  },
  {
   "cell_type": "code",
   "execution_count": 24,
   "id": "7ec208d5",
   "metadata": {},
   "outputs": [
    {
     "data": {
      "text/plain": [
       "np.float64(10035.0)"
      ]
     },
     "execution_count": 24,
     "metadata": {},
     "output_type": "execute_result"
    }
   ],
   "source": [
    "# Calculate the mode of the 'Postal Code' column and store it in the variable 'postal_code_mode'\n",
    "postal_code_mode = df['Postal Code'].mode()[0]\n",
    "postal_code_mode"
   ]
  },
  {
   "cell_type": "code",
   "execution_count": 25,
   "id": "babc4b86",
   "metadata": {},
   "outputs": [
    {
     "data": {
      "text/plain": [
       "0     10024\n",
       "1     10035\n",
       "2     10035\n",
       "3     10035\n",
       "4     10035\n",
       "5     10035\n",
       "6     10035\n",
       "7     10035\n",
       "8     95823\n",
       "9     28027\n",
       "10    22304\n",
       "11    10035\n",
       "12    10035\n",
       "13    10035\n",
       "14    10035\n",
       "15    10035\n",
       "16    42420\n",
       "17    10035\n",
       "18    10035\n",
       "19    10035\n",
       "20    10035\n",
       "21    60610\n",
       "22    10035\n",
       "23    10035\n",
       "24    10035\n",
       "25    10035\n",
       "26    10035\n",
       "27    10035\n",
       "28    90008\n",
       "29    10035\n",
       "Name: Postal Code, dtype: int64"
      ]
     },
     "execution_count": 25,
     "metadata": {},
     "output_type": "execute_result"
    }
   ],
   "source": [
    "# Fill missing values in the 'Postal Code' column with the mode and convert the column to integer type\n",
    "df['Postal Code'] = df['Postal Code'].fillna(postal_code_mode)\n",
    "df['Postal Code'] = df['Postal Code'].astype(int)\n",
    "df['Postal Code'].head(30)"
   ]
  },
  {
   "cell_type": "code",
   "execution_count": 26,
   "id": "e82c345b",
   "metadata": {},
   "outputs": [
    {
     "data": {
      "text/plain": [
       "np.int64(0)"
      ]
     },
     "execution_count": 26,
     "metadata": {},
     "output_type": "execute_result"
    }
   ],
   "source": [
    "# Recheck for missing values after filling the 'Postal Code' column\n",
    "df['Postal Code'].isnull().sum()"
   ]
  },
  {
   "cell_type": "code",
   "execution_count": 27,
   "id": "4f9bd5af",
   "metadata": {},
   "outputs": [
    {
     "data": {
      "text/plain": [
       "Index(['Row ID', 'Order ID', 'Order Date', 'Ship Date', 'Ship Mode',\n",
       "       'Customer ID', 'Customer Name', 'Segment', 'City', 'State', 'Country',\n",
       "       'Postal Code', 'Market', 'Region', 'Product ID', 'Category',\n",
       "       'Sub-Category', 'Product Name', 'Sales', 'Quantity', 'Discount',\n",
       "       'Profit', 'Shipping Cost', 'Order Priority'],\n",
       "      dtype='object')"
      ]
     },
     "execution_count": 27,
     "metadata": {},
     "output_type": "execute_result"
    }
   ],
   "source": [
    "# Display the column names of the DataFrame\n",
    "df.columns"
   ]
  },
  {
   "cell_type": "code",
   "execution_count": 28,
   "id": "27ebe9de",
   "metadata": {},
   "outputs": [
    {
     "data": {
      "text/plain": [
       "0        True\n",
       "1        True\n",
       "2        True\n",
       "3        True\n",
       "4        True\n",
       "         ... \n",
       "51285    True\n",
       "51286    True\n",
       "51287    True\n",
       "51288    True\n",
       "51289    True\n",
       "Name: Sales, Length: 51290, dtype: bool"
      ]
     },
     "execution_count": 28,
     "metadata": {},
     "output_type": "execute_result"
    }
   ],
   "source": [
    "# Check if the 'Sales' column contains only non-negative values\n",
    "sales_nagetive = df['Sales'] >= 0\n",
    "sales_nagetive"
   ]
  },
  {
   "cell_type": "code",
   "execution_count": 29,
   "id": "cb450c8c",
   "metadata": {},
   "outputs": [
    {
     "data": {
      "text/html": [
       "<div>\n",
       "<style scoped>\n",
       "    .dataframe tbody tr th:only-of-type {\n",
       "        vertical-align: middle;\n",
       "    }\n",
       "\n",
       "    .dataframe tbody tr th {\n",
       "        vertical-align: top;\n",
       "    }\n",
       "\n",
       "    .dataframe thead th {\n",
       "        text-align: right;\n",
       "    }\n",
       "</style>\n",
       "<table border=\"1\" class=\"dataframe\">\n",
       "  <thead>\n",
       "    <tr style=\"text-align: right;\">\n",
       "      <th></th>\n",
       "      <th>Row ID</th>\n",
       "      <th>Order ID</th>\n",
       "      <th>Order Date</th>\n",
       "      <th>Ship Date</th>\n",
       "      <th>Ship Mode</th>\n",
       "      <th>Customer ID</th>\n",
       "      <th>Customer Name</th>\n",
       "      <th>Segment</th>\n",
       "      <th>City</th>\n",
       "      <th>State</th>\n",
       "      <th>...</th>\n",
       "      <th>Product ID</th>\n",
       "      <th>Category</th>\n",
       "      <th>Sub-Category</th>\n",
       "      <th>Product Name</th>\n",
       "      <th>Sales</th>\n",
       "      <th>Quantity</th>\n",
       "      <th>Discount</th>\n",
       "      <th>Profit</th>\n",
       "      <th>Shipping Cost</th>\n",
       "      <th>Order Priority</th>\n",
       "    </tr>\n",
       "  </thead>\n",
       "  <tbody>\n",
       "  </tbody>\n",
       "</table>\n",
       "<p>0 rows × 24 columns</p>\n",
       "</div>"
      ],
      "text/plain": [
       "Empty DataFrame\n",
       "Columns: [Row ID, Order ID, Order Date, Ship Date, Ship Mode, Customer ID, Customer Name, Segment, City, State, Country, Postal Code, Market, Region, Product ID, Category, Sub-Category, Product Name, Sales, Quantity, Discount, Profit, Shipping Cost, Order Priority]\n",
       "Index: []\n",
       "\n",
       "[0 rows x 24 columns]"
      ]
     },
     "execution_count": 29,
     "metadata": {},
     "output_type": "execute_result"
    }
   ],
   "source": [
    "# Filter the DataFrame to identify rows where the 'Sales' column has negative values\n",
    "nagetive_sales = df[df['Sales'] < 0]\n",
    "if not nagetive_sales.empty:\n",
    "    print(nagetive_sales)\n",
    "nagetive_sales"
   ]
  },
  {
   "cell_type": "code",
   "execution_count": 30,
   "id": "fd0f62cc",
   "metadata": {},
   "outputs": [
    {
     "name": "stdout",
     "output_type": "stream",
     "text": [
      "nagetive value is 'Profit'\n"
     ]
    },
    {
     "data": {
      "text/html": [
       "<div>\n",
       "<style scoped>\n",
       "    .dataframe tbody tr th:only-of-type {\n",
       "        vertical-align: middle;\n",
       "    }\n",
       "\n",
       "    .dataframe tbody tr th {\n",
       "        vertical-align: top;\n",
       "    }\n",
       "\n",
       "    .dataframe thead th {\n",
       "        text-align: right;\n",
       "    }\n",
       "</style>\n",
       "<table border=\"1\" class=\"dataframe\">\n",
       "  <thead>\n",
       "    <tr style=\"text-align: right;\">\n",
       "      <th></th>\n",
       "      <th>Row ID</th>\n",
       "      <th>Order ID</th>\n",
       "      <th>Order Date</th>\n",
       "      <th>Ship Date</th>\n",
       "      <th>Ship Mode</th>\n",
       "      <th>Customer ID</th>\n",
       "      <th>Customer Name</th>\n",
       "      <th>Segment</th>\n",
       "      <th>City</th>\n",
       "      <th>State</th>\n",
       "      <th>...</th>\n",
       "      <th>Product ID</th>\n",
       "      <th>Category</th>\n",
       "      <th>Sub-Category</th>\n",
       "      <th>Product Name</th>\n",
       "      <th>Sales</th>\n",
       "      <th>Quantity</th>\n",
       "      <th>Discount</th>\n",
       "      <th>Profit</th>\n",
       "      <th>Shipping Cost</th>\n",
       "      <th>Order Priority</th>\n",
       "    </tr>\n",
       "  </thead>\n",
       "  <tbody>\n",
       "    <tr>\n",
       "      <th>1</th>\n",
       "      <td>26341</td>\n",
       "      <td>IN-2013-77878</td>\n",
       "      <td>2013-02-05</td>\n",
       "      <td>2013-05-02</td>\n",
       "      <td>Second Class</td>\n",
       "      <td>JR-16210</td>\n",
       "      <td>Justin Ritter</td>\n",
       "      <td>Corporate</td>\n",
       "      <td>Wollongong</td>\n",
       "      <td>New South Wales</td>\n",
       "      <td>...</td>\n",
       "      <td>FUR-CH-10003950</td>\n",
       "      <td>Furniture</td>\n",
       "      <td>Chairs</td>\n",
       "      <td>Novimex Executive Leather Armchair, Black</td>\n",
       "      <td>3709.3950</td>\n",
       "      <td>9</td>\n",
       "      <td>0.10</td>\n",
       "      <td>-288.7650</td>\n",
       "      <td>923.63</td>\n",
       "      <td>Critical</td>\n",
       "    </tr>\n",
       "    <tr>\n",
       "      <th>3</th>\n",
       "      <td>13524</td>\n",
       "      <td>ES-2013-1579342</td>\n",
       "      <td>2013-01-28</td>\n",
       "      <td>2013-01-28</td>\n",
       "      <td>First Class</td>\n",
       "      <td>KM-16375</td>\n",
       "      <td>Katherine Murray</td>\n",
       "      <td>Home Office</td>\n",
       "      <td>Berlin</td>\n",
       "      <td>Berlin</td>\n",
       "      <td>...</td>\n",
       "      <td>TEC-PH-10004583</td>\n",
       "      <td>Technology</td>\n",
       "      <td>Phones</td>\n",
       "      <td>Motorola Smart Phone, Cordless</td>\n",
       "      <td>2892.5100</td>\n",
       "      <td>5</td>\n",
       "      <td>0.10</td>\n",
       "      <td>-96.5400</td>\n",
       "      <td>910.16</td>\n",
       "      <td>Medium</td>\n",
       "    </tr>\n",
       "    <tr>\n",
       "      <th>9</th>\n",
       "      <td>40936</td>\n",
       "      <td>CA-2012-116638</td>\n",
       "      <td>2012-01-28</td>\n",
       "      <td>2012-01-28</td>\n",
       "      <td>Second Class</td>\n",
       "      <td>JH-15985</td>\n",
       "      <td>Joseph Holt</td>\n",
       "      <td>Consumer</td>\n",
       "      <td>Concord</td>\n",
       "      <td>North Carolina</td>\n",
       "      <td>...</td>\n",
       "      <td>FUR-TA-10000198</td>\n",
       "      <td>Furniture</td>\n",
       "      <td>Tables</td>\n",
       "      <td>Chromcraft Bull-Nose Wood Oval Conference Tabl...</td>\n",
       "      <td>4297.6440</td>\n",
       "      <td>13</td>\n",
       "      <td>0.40</td>\n",
       "      <td>-1862.3124</td>\n",
       "      <td>865.74</td>\n",
       "      <td>Critical</td>\n",
       "    </tr>\n",
       "    <tr>\n",
       "      <th>30</th>\n",
       "      <td>220</td>\n",
       "      <td>US-2011-128776</td>\n",
       "      <td>2011-12-28</td>\n",
       "      <td>2011-12-28</td>\n",
       "      <td>Second Class</td>\n",
       "      <td>RR-19525</td>\n",
       "      <td>Rick Reed</td>\n",
       "      <td>Corporate</td>\n",
       "      <td>Santo Domingo</td>\n",
       "      <td>Santo Domingo</td>\n",
       "      <td>...</td>\n",
       "      <td>TEC-PH-10002815</td>\n",
       "      <td>Technology</td>\n",
       "      <td>Phones</td>\n",
       "      <td>Samsung Smart Phone, VoIP</td>\n",
       "      <td>1696.6400</td>\n",
       "      <td>5</td>\n",
       "      <td>0.20</td>\n",
       "      <td>-148.4600</td>\n",
       "      <td>704.06</td>\n",
       "      <td>Critical</td>\n",
       "    </tr>\n",
       "    <tr>\n",
       "      <th>32</th>\n",
       "      <td>32735</td>\n",
       "      <td>CA-2012-139731</td>\n",
       "      <td>2012-10-15</td>\n",
       "      <td>2012-10-15</td>\n",
       "      <td>Same Day</td>\n",
       "      <td>JE-15745</td>\n",
       "      <td>Joel Eaton</td>\n",
       "      <td>Consumer</td>\n",
       "      <td>Amarillo</td>\n",
       "      <td>Texas</td>\n",
       "      <td>...</td>\n",
       "      <td>FUR-CH-10002024</td>\n",
       "      <td>Furniture</td>\n",
       "      <td>Chairs</td>\n",
       "      <td>HON 5400 Series Task Chairs for Big and Tall</td>\n",
       "      <td>2453.4300</td>\n",
       "      <td>5</td>\n",
       "      <td>0.30</td>\n",
       "      <td>-350.4900</td>\n",
       "      <td>690.42</td>\n",
       "      <td>High</td>\n",
       "    </tr>\n",
       "    <tr>\n",
       "      <th>37</th>\n",
       "      <td>31980</td>\n",
       "      <td>US-2014-168116</td>\n",
       "      <td>2014-11-05</td>\n",
       "      <td>2014-05-11</td>\n",
       "      <td>Same Day</td>\n",
       "      <td>GT-14635</td>\n",
       "      <td>Grant Thornton</td>\n",
       "      <td>Corporate</td>\n",
       "      <td>Burlington</td>\n",
       "      <td>North Carolina</td>\n",
       "      <td>...</td>\n",
       "      <td>TEC-MA-10004125</td>\n",
       "      <td>Technology</td>\n",
       "      <td>Machines</td>\n",
       "      <td>Cubify CubeX 3D Printer Triple Head Print</td>\n",
       "      <td>7999.9800</td>\n",
       "      <td>4</td>\n",
       "      <td>0.50</td>\n",
       "      <td>-3839.9904</td>\n",
       "      <td>674.82</td>\n",
       "      <td>High</td>\n",
       "    </tr>\n",
       "    <tr>\n",
       "      <th>40</th>\n",
       "      <td>21316</td>\n",
       "      <td>ID-2013-63976</td>\n",
       "      <td>2013-08-22</td>\n",
       "      <td>2013-08-22</td>\n",
       "      <td>Standard Class</td>\n",
       "      <td>JB-16000</td>\n",
       "      <td>Joy Bell-</td>\n",
       "      <td>Consumer</td>\n",
       "      <td>Mataram</td>\n",
       "      <td>Nusa Tenggara Barat</td>\n",
       "      <td>...</td>\n",
       "      <td>TEC-PH-10000499</td>\n",
       "      <td>Technology</td>\n",
       "      <td>Phones</td>\n",
       "      <td>Motorola Smart Phone, Full Size</td>\n",
       "      <td>3200.5962</td>\n",
       "      <td>6</td>\n",
       "      <td>0.17</td>\n",
       "      <td>-77.2038</td>\n",
       "      <td>660.87</td>\n",
       "      <td>High</td>\n",
       "    </tr>\n",
       "    <tr>\n",
       "      <th>73</th>\n",
       "      <td>21209</td>\n",
       "      <td>IN-2014-30110</td>\n",
       "      <td>2014-08-26</td>\n",
       "      <td>2014-08-26</td>\n",
       "      <td>First Class</td>\n",
       "      <td>LA-16780</td>\n",
       "      <td>Laura Armstrong</td>\n",
       "      <td>Corporate</td>\n",
       "      <td>Palembang</td>\n",
       "      <td>Sumatera Selatan</td>\n",
       "      <td>...</td>\n",
       "      <td>FUR-TA-10000687</td>\n",
       "      <td>Furniture</td>\n",
       "      <td>Tables</td>\n",
       "      <td>Bevis Conference Table, with Bottom Storage</td>\n",
       "      <td>3427.1496</td>\n",
       "      <td>7</td>\n",
       "      <td>0.47</td>\n",
       "      <td>-452.8104</td>\n",
       "      <td>586.57</td>\n",
       "      <td>High</td>\n",
       "    </tr>\n",
       "    <tr>\n",
       "      <th>83</th>\n",
       "      <td>38540</td>\n",
       "      <td>CA-2014-118892</td>\n",
       "      <td>2014-08-18</td>\n",
       "      <td>2014-08-18</td>\n",
       "      <td>Second Class</td>\n",
       "      <td>TP-21415</td>\n",
       "      <td>Tom Prescott</td>\n",
       "      <td>Consumer</td>\n",
       "      <td>Philadelphia</td>\n",
       "      <td>Pennsylvania</td>\n",
       "      <td>...</td>\n",
       "      <td>FUR-CH-10002024</td>\n",
       "      <td>Furniture</td>\n",
       "      <td>Chairs</td>\n",
       "      <td>HON 5400 Series Task Chairs for Big and Tall</td>\n",
       "      <td>4416.1740</td>\n",
       "      <td>9</td>\n",
       "      <td>0.30</td>\n",
       "      <td>-630.8820</td>\n",
       "      <td>566.65</td>\n",
       "      <td>Medium</td>\n",
       "    </tr>\n",
       "    <tr>\n",
       "      <th>85</th>\n",
       "      <td>23013</td>\n",
       "      <td>ID-2012-78207</td>\n",
       "      <td>2012-09-18</td>\n",
       "      <td>2012-09-18</td>\n",
       "      <td>Second Class</td>\n",
       "      <td>AM-10705</td>\n",
       "      <td>Anne McFarland</td>\n",
       "      <td>Consumer</td>\n",
       "      <td>Bandung</td>\n",
       "      <td>Jawa Barat</td>\n",
       "      <td>...</td>\n",
       "      <td>OFF-AP-10001621</td>\n",
       "      <td>Office Supplies</td>\n",
       "      <td>Appliances</td>\n",
       "      <td>Hamilton Beach Refrigerator, Black</td>\n",
       "      <td>2487.8088</td>\n",
       "      <td>6</td>\n",
       "      <td>0.17</td>\n",
       "      <td>-269.7912</td>\n",
       "      <td>562.14</td>\n",
       "      <td>Critical</td>\n",
       "    </tr>\n",
       "    <tr>\n",
       "      <th>98</th>\n",
       "      <td>15896</td>\n",
       "      <td>IT-2012-1779015</td>\n",
       "      <td>2012-09-29</td>\n",
       "      <td>2012-09-29</td>\n",
       "      <td>Same Day</td>\n",
       "      <td>PM-18940</td>\n",
       "      <td>Paul MacIntyre</td>\n",
       "      <td>Consumer</td>\n",
       "      <td>Boulogne-Billancourt</td>\n",
       "      <td>Ile-de-France</td>\n",
       "      <td>...</td>\n",
       "      <td>TEC-MA-10003515</td>\n",
       "      <td>Technology</td>\n",
       "      <td>Machines</td>\n",
       "      <td>Panasonic Printer, Red</td>\n",
       "      <td>2016.8460</td>\n",
       "      <td>9</td>\n",
       "      <td>0.15</td>\n",
       "      <td>-0.0540</td>\n",
       "      <td>540.77</td>\n",
       "      <td>Critical</td>\n",
       "    </tr>\n",
       "    <tr>\n",
       "      <th>109</th>\n",
       "      <td>11743</td>\n",
       "      <td>IT-2013-5208514</td>\n",
       "      <td>2013-03-13</td>\n",
       "      <td>2013-03-13</td>\n",
       "      <td>Same Day</td>\n",
       "      <td>VM-21685</td>\n",
       "      <td>Valerie Mitchum</td>\n",
       "      <td>Home Office</td>\n",
       "      <td>Bergen op Zoom</td>\n",
       "      <td>North Brabant</td>\n",
       "      <td>...</td>\n",
       "      <td>FUR-CH-10001582</td>\n",
       "      <td>Furniture</td>\n",
       "      <td>Chairs</td>\n",
       "      <td>Office Star Executive Leather Armchair, Black</td>\n",
       "      <td>2570.8650</td>\n",
       "      <td>11</td>\n",
       "      <td>0.50</td>\n",
       "      <td>-2211.1650</td>\n",
       "      <td>520.89</td>\n",
       "      <td>High</td>\n",
       "    </tr>\n",
       "    <tr>\n",
       "      <th>111</th>\n",
       "      <td>17522</td>\n",
       "      <td>ES-2012-2314672</td>\n",
       "      <td>2012-04-05</td>\n",
       "      <td>2012-05-04</td>\n",
       "      <td>Same Day</td>\n",
       "      <td>DM-13525</td>\n",
       "      <td>Don Miller</td>\n",
       "      <td>Corporate</td>\n",
       "      <td>Hanover</td>\n",
       "      <td>Lower Saxony</td>\n",
       "      <td>...</td>\n",
       "      <td>TEC-PH-10000505</td>\n",
       "      <td>Technology</td>\n",
       "      <td>Phones</td>\n",
       "      <td>Apple Smart Phone, with Caller ID</td>\n",
       "      <td>2875.7700</td>\n",
       "      <td>9</td>\n",
       "      <td>0.50</td>\n",
       "      <td>-1783.0800</td>\n",
       "      <td>516.63</td>\n",
       "      <td>High</td>\n",
       "    </tr>\n",
       "    <tr>\n",
       "      <th>123</th>\n",
       "      <td>24260</td>\n",
       "      <td>ID-2013-79432</td>\n",
       "      <td>2013-12-11</td>\n",
       "      <td>2013-11-12</td>\n",
       "      <td>Second Class</td>\n",
       "      <td>JK-15325</td>\n",
       "      <td>Jason Klamczynski</td>\n",
       "      <td>Corporate</td>\n",
       "      <td>Adelaide</td>\n",
       "      <td>South Australia</td>\n",
       "      <td>...</td>\n",
       "      <td>TEC-CO-10002035</td>\n",
       "      <td>Technology</td>\n",
       "      <td>Copiers</td>\n",
       "      <td>Canon Wireless Fax, High-Speed</td>\n",
       "      <td>1695.8700</td>\n",
       "      <td>5</td>\n",
       "      <td>0.10</td>\n",
       "      <td>-37.8300</td>\n",
       "      <td>498.62</td>\n",
       "      <td>Critical</td>\n",
       "    </tr>\n",
       "    <tr>\n",
       "      <th>124</th>\n",
       "      <td>13646</td>\n",
       "      <td>IT-2014-4499061</td>\n",
       "      <td>2014-03-18</td>\n",
       "      <td>2014-03-18</td>\n",
       "      <td>Second Class</td>\n",
       "      <td>RP-19270</td>\n",
       "      <td>Rachel Payne</td>\n",
       "      <td>Corporate</td>\n",
       "      <td>Chelles</td>\n",
       "      <td>Ile-de-France</td>\n",
       "      <td>...</td>\n",
       "      <td>TEC-CO-10004099</td>\n",
       "      <td>Technology</td>\n",
       "      <td>Copiers</td>\n",
       "      <td>Sharp Fax Machine, Digital</td>\n",
       "      <td>1505.9790</td>\n",
       "      <td>6</td>\n",
       "      <td>0.15</td>\n",
       "      <td>-265.7610</td>\n",
       "      <td>498.52</td>\n",
       "      <td>Critical</td>\n",
       "    </tr>\n",
       "    <tr>\n",
       "      <th>137</th>\n",
       "      <td>30267</td>\n",
       "      <td>ID-2012-66111</td>\n",
       "      <td>2012-06-14</td>\n",
       "      <td>2012-06-14</td>\n",
       "      <td>First Class</td>\n",
       "      <td>AB-10015</td>\n",
       "      <td>Aaron Bergman</td>\n",
       "      <td>Consumer</td>\n",
       "      <td>Wuhan</td>\n",
       "      <td>Hubei</td>\n",
       "      <td>...</td>\n",
       "      <td>TEC-MA-10003704</td>\n",
       "      <td>Technology</td>\n",
       "      <td>Machines</td>\n",
       "      <td>StarTech Printer, Wireless</td>\n",
       "      <td>1024.6800</td>\n",
       "      <td>8</td>\n",
       "      <td>0.50</td>\n",
       "      <td>-286.9200</td>\n",
       "      <td>487.32</td>\n",
       "      <td>Critical</td>\n",
       "    </tr>\n",
       "    <tr>\n",
       "      <th>148</th>\n",
       "      <td>22488</td>\n",
       "      <td>ID-2013-35640</td>\n",
       "      <td>2013-08-27</td>\n",
       "      <td>2013-08-27</td>\n",
       "      <td>Second Class</td>\n",
       "      <td>CR-12625</td>\n",
       "      <td>Corey Roper</td>\n",
       "      <td>Home Office</td>\n",
       "      <td>Brisbane</td>\n",
       "      <td>Queensland</td>\n",
       "      <td>...</td>\n",
       "      <td>FUR-BO-10000288</td>\n",
       "      <td>Furniture</td>\n",
       "      <td>Bookcases</td>\n",
       "      <td>Safco Classic Bookcase, Traditional</td>\n",
       "      <td>2760.3450</td>\n",
       "      <td>7</td>\n",
       "      <td>0.10</td>\n",
       "      <td>-214.7250</td>\n",
       "      <td>475.34</td>\n",
       "      <td>High</td>\n",
       "    </tr>\n",
       "    <tr>\n",
       "      <th>150</th>\n",
       "      <td>15376</td>\n",
       "      <td>IT-2011-3675195</td>\n",
       "      <td>2011-11-03</td>\n",
       "      <td>2011-03-11</td>\n",
       "      <td>First Class</td>\n",
       "      <td>GM-14680</td>\n",
       "      <td>Greg Matthias</td>\n",
       "      <td>Consumer</td>\n",
       "      <td>Amsterdam</td>\n",
       "      <td>North Holland</td>\n",
       "      <td>...</td>\n",
       "      <td>OFF-AP-10001623</td>\n",
       "      <td>Office Supplies</td>\n",
       "      <td>Appliances</td>\n",
       "      <td>Hoover Stove, White</td>\n",
       "      <td>1983.1350</td>\n",
       "      <td>7</td>\n",
       "      <td>0.50</td>\n",
       "      <td>-1784.8950</td>\n",
       "      <td>473.27</td>\n",
       "      <td>High</td>\n",
       "    </tr>\n",
       "    <tr>\n",
       "      <th>156</th>\n",
       "      <td>31696</td>\n",
       "      <td>CA-2013-108987</td>\n",
       "      <td>2013-09-09</td>\n",
       "      <td>2013-09-09</td>\n",
       "      <td>Second Class</td>\n",
       "      <td>AG-10675</td>\n",
       "      <td>Anna Gayman</td>\n",
       "      <td>Consumer</td>\n",
       "      <td>Houston</td>\n",
       "      <td>Texas</td>\n",
       "      <td>...</td>\n",
       "      <td>FUR-BO-10004834</td>\n",
       "      <td>Furniture</td>\n",
       "      <td>Bookcases</td>\n",
       "      <td>Riverside Palais Royal Lawyers Bookcase, Royal...</td>\n",
       "      <td>2396.2656</td>\n",
       "      <td>4</td>\n",
       "      <td>0.32</td>\n",
       "      <td>-317.1528</td>\n",
       "      <td>469.16</td>\n",
       "      <td>Critical</td>\n",
       "    </tr>\n",
       "    <tr>\n",
       "      <th>167</th>\n",
       "      <td>20601</td>\n",
       "      <td>ID-2013-70122</td>\n",
       "      <td>2013-06-11</td>\n",
       "      <td>2013-11-06</td>\n",
       "      <td>Standard Class</td>\n",
       "      <td>AD-10180</td>\n",
       "      <td>Alan Dominguez</td>\n",
       "      <td>Home Office</td>\n",
       "      <td>Jakarta</td>\n",
       "      <td>Jakarta</td>\n",
       "      <td>...</td>\n",
       "      <td>FUR-CH-10002061</td>\n",
       "      <td>Furniture</td>\n",
       "      <td>Chairs</td>\n",
       "      <td>Harbour Creations Executive Leather Armchair, Red</td>\n",
       "      <td>3126.4002</td>\n",
       "      <td>9</td>\n",
       "      <td>0.27</td>\n",
       "      <td>-128.7198</td>\n",
       "      <td>455.71</td>\n",
       "      <td>High</td>\n",
       "    </tr>\n",
       "  </tbody>\n",
       "</table>\n",
       "<p>20 rows × 24 columns</p>\n",
       "</div>"
      ],
      "text/plain": [
       "     Row ID         Order ID Order Date  Ship Date       Ship Mode  \\\n",
       "1     26341    IN-2013-77878 2013-02-05 2013-05-02    Second Class   \n",
       "3     13524  ES-2013-1579342 2013-01-28 2013-01-28     First Class   \n",
       "9     40936   CA-2012-116638 2012-01-28 2012-01-28    Second Class   \n",
       "30      220   US-2011-128776 2011-12-28 2011-12-28    Second Class   \n",
       "32    32735   CA-2012-139731 2012-10-15 2012-10-15        Same Day   \n",
       "37    31980   US-2014-168116 2014-11-05 2014-05-11        Same Day   \n",
       "40    21316    ID-2013-63976 2013-08-22 2013-08-22  Standard Class   \n",
       "73    21209    IN-2014-30110 2014-08-26 2014-08-26     First Class   \n",
       "83    38540   CA-2014-118892 2014-08-18 2014-08-18    Second Class   \n",
       "85    23013    ID-2012-78207 2012-09-18 2012-09-18    Second Class   \n",
       "98    15896  IT-2012-1779015 2012-09-29 2012-09-29        Same Day   \n",
       "109   11743  IT-2013-5208514 2013-03-13 2013-03-13        Same Day   \n",
       "111   17522  ES-2012-2314672 2012-04-05 2012-05-04        Same Day   \n",
       "123   24260    ID-2013-79432 2013-12-11 2013-11-12    Second Class   \n",
       "124   13646  IT-2014-4499061 2014-03-18 2014-03-18    Second Class   \n",
       "137   30267    ID-2012-66111 2012-06-14 2012-06-14     First Class   \n",
       "148   22488    ID-2013-35640 2013-08-27 2013-08-27    Second Class   \n",
       "150   15376  IT-2011-3675195 2011-11-03 2011-03-11     First Class   \n",
       "156   31696   CA-2013-108987 2013-09-09 2013-09-09    Second Class   \n",
       "167   20601    ID-2013-70122 2013-06-11 2013-11-06  Standard Class   \n",
       "\n",
       "    Customer ID      Customer Name      Segment                  City  \\\n",
       "1      JR-16210      Justin Ritter    Corporate            Wollongong   \n",
       "3      KM-16375   Katherine Murray  Home Office                Berlin   \n",
       "9      JH-15985        Joseph Holt     Consumer               Concord   \n",
       "30     RR-19525          Rick Reed    Corporate         Santo Domingo   \n",
       "32     JE-15745         Joel Eaton     Consumer              Amarillo   \n",
       "37     GT-14635     Grant Thornton    Corporate            Burlington   \n",
       "40     JB-16000          Joy Bell-     Consumer               Mataram   \n",
       "73     LA-16780    Laura Armstrong    Corporate             Palembang   \n",
       "83     TP-21415       Tom Prescott     Consumer          Philadelphia   \n",
       "85     AM-10705     Anne McFarland     Consumer               Bandung   \n",
       "98     PM-18940     Paul MacIntyre     Consumer  Boulogne-Billancourt   \n",
       "109    VM-21685    Valerie Mitchum  Home Office        Bergen op Zoom   \n",
       "111    DM-13525         Don Miller    Corporate               Hanover   \n",
       "123    JK-15325  Jason Klamczynski    Corporate              Adelaide   \n",
       "124    RP-19270       Rachel Payne    Corporate               Chelles   \n",
       "137    AB-10015      Aaron Bergman     Consumer                 Wuhan   \n",
       "148    CR-12625        Corey Roper  Home Office              Brisbane   \n",
       "150    GM-14680      Greg Matthias     Consumer             Amsterdam   \n",
       "156    AG-10675        Anna Gayman     Consumer               Houston   \n",
       "167    AD-10180     Alan Dominguez  Home Office               Jakarta   \n",
       "\n",
       "                   State  ...       Product ID         Category Sub-Category  \\\n",
       "1        New South Wales  ...  FUR-CH-10003950        Furniture       Chairs   \n",
       "3                 Berlin  ...  TEC-PH-10004583       Technology       Phones   \n",
       "9         North Carolina  ...  FUR-TA-10000198        Furniture       Tables   \n",
       "30         Santo Domingo  ...  TEC-PH-10002815       Technology       Phones   \n",
       "32                 Texas  ...  FUR-CH-10002024        Furniture       Chairs   \n",
       "37        North Carolina  ...  TEC-MA-10004125       Technology     Machines   \n",
       "40   Nusa Tenggara Barat  ...  TEC-PH-10000499       Technology       Phones   \n",
       "73      Sumatera Selatan  ...  FUR-TA-10000687        Furniture       Tables   \n",
       "83          Pennsylvania  ...  FUR-CH-10002024        Furniture       Chairs   \n",
       "85            Jawa Barat  ...  OFF-AP-10001621  Office Supplies   Appliances   \n",
       "98         Ile-de-France  ...  TEC-MA-10003515       Technology     Machines   \n",
       "109        North Brabant  ...  FUR-CH-10001582        Furniture       Chairs   \n",
       "111         Lower Saxony  ...  TEC-PH-10000505       Technology       Phones   \n",
       "123      South Australia  ...  TEC-CO-10002035       Technology      Copiers   \n",
       "124        Ile-de-France  ...  TEC-CO-10004099       Technology      Copiers   \n",
       "137                Hubei  ...  TEC-MA-10003704       Technology     Machines   \n",
       "148           Queensland  ...  FUR-BO-10000288        Furniture    Bookcases   \n",
       "150        North Holland  ...  OFF-AP-10001623  Office Supplies   Appliances   \n",
       "156                Texas  ...  FUR-BO-10004834        Furniture    Bookcases   \n",
       "167              Jakarta  ...  FUR-CH-10002061        Furniture       Chairs   \n",
       "\n",
       "                                          Product Name      Sales Quantity  \\\n",
       "1            Novimex Executive Leather Armchair, Black  3709.3950        9   \n",
       "3                       Motorola Smart Phone, Cordless  2892.5100        5   \n",
       "9    Chromcraft Bull-Nose Wood Oval Conference Tabl...  4297.6440       13   \n",
       "30                           Samsung Smart Phone, VoIP  1696.6400        5   \n",
       "32        HON 5400 Series Task Chairs for Big and Tall  2453.4300        5   \n",
       "37           Cubify CubeX 3D Printer Triple Head Print  7999.9800        4   \n",
       "40                     Motorola Smart Phone, Full Size  3200.5962        6   \n",
       "73         Bevis Conference Table, with Bottom Storage  3427.1496        7   \n",
       "83        HON 5400 Series Task Chairs for Big and Tall  4416.1740        9   \n",
       "85                  Hamilton Beach Refrigerator, Black  2487.8088        6   \n",
       "98                              Panasonic Printer, Red  2016.8460        9   \n",
       "109      Office Star Executive Leather Armchair, Black  2570.8650       11   \n",
       "111                  Apple Smart Phone, with Caller ID  2875.7700        9   \n",
       "123                     Canon Wireless Fax, High-Speed  1695.8700        5   \n",
       "124                         Sharp Fax Machine, Digital  1505.9790        6   \n",
       "137                         StarTech Printer, Wireless  1024.6800        8   \n",
       "148                Safco Classic Bookcase, Traditional  2760.3450        7   \n",
       "150                                Hoover Stove, White  1983.1350        7   \n",
       "156  Riverside Palais Royal Lawyers Bookcase, Royal...  2396.2656        4   \n",
       "167  Harbour Creations Executive Leather Armchair, Red  3126.4002        9   \n",
       "\n",
       "    Discount     Profit  Shipping Cost  Order Priority  \n",
       "1       0.10  -288.7650         923.63        Critical  \n",
       "3       0.10   -96.5400         910.16          Medium  \n",
       "9       0.40 -1862.3124         865.74        Critical  \n",
       "30      0.20  -148.4600         704.06        Critical  \n",
       "32      0.30  -350.4900         690.42            High  \n",
       "37      0.50 -3839.9904         674.82            High  \n",
       "40      0.17   -77.2038         660.87            High  \n",
       "73      0.47  -452.8104         586.57            High  \n",
       "83      0.30  -630.8820         566.65          Medium  \n",
       "85      0.17  -269.7912         562.14        Critical  \n",
       "98      0.15    -0.0540         540.77        Critical  \n",
       "109     0.50 -2211.1650         520.89            High  \n",
       "111     0.50 -1783.0800         516.63            High  \n",
       "123     0.10   -37.8300         498.62        Critical  \n",
       "124     0.15  -265.7610         498.52        Critical  \n",
       "137     0.50  -286.9200         487.32        Critical  \n",
       "148     0.10  -214.7250         475.34            High  \n",
       "150     0.50 -1784.8950         473.27            High  \n",
       "156     0.32  -317.1528         469.16        Critical  \n",
       "167     0.27  -128.7198         455.71            High  \n",
       "\n",
       "[20 rows x 24 columns]"
      ]
     },
     "metadata": {},
     "output_type": "display_data"
    }
   ],
   "source": [
    "# Filter the DataFrame to identify rows where the 'Profit' column has negative values\n",
    "nagetive_profit = df[df['Profit'] < 0]\n",
    "if not nagetive_profit.empty:\n",
    "    print(\"nagetive value is 'Profit'\")\n",
    "    display(nagetive_profit.head(20))"
   ]
  },
  {
   "cell_type": "code",
   "execution_count": 31,
   "id": "9a59889d",
   "metadata": {},
   "outputs": [
    {
     "data": {
      "text/plain": [
       "np.float64(61.634838357507874)"
      ]
     },
     "execution_count": 31,
     "metadata": {},
     "output_type": "execute_result"
    }
   ],
   "source": [
    "# Calculate the mean of positive profits and replace negative profits with the mean value\n",
    "mean_profit = df[df['Profit'] >= 0]['Profit'].mean()\n",
    "data.loc[data['Profit'] < 0, 'Profit'] = mean_profit\n",
    "mean_profit"
   ]
  },
  {
   "cell_type": "code",
   "execution_count": 32,
   "id": "bebc55d8",
   "metadata": {},
   "outputs": [
    {
     "data": {
      "text/plain": [
       "0     762.184500\n",
       "1      61.634838\n",
       "2     919.971000\n",
       "3      61.634838\n",
       "4     311.520000\n",
       "5     763.275000\n",
       "6     564.840000\n",
       "7     996.480000\n",
       "8    1906.485000\n",
       "9      61.634838\n",
       "Name: Profit, dtype: float64"
      ]
     },
     "execution_count": 32,
     "metadata": {},
     "output_type": "execute_result"
    }
   ],
   "source": [
    "# Display the first 20 rows of the 'Profit' column from the 'data' DataFrame\n",
    "data['Profit'].head(10)"
   ]
  },
  {
   "cell_type": "code",
   "execution_count": 33,
   "id": "8698d305",
   "metadata": {},
   "outputs": [],
   "source": [
    "# Replace negative values in the 'Profit' column with the mean profit value using 'lambda' function\n",
    "df['Profit'] = df['Profit'].apply(lambda x: mean_profit if x < 0 else x)"
   ]
  },
  {
   "cell_type": "code",
   "execution_count": 34,
   "id": "b1d200d5",
   "metadata": {},
   "outputs": [
    {
     "name": "stdout",
     "output_type": "stream",
     "text": [
      "nagetive value in 'Profit' have been replaced with the mean of non-nagetive profits.\n"
     ]
    },
    {
     "data": {
      "text/plain": [
       "0     762.184500\n",
       "1      61.634838\n",
       "2     919.971000\n",
       "3      61.634838\n",
       "4     311.520000\n",
       "5     763.275000\n",
       "6     564.840000\n",
       "7     996.480000\n",
       "8    1906.485000\n",
       "9      61.634838\n",
       "Name: Profit, dtype: float64"
      ]
     },
     "execution_count": 34,
     "metadata": {},
     "output_type": "execute_result"
    }
   ],
   "source": [
    "print(\"nagetive value in 'Profit' have been replaced with the mean of non-nagetive profits.\")\n",
    "df['Profit'].head(10)"
   ]
  },
  {
   "cell_type": "code",
   "execution_count": 35,
   "id": "a0e3c3cd",
   "metadata": {},
   "outputs": [
    {
     "name": "stdout",
     "output_type": "stream",
     "text": [
      "<class 'pandas.core.frame.DataFrame'>\n",
      "RangeIndex: 51290 entries, 0 to 51289\n",
      "Data columns (total 24 columns):\n",
      " #   Column          Non-Null Count  Dtype         \n",
      "---  ------          --------------  -----         \n",
      " 0   Row ID          51290 non-null  int64         \n",
      " 1   Order ID        51290 non-null  object        \n",
      " 2   Order Date      51290 non-null  datetime64[ns]\n",
      " 3   Ship Date       51290 non-null  datetime64[ns]\n",
      " 4   Ship Mode       51290 non-null  category      \n",
      " 5   Customer ID     51290 non-null  object        \n",
      " 6   Customer Name   51290 non-null  object        \n",
      " 7   Segment         51290 non-null  category      \n",
      " 8   City            51290 non-null  object        \n",
      " 9   State           51290 non-null  object        \n",
      " 10  Country         51290 non-null  category      \n",
      " 11  Postal Code     51290 non-null  int64         \n",
      " 12  Market          51290 non-null  category      \n",
      " 13  Region          51290 non-null  category      \n",
      " 14  Product ID      51290 non-null  object        \n",
      " 15  Category        51290 non-null  category      \n",
      " 16  Sub-Category    51290 non-null  category      \n",
      " 17  Product Name    51290 non-null  object        \n",
      " 18  Sales           51290 non-null  float64       \n",
      " 19  Quantity        51290 non-null  int64         \n",
      " 20  Discount        51290 non-null  float64       \n",
      " 21  Profit          51290 non-null  float64       \n",
      " 22  Shipping Cost   51290 non-null  float64       \n",
      " 23  Order Priority  51290 non-null  category      \n",
      "dtypes: category(8), datetime64[ns](2), float64(4), int64(3), object(7)\n",
      "memory usage: 6.7+ MB\n"
     ]
    }
   ],
   "source": [
    "df.info()"
   ]
  },
  {
   "cell_type": "markdown",
   "id": "3e04443d",
   "metadata": {},
   "source": [
    "### Segment in Data"
   ]
  },
  {
   "cell_type": "code",
   "execution_count": 36,
   "id": "e2355843",
   "metadata": {},
   "outputs": [
    {
     "data": {
      "text/html": [
       "<div>\n",
       "<style scoped>\n",
       "    .dataframe tbody tr th:only-of-type {\n",
       "        vertical-align: middle;\n",
       "    }\n",
       "\n",
       "    .dataframe tbody tr th {\n",
       "        vertical-align: top;\n",
       "    }\n",
       "\n",
       "    .dataframe thead th {\n",
       "        text-align: right;\n",
       "    }\n",
       "</style>\n",
       "<table border=\"1\" class=\"dataframe\">\n",
       "  <thead>\n",
       "    <tr style=\"text-align: right;\">\n",
       "      <th></th>\n",
       "      <th>Customer ID</th>\n",
       "      <th>Customer Name</th>\n",
       "      <th>Category</th>\n",
       "      <th>Product Name</th>\n",
       "      <th>Sub-Category</th>\n",
       "      <th>Sales</th>\n",
       "      <th>Profit</th>\n",
       "      <th>Quantity</th>\n",
       "      <th>Discount</th>\n",
       "      <th>Order Date</th>\n",
       "      <th>City</th>\n",
       "      <th>State</th>\n",
       "      <th>Region</th>\n",
       "      <th>Market</th>\n",
       "      <th>Order Priority</th>\n",
       "    </tr>\n",
       "  </thead>\n",
       "  <tbody>\n",
       "    <tr>\n",
       "      <th>0</th>\n",
       "      <td>RH-19495</td>\n",
       "      <td>Rick Hansen</td>\n",
       "      <td>Technology</td>\n",
       "      <td>Plantronics CS510 - Over-the-Head monaural Wir...</td>\n",
       "      <td>Accessories</td>\n",
       "      <td>2309.650</td>\n",
       "      <td>762.184500</td>\n",
       "      <td>7</td>\n",
       "      <td>0.0</td>\n",
       "      <td>2012-07-31</td>\n",
       "      <td>New York City</td>\n",
       "      <td>New York</td>\n",
       "      <td>East</td>\n",
       "      <td>US</td>\n",
       "      <td>Critical</td>\n",
       "    </tr>\n",
       "    <tr>\n",
       "      <th>1</th>\n",
       "      <td>JR-16210</td>\n",
       "      <td>Justin Ritter</td>\n",
       "      <td>Furniture</td>\n",
       "      <td>Novimex Executive Leather Armchair, Black</td>\n",
       "      <td>Chairs</td>\n",
       "      <td>3709.395</td>\n",
       "      <td>61.634838</td>\n",
       "      <td>9</td>\n",
       "      <td>0.1</td>\n",
       "      <td>2013-02-05</td>\n",
       "      <td>Wollongong</td>\n",
       "      <td>New South Wales</td>\n",
       "      <td>Oceania</td>\n",
       "      <td>APAC</td>\n",
       "      <td>Critical</td>\n",
       "    </tr>\n",
       "    <tr>\n",
       "      <th>2</th>\n",
       "      <td>CR-12730</td>\n",
       "      <td>Craig Reiter</td>\n",
       "      <td>Technology</td>\n",
       "      <td>Nokia Smart Phone, with Caller ID</td>\n",
       "      <td>Phones</td>\n",
       "      <td>5175.171</td>\n",
       "      <td>919.971000</td>\n",
       "      <td>9</td>\n",
       "      <td>0.1</td>\n",
       "      <td>2013-10-17</td>\n",
       "      <td>Brisbane</td>\n",
       "      <td>Queensland</td>\n",
       "      <td>Oceania</td>\n",
       "      <td>APAC</td>\n",
       "      <td>Medium</td>\n",
       "    </tr>\n",
       "    <tr>\n",
       "      <th>3</th>\n",
       "      <td>KM-16375</td>\n",
       "      <td>Katherine Murray</td>\n",
       "      <td>Technology</td>\n",
       "      <td>Motorola Smart Phone, Cordless</td>\n",
       "      <td>Phones</td>\n",
       "      <td>2892.510</td>\n",
       "      <td>61.634838</td>\n",
       "      <td>5</td>\n",
       "      <td>0.1</td>\n",
       "      <td>2013-01-28</td>\n",
       "      <td>Berlin</td>\n",
       "      <td>Berlin</td>\n",
       "      <td>Central</td>\n",
       "      <td>EU</td>\n",
       "      <td>Medium</td>\n",
       "    </tr>\n",
       "    <tr>\n",
       "      <th>4</th>\n",
       "      <td>RH-9495</td>\n",
       "      <td>Rick Hansen</td>\n",
       "      <td>Technology</td>\n",
       "      <td>Sharp Wireless Fax, High-Speed</td>\n",
       "      <td>Copiers</td>\n",
       "      <td>2832.960</td>\n",
       "      <td>311.520000</td>\n",
       "      <td>8</td>\n",
       "      <td>0.0</td>\n",
       "      <td>2013-11-05</td>\n",
       "      <td>Dakar</td>\n",
       "      <td>Dakar</td>\n",
       "      <td>Africa</td>\n",
       "      <td>Africa</td>\n",
       "      <td>Critical</td>\n",
       "    </tr>\n",
       "  </tbody>\n",
       "</table>\n",
       "</div>"
      ],
      "text/plain": [
       "  Customer ID     Customer Name    Category  \\\n",
       "0    RH-19495       Rick Hansen  Technology   \n",
       "1    JR-16210     Justin Ritter   Furniture   \n",
       "2    CR-12730      Craig Reiter  Technology   \n",
       "3    KM-16375  Katherine Murray  Technology   \n",
       "4     RH-9495       Rick Hansen  Technology   \n",
       "\n",
       "                                        Product Name Sub-Category     Sales  \\\n",
       "0  Plantronics CS510 - Over-the-Head monaural Wir...  Accessories  2309.650   \n",
       "1          Novimex Executive Leather Armchair, Black       Chairs  3709.395   \n",
       "2                  Nokia Smart Phone, with Caller ID       Phones  5175.171   \n",
       "3                     Motorola Smart Phone, Cordless       Phones  2892.510   \n",
       "4                     Sharp Wireless Fax, High-Speed      Copiers  2832.960   \n",
       "\n",
       "       Profit  Quantity  Discount Order Date           City            State  \\\n",
       "0  762.184500         7       0.0 2012-07-31  New York City         New York   \n",
       "1   61.634838         9       0.1 2013-02-05     Wollongong  New South Wales   \n",
       "2  919.971000         9       0.1 2013-10-17       Brisbane       Queensland   \n",
       "3   61.634838         5       0.1 2013-01-28         Berlin           Berlin   \n",
       "4  311.520000         8       0.0 2013-11-05          Dakar            Dakar   \n",
       "\n",
       "    Region  Market Order Priority  \n",
       "0     East      US       Critical  \n",
       "1  Oceania    APAC       Critical  \n",
       "2  Oceania    APAC         Medium  \n",
       "3  Central      EU         Medium  \n",
       "4   Africa  Africa       Critical  "
      ]
     },
     "execution_count": 36,
     "metadata": {},
     "output_type": "execute_result"
    }
   ],
   "source": [
    "segment_data = df[['Customer ID', 'Customer Name', 'Category', 'Product Name', 'Sub-Category', 'Sales', 'Profit', 'Quantity', 'Discount', 'Order Date', 'City', 'State', 'Region', 'Market', 'Order Priority']]\n",
    "segment_data.head()"
   ]
  },
  {
   "cell_type": "markdown",
   "id": "f0eb1104",
   "metadata": {},
   "source": [
    "## Sales and Profit Analysis"
   ]
  },
  {
   "cell_type": "markdown",
   "id": "6d73eb1e",
   "metadata": {},
   "source": [
    "1. What is the trend of sales and profit over time?\n",
    "2. Which regions and market contribute the most to sales and profit?\n",
    "3. Which cities and states are most profitable?\n",
    "4. Which products are the most popular (Highest quantity sold)?\n",
    "5. What is the sales and profit distribution across different market?"
   ]
  },
  {
   "cell_type": "markdown",
   "id": "f9fa24c4",
   "metadata": {},
   "source": [
    "### Q1. What is the trend of sales and profit over time?"
   ]
  },
  {
   "cell_type": "code",
   "execution_count": 37,
   "id": "2d46b4f9",
   "metadata": {},
   "outputs": [
    {
     "name": "stdout",
     "output_type": "stream",
     "text": [
      "             Sales        Profit\n",
      "Year                            \n",
      "2011  2.259451e+06  5.552016e+05\n",
      "2012  2.677439e+06  6.684937e+05\n",
      "2013  3.405746e+06  8.575934e+05\n",
      "2014  4.299866e+06  1.079962e+06\n"
     ]
    }
   ],
   "source": [
    "# Make an explicit copy\n",
    "segment_data = segment_data.copy()\n",
    "\n",
    "# Extract year\n",
    "segment_data['Year'] = segment_data['Order Date'].dt.year\n",
    "\n",
    "# Group by year and calculate total sales and profit\n",
    "sales_profit_trend = segment_data.groupby('Year')[['Sales', 'Profit']].sum()\n",
    "\n",
    "# Display result\n",
    "print(sales_profit_trend)"
   ]
  },
  {
   "cell_type": "code",
   "execution_count": 38,
   "id": "dae3c4da",
   "metadata": {},
   "outputs": [
    {
     "data": {
      "application/vnd.plotly.v1+json": {
       "config": {
        "plotlyServerURL": "https://plot.ly"
       },
       "data": [
        {
         "line": {
          "color": "#1f77b4",
          "width": 2.5
         },
         "mode": "lines+markers",
         "name": "Sales",
         "type": "scatter",
         "x": {
          "bdata": "2wcAANwHAADdBwAA3gcAAA==",
          "dtype": "i4"
         },
         "y": {
          "bdata": "Ag6hcv08QUFlGeJYX21EQapIhTnZ+0lBSkG3dxZnUEE=",
          "dtype": "f8"
         }
        },
        {
         "line": {
          "color": "#2ca02c",
          "width": 2.5
         },
         "mode": "lines+markers",
         "name": "Profit",
         "type": "scatter",
         "x": {
          "bdata": "2wcAANwHAADdBwAA3gcAAA==",
          "dtype": "i4"
         },
         "y": {
          "bdata": "+lFkKIPxIEHCKI5mm2YkQeZeubPyKypBId6oOpp6MEE=",
          "dtype": "f8"
         }
        }
       ],
       "layout": {
        "height": 600,
        "legend": {
         "font": {
          "size": 16
         }
        },
        "template": {
         "data": {
          "bar": [
           {
            "error_x": {
             "color": "#2a3f5f"
            },
            "error_y": {
             "color": "#2a3f5f"
            },
            "marker": {
             "line": {
              "color": "white",
              "width": 0.5
             },
             "pattern": {
              "fillmode": "overlay",
              "size": 10,
              "solidity": 0.2
             }
            },
            "type": "bar"
           }
          ],
          "barpolar": [
           {
            "marker": {
             "line": {
              "color": "white",
              "width": 0.5
             },
             "pattern": {
              "fillmode": "overlay",
              "size": 10,
              "solidity": 0.2
             }
            },
            "type": "barpolar"
           }
          ],
          "carpet": [
           {
            "aaxis": {
             "endlinecolor": "#2a3f5f",
             "gridcolor": "#C8D4E3",
             "linecolor": "#C8D4E3",
             "minorgridcolor": "#C8D4E3",
             "startlinecolor": "#2a3f5f"
            },
            "baxis": {
             "endlinecolor": "#2a3f5f",
             "gridcolor": "#C8D4E3",
             "linecolor": "#C8D4E3",
             "minorgridcolor": "#C8D4E3",
             "startlinecolor": "#2a3f5f"
            },
            "type": "carpet"
           }
          ],
          "choropleth": [
           {
            "colorbar": {
             "outlinewidth": 0,
             "ticks": ""
            },
            "type": "choropleth"
           }
          ],
          "contour": [
           {
            "colorbar": {
             "outlinewidth": 0,
             "ticks": ""
            },
            "colorscale": [
             [
              0,
              "#0d0887"
             ],
             [
              0.1111111111111111,
              "#46039f"
             ],
             [
              0.2222222222222222,
              "#7201a8"
             ],
             [
              0.3333333333333333,
              "#9c179e"
             ],
             [
              0.4444444444444444,
              "#bd3786"
             ],
             [
              0.5555555555555556,
              "#d8576b"
             ],
             [
              0.6666666666666666,
              "#ed7953"
             ],
             [
              0.7777777777777778,
              "#fb9f3a"
             ],
             [
              0.8888888888888888,
              "#fdca26"
             ],
             [
              1,
              "#f0f921"
             ]
            ],
            "type": "contour"
           }
          ],
          "contourcarpet": [
           {
            "colorbar": {
             "outlinewidth": 0,
             "ticks": ""
            },
            "type": "contourcarpet"
           }
          ],
          "heatmap": [
           {
            "colorbar": {
             "outlinewidth": 0,
             "ticks": ""
            },
            "colorscale": [
             [
              0,
              "#0d0887"
             ],
             [
              0.1111111111111111,
              "#46039f"
             ],
             [
              0.2222222222222222,
              "#7201a8"
             ],
             [
              0.3333333333333333,
              "#9c179e"
             ],
             [
              0.4444444444444444,
              "#bd3786"
             ],
             [
              0.5555555555555556,
              "#d8576b"
             ],
             [
              0.6666666666666666,
              "#ed7953"
             ],
             [
              0.7777777777777778,
              "#fb9f3a"
             ],
             [
              0.8888888888888888,
              "#fdca26"
             ],
             [
              1,
              "#f0f921"
             ]
            ],
            "type": "heatmap"
           }
          ],
          "histogram": [
           {
            "marker": {
             "pattern": {
              "fillmode": "overlay",
              "size": 10,
              "solidity": 0.2
             }
            },
            "type": "histogram"
           }
          ],
          "histogram2d": [
           {
            "colorbar": {
             "outlinewidth": 0,
             "ticks": ""
            },
            "colorscale": [
             [
              0,
              "#0d0887"
             ],
             [
              0.1111111111111111,
              "#46039f"
             ],
             [
              0.2222222222222222,
              "#7201a8"
             ],
             [
              0.3333333333333333,
              "#9c179e"
             ],
             [
              0.4444444444444444,
              "#bd3786"
             ],
             [
              0.5555555555555556,
              "#d8576b"
             ],
             [
              0.6666666666666666,
              "#ed7953"
             ],
             [
              0.7777777777777778,
              "#fb9f3a"
             ],
             [
              0.8888888888888888,
              "#fdca26"
             ],
             [
              1,
              "#f0f921"
             ]
            ],
            "type": "histogram2d"
           }
          ],
          "histogram2dcontour": [
           {
            "colorbar": {
             "outlinewidth": 0,
             "ticks": ""
            },
            "colorscale": [
             [
              0,
              "#0d0887"
             ],
             [
              0.1111111111111111,
              "#46039f"
             ],
             [
              0.2222222222222222,
              "#7201a8"
             ],
             [
              0.3333333333333333,
              "#9c179e"
             ],
             [
              0.4444444444444444,
              "#bd3786"
             ],
             [
              0.5555555555555556,
              "#d8576b"
             ],
             [
              0.6666666666666666,
              "#ed7953"
             ],
             [
              0.7777777777777778,
              "#fb9f3a"
             ],
             [
              0.8888888888888888,
              "#fdca26"
             ],
             [
              1,
              "#f0f921"
             ]
            ],
            "type": "histogram2dcontour"
           }
          ],
          "mesh3d": [
           {
            "colorbar": {
             "outlinewidth": 0,
             "ticks": ""
            },
            "type": "mesh3d"
           }
          ],
          "parcoords": [
           {
            "line": {
             "colorbar": {
              "outlinewidth": 0,
              "ticks": ""
             }
            },
            "type": "parcoords"
           }
          ],
          "pie": [
           {
            "automargin": true,
            "type": "pie"
           }
          ],
          "scatter": [
           {
            "fillpattern": {
             "fillmode": "overlay",
             "size": 10,
             "solidity": 0.2
            },
            "type": "scatter"
           }
          ],
          "scatter3d": [
           {
            "line": {
             "colorbar": {
              "outlinewidth": 0,
              "ticks": ""
             }
            },
            "marker": {
             "colorbar": {
              "outlinewidth": 0,
              "ticks": ""
             }
            },
            "type": "scatter3d"
           }
          ],
          "scattercarpet": [
           {
            "marker": {
             "colorbar": {
              "outlinewidth": 0,
              "ticks": ""
             }
            },
            "type": "scattercarpet"
           }
          ],
          "scattergeo": [
           {
            "marker": {
             "colorbar": {
              "outlinewidth": 0,
              "ticks": ""
             }
            },
            "type": "scattergeo"
           }
          ],
          "scattergl": [
           {
            "marker": {
             "colorbar": {
              "outlinewidth": 0,
              "ticks": ""
             }
            },
            "type": "scattergl"
           }
          ],
          "scattermap": [
           {
            "marker": {
             "colorbar": {
              "outlinewidth": 0,
              "ticks": ""
             }
            },
            "type": "scattermap"
           }
          ],
          "scattermapbox": [
           {
            "marker": {
             "colorbar": {
              "outlinewidth": 0,
              "ticks": ""
             }
            },
            "type": "scattermapbox"
           }
          ],
          "scatterpolar": [
           {
            "marker": {
             "colorbar": {
              "outlinewidth": 0,
              "ticks": ""
             }
            },
            "type": "scatterpolar"
           }
          ],
          "scatterpolargl": [
           {
            "marker": {
             "colorbar": {
              "outlinewidth": 0,
              "ticks": ""
             }
            },
            "type": "scatterpolargl"
           }
          ],
          "scatterternary": [
           {
            "marker": {
             "colorbar": {
              "outlinewidth": 0,
              "ticks": ""
             }
            },
            "type": "scatterternary"
           }
          ],
          "surface": [
           {
            "colorbar": {
             "outlinewidth": 0,
             "ticks": ""
            },
            "colorscale": [
             [
              0,
              "#0d0887"
             ],
             [
              0.1111111111111111,
              "#46039f"
             ],
             [
              0.2222222222222222,
              "#7201a8"
             ],
             [
              0.3333333333333333,
              "#9c179e"
             ],
             [
              0.4444444444444444,
              "#bd3786"
             ],
             [
              0.5555555555555556,
              "#d8576b"
             ],
             [
              0.6666666666666666,
              "#ed7953"
             ],
             [
              0.7777777777777778,
              "#fb9f3a"
             ],
             [
              0.8888888888888888,
              "#fdca26"
             ],
             [
              1,
              "#f0f921"
             ]
            ],
            "type": "surface"
           }
          ],
          "table": [
           {
            "cells": {
             "fill": {
              "color": "#EBF0F8"
             },
             "line": {
              "color": "white"
             }
            },
            "header": {
             "fill": {
              "color": "#C8D4E3"
             },
             "line": {
              "color": "white"
             }
            },
            "type": "table"
           }
          ]
         },
         "layout": {
          "annotationdefaults": {
           "arrowcolor": "#2a3f5f",
           "arrowhead": 0,
           "arrowwidth": 1
          },
          "autotypenumbers": "strict",
          "coloraxis": {
           "colorbar": {
            "outlinewidth": 0,
            "ticks": ""
           }
          },
          "colorscale": {
           "diverging": [
            [
             0,
             "#8e0152"
            ],
            [
             0.1,
             "#c51b7d"
            ],
            [
             0.2,
             "#de77ae"
            ],
            [
             0.3,
             "#f1b6da"
            ],
            [
             0.4,
             "#fde0ef"
            ],
            [
             0.5,
             "#f7f7f7"
            ],
            [
             0.6,
             "#e6f5d0"
            ],
            [
             0.7,
             "#b8e186"
            ],
            [
             0.8,
             "#7fbc41"
            ],
            [
             0.9,
             "#4d9221"
            ],
            [
             1,
             "#276419"
            ]
           ],
           "sequential": [
            [
             0,
             "#0d0887"
            ],
            [
             0.1111111111111111,
             "#46039f"
            ],
            [
             0.2222222222222222,
             "#7201a8"
            ],
            [
             0.3333333333333333,
             "#9c179e"
            ],
            [
             0.4444444444444444,
             "#bd3786"
            ],
            [
             0.5555555555555556,
             "#d8576b"
            ],
            [
             0.6666666666666666,
             "#ed7953"
            ],
            [
             0.7777777777777778,
             "#fb9f3a"
            ],
            [
             0.8888888888888888,
             "#fdca26"
            ],
            [
             1,
             "#f0f921"
            ]
           ],
           "sequentialminus": [
            [
             0,
             "#0d0887"
            ],
            [
             0.1111111111111111,
             "#46039f"
            ],
            [
             0.2222222222222222,
             "#7201a8"
            ],
            [
             0.3333333333333333,
             "#9c179e"
            ],
            [
             0.4444444444444444,
             "#bd3786"
            ],
            [
             0.5555555555555556,
             "#d8576b"
            ],
            [
             0.6666666666666666,
             "#ed7953"
            ],
            [
             0.7777777777777778,
             "#fb9f3a"
            ],
            [
             0.8888888888888888,
             "#fdca26"
            ],
            [
             1,
             "#f0f921"
            ]
           ]
          },
          "colorway": [
           "#636efa",
           "#EF553B",
           "#00cc96",
           "#ab63fa",
           "#FFA15A",
           "#19d3f3",
           "#FF6692",
           "#B6E880",
           "#FF97FF",
           "#FECB52"
          ],
          "font": {
           "color": "#2a3f5f"
          },
          "geo": {
           "bgcolor": "white",
           "lakecolor": "white",
           "landcolor": "white",
           "showlakes": true,
           "showland": true,
           "subunitcolor": "#C8D4E3"
          },
          "hoverlabel": {
           "align": "left"
          },
          "hovermode": "closest",
          "mapbox": {
           "style": "light"
          },
          "paper_bgcolor": "white",
          "plot_bgcolor": "white",
          "polar": {
           "angularaxis": {
            "gridcolor": "#EBF0F8",
            "linecolor": "#EBF0F8",
            "ticks": ""
           },
           "bgcolor": "white",
           "radialaxis": {
            "gridcolor": "#EBF0F8",
            "linecolor": "#EBF0F8",
            "ticks": ""
           }
          },
          "scene": {
           "xaxis": {
            "backgroundcolor": "white",
            "gridcolor": "#DFE8F3",
            "gridwidth": 2,
            "linecolor": "#EBF0F8",
            "showbackground": true,
            "ticks": "",
            "zerolinecolor": "#EBF0F8"
           },
           "yaxis": {
            "backgroundcolor": "white",
            "gridcolor": "#DFE8F3",
            "gridwidth": 2,
            "linecolor": "#EBF0F8",
            "showbackground": true,
            "ticks": "",
            "zerolinecolor": "#EBF0F8"
           },
           "zaxis": {
            "backgroundcolor": "white",
            "gridcolor": "#DFE8F3",
            "gridwidth": 2,
            "linecolor": "#EBF0F8",
            "showbackground": true,
            "ticks": "",
            "zerolinecolor": "#EBF0F8"
           }
          },
          "shapedefaults": {
           "line": {
            "color": "#2a3f5f"
           }
          },
          "ternary": {
           "aaxis": {
            "gridcolor": "#DFE8F3",
            "linecolor": "#A2B1C6",
            "ticks": ""
           },
           "baxis": {
            "gridcolor": "#DFE8F3",
            "linecolor": "#A2B1C6",
            "ticks": ""
           },
           "bgcolor": "white",
           "caxis": {
            "gridcolor": "#DFE8F3",
            "linecolor": "#A2B1C6",
            "ticks": ""
           }
          },
          "title": {
           "x": 0.05
          },
          "xaxis": {
           "automargin": true,
           "gridcolor": "#EBF0F8",
           "linecolor": "#EBF0F8",
           "ticks": "",
           "title": {
            "standoff": 15
           },
           "zerolinecolor": "#EBF0F8",
           "zerolinewidth": 2
          },
          "yaxis": {
           "automargin": true,
           "gridcolor": "#EBF0F8",
           "linecolor": "#EBF0F8",
           "ticks": "",
           "title": {
            "standoff": 15
           },
           "zerolinecolor": "#EBF0F8",
           "zerolinewidth": 2
          }
         }
        },
        "title": {
         "font": {
          "color": "darkblue",
          "size": 24
         },
         "text": "Sales and Profit Trend over Time"
        },
        "width": 1000,
        "xaxis": {
         "title": {
          "text": "Year"
         }
        },
        "yaxis": {
         "title": {
          "text": "Amount ($)"
         }
        }
       }
      }
     },
     "metadata": {},
     "output_type": "display_data"
    }
   ],
   "source": [
    "# Create a line chart to visualize the trend of sales and profit over time using plotly \n",
    "fig = go.Figure()\n",
    "\n",
    "# Sales Line\n",
    "fig.add_trace(go.Scatter(\n",
    "    x=sales_profit_trend.index,   # X-axis values: Date or Year\n",
    "    y=sales_profit_trend['Sales'], # Y-axis: Sales values\n",
    "    mode='lines+markers', # Connect points with lines and show markers (dots)\n",
    "    name='Sales', # Legend label\n",
    "    line=dict(color='#1f77b4', width=2.5) # Line style (blue, thickness 2.5)\n",
    "))\n",
    "\n",
    "# Profit Line\n",
    "fig.add_trace(go.Scatter(\n",
    "    x=sales_profit_trend.index,  # X-axis values: Date or Year\n",
    "    y=sales_profit_trend['Profit'], # Y-axis: Sales values\n",
    "    mode='lines+markers', # Connect points with lines and show markers (dots)\n",
    "    name='Profit', # Legend label\n",
    "    line=dict(color='#2ca02c', width=2.5) # Line style (blue, thickness 2.5)\n",
    "))\n",
    "\n",
    "# Layout and Styling\n",
    "fig.update_layout(\n",
    "    title='Sales and Profit Trend over Time', # Adds a main title\n",
    "    title_font=dict(size=24, color='darkblue'), # Makes the title big and blue\n",
    "    xaxis_title='Year', # Label of x-axes\n",
    "    yaxis_title='Amount ($)', # Label of y-axes\n",
    "    legend=dict(font=dict(size=16)),  # Sets font size for the legend\n",
    "    template='plotly_white', # Gives a clean white background\n",
    "    width=1000, # Figure size (width)\n",
    "    height=600 # Figur size (height)\n",
    ")\n",
    "\n",
    "fig.show()"
   ]
  },
  {
   "cell_type": "markdown",
   "id": "62ce9f8f",
   "metadata": {},
   "source": [
    "```markdown\n",
    "## Sales and Profit Report\n",
    "\n",
    "The above chart illustrates the trend of sales and profit over the years 2011 to 2014. It shows a steady increase in both sales and profit, with the highest values recorded in 2014. This indicates consistent business growth and improved profitability over time.\n",
    "```"
   ]
  },
  {
   "cell_type": "markdown",
   "id": "f2b4bfb9",
   "metadata": {},
   "source": [
    "### Q2. Which Regions and Market contribute the most to Sales and Profit?"
   ]
  },
  {
   "cell_type": "code",
   "execution_count": 39,
   "id": "ccbb8cfc",
   "metadata": {},
   "outputs": [],
   "source": [
    "# Group the data by 'Region' and 'Market', then calculate the total 'Sales' and 'Profit' for each group\n",
    "region_market_sales_profit = segment_data.groupby(['Region', 'Market'], observed=False)[['Sales','Profit']].sum()\n",
    "top_region_sales = region_market_sales_profit.sort_values(by='Sales', ascending=False)\n",
    "top_market_sales = region_market_sales_profit.sort_values(by='Profit', ascending=False)"
   ]
  },
  {
   "cell_type": "code",
   "execution_count": 40,
   "id": "410b9bf6",
   "metadata": {},
   "outputs": [
    {
     "name": "stdout",
     "output_type": "stream",
     "text": [
      "Top Region by Sales\n"
     ]
    },
    {
     "data": {
      "text/html": [
       "<div>\n",
       "<style scoped>\n",
       "    .dataframe tbody tr th:only-of-type {\n",
       "        vertical-align: middle;\n",
       "    }\n",
       "\n",
       "    .dataframe tbody tr th {\n",
       "        vertical-align: top;\n",
       "    }\n",
       "\n",
       "    .dataframe thead th {\n",
       "        text-align: right;\n",
       "    }\n",
       "</style>\n",
       "<table border=\"1\" class=\"dataframe\">\n",
       "  <thead>\n",
       "    <tr style=\"text-align: right;\">\n",
       "      <th></th>\n",
       "      <th></th>\n",
       "      <th>Sales</th>\n",
       "    </tr>\n",
       "    <tr>\n",
       "      <th>Region</th>\n",
       "      <th>Market</th>\n",
       "      <th></th>\n",
       "    </tr>\n",
       "  </thead>\n",
       "  <tbody>\n",
       "    <tr>\n",
       "      <th>Central</th>\n",
       "      <th>EU</th>\n",
       "      <td>1.720553e+06</td>\n",
       "    </tr>\n",
       "    <tr>\n",
       "      <th>Oceania</th>\n",
       "      <th>APAC</th>\n",
       "      <td>1.100185e+06</td>\n",
       "    </tr>\n",
       "    <tr>\n",
       "      <th>Southeast Asia</th>\n",
       "      <th>APAC</th>\n",
       "      <td>8.844232e+05</td>\n",
       "    </tr>\n",
       "    <tr>\n",
       "      <th>North Asia</th>\n",
       "      <th>APAC</th>\n",
       "      <td>8.483098e+05</td>\n",
       "    </tr>\n",
       "    <tr>\n",
       "      <th>EMEA</th>\n",
       "      <th>EMEA</th>\n",
       "      <td>8.061613e+05</td>\n",
       "    </tr>\n",
       "  </tbody>\n",
       "</table>\n",
       "</div>"
      ],
      "text/plain": [
       "                              Sales\n",
       "Region         Market              \n",
       "Central        EU      1.720553e+06\n",
       "Oceania        APAC    1.100185e+06\n",
       "Southeast Asia APAC    8.844232e+05\n",
       "North Asia     APAC    8.483098e+05\n",
       "EMEA           EMEA    8.061613e+05"
      ]
     },
     "execution_count": 40,
     "metadata": {},
     "output_type": "execute_result"
    }
   ],
   "source": [
    "# Display the top 5 regions by total sales\n",
    "print(\"Top Region by Sales\")\n",
    "top_region_sales[['Sales']].head()"
   ]
  },
  {
   "cell_type": "code",
   "execution_count": 41,
   "id": "2c602e75",
   "metadata": {},
   "outputs": [
    {
     "name": "stdout",
     "output_type": "stream",
     "text": [
      "Top Market by Profit\n"
     ]
    },
    {
     "data": {
      "text/html": [
       "<div>\n",
       "<style scoped>\n",
       "    .dataframe tbody tr th:only-of-type {\n",
       "        vertical-align: middle;\n",
       "    }\n",
       "\n",
       "    .dataframe tbody tr th {\n",
       "        vertical-align: top;\n",
       "    }\n",
       "\n",
       "    .dataframe thead th {\n",
       "        text-align: right;\n",
       "    }\n",
       "</style>\n",
       "<table border=\"1\" class=\"dataframe\">\n",
       "  <thead>\n",
       "    <tr style=\"text-align: right;\">\n",
       "      <th></th>\n",
       "      <th></th>\n",
       "      <th>Profit</th>\n",
       "    </tr>\n",
       "    <tr>\n",
       "      <th>Region</th>\n",
       "      <th>Market</th>\n",
       "      <th></th>\n",
       "    </tr>\n",
       "  </thead>\n",
       "  <tbody>\n",
       "    <tr>\n",
       "      <th>Central</th>\n",
       "      <th>EU</th>\n",
       "      <td>380670.456092</td>\n",
       "    </tr>\n",
       "    <tr>\n",
       "      <th>EMEA</th>\n",
       "      <th>EMEA</th>\n",
       "      <td>265949.434402</td>\n",
       "    </tr>\n",
       "    <tr>\n",
       "      <th>Oceania</th>\n",
       "      <th>APAC</th>\n",
       "      <td>241333.589821</td>\n",
       "    </tr>\n",
       "    <tr>\n",
       "      <th>Africa</th>\n",
       "      <th>Africa</th>\n",
       "      <td>241230.547508</td>\n",
       "    </tr>\n",
       "    <tr>\n",
       "      <th>Southeast Asia</th>\n",
       "      <th>APAC</th>\n",
       "      <td>210130.967780</td>\n",
       "    </tr>\n",
       "  </tbody>\n",
       "</table>\n",
       "</div>"
      ],
      "text/plain": [
       "                              Profit\n",
       "Region         Market               \n",
       "Central        EU      380670.456092\n",
       "EMEA           EMEA    265949.434402\n",
       "Oceania        APAC    241333.589821\n",
       "Africa         Africa  241230.547508\n",
       "Southeast Asia APAC    210130.967780"
      ]
     },
     "execution_count": 41,
     "metadata": {},
     "output_type": "execute_result"
    }
   ],
   "source": [
    "# Display the top 5 markets by total profit\n",
    "print(\"Top Market by Profit\")\n",
    "top_market_sales[['Profit']].head()"
   ]
  },
  {
   "cell_type": "code",
   "execution_count": 42,
   "id": "8de6ba28",
   "metadata": {},
   "outputs": [
    {
     "data": {
      "image/png": "[encoded data removed]",
      "text/plain": [
       "<Figure size 800x800 with 2 Axes>"
      ]
     },
     "metadata": {},
     "output_type": "display_data"
    }
   ],
   "source": [
    "# Plotting sales by Market (Stacked Bar Chart)\n",
    "top_regions_sales = region_market_sales_profit.sort_values(by='Sales', ascending=False).head()\n",
    "top_markets_profit = region_market_sales_profit.sort_values(by=\"Profit\", ascending=False).head()\n",
    "\n",
    "# create subplot\n",
    "fig, ax = plt.subplots(2, 1, figsize=(8,8))\n",
    "\n",
    "# Ploting Sales by Region (Stacked Bar Chart)\n",
    "top_regions_sales[['Sales','Profit']].plot(kind='bar', stacked=True, ax=ax[0], color=['#1f77b4','#2ca02c'])\n",
    "ax[0].set_title('Top Region by Sales and Profit', fontsize=14, color='darkblue')\n",
    "ax[0].set_xlabel('Amount ($)', fontsize=12)\n",
    "ax[0].set_ylabel('Region', fontsize=12)\n",
    "\n",
    "# Ploting sales by Market (Stacked Bar Chart)\n",
    "top_markets_profit[['Sales', 'Profit']].plot(kind='bar', stacked=True, ax=ax[1], color=['#1f77b4','#2ca02c'])\n",
    "ax[1].set_title('Top Market by Sales and Profit', fontsize=14, color='darkblue')\n",
    "ax[1].set_xlabel('Amount ($)', fontsize=12)\n",
    "ax[1].set_ylabel('Market', fontsize=12)\n",
    "\n",
    "# Show the plot\n",
    "plt.tight_layout()"
   ]
  },
  {
   "cell_type": "markdown",
   "id": "73b18e57",
   "metadata": {},
   "source": [
    "Top Regions and Markets by Sales and Profit\n",
    "\n",
    "The above charts highlight the top regions and markets contributing to sales and profit. The \"Central - EU\" region leads in both sales and profit, showcasing its strong market performance. Other significant contributors include \"Oceania - APAC\" and \"EMEA - EMEA,\" indicating their importance in driving revenue and profitability."
   ]
  },
  {
   "cell_type": "markdown",
   "id": "1abfd88a",
   "metadata": {},
   "source": [
    "### Q3. Which Cities and States are most Profitable?"
   ]
  },
  {
   "cell_type": "code",
   "execution_count": 43,
   "id": "6d7cfc7c",
   "metadata": {},
   "outputs": [
    {
     "data": {
      "text/html": [
       "<div>\n",
       "<style scoped>\n",
       "    .dataframe tbody tr th:only-of-type {\n",
       "        vertical-align: middle;\n",
       "    }\n",
       "\n",
       "    .dataframe tbody tr th {\n",
       "        vertical-align: top;\n",
       "    }\n",
       "\n",
       "    .dataframe thead th {\n",
       "        text-align: right;\n",
       "    }\n",
       "</style>\n",
       "<table border=\"1\" class=\"dataframe\">\n",
       "  <thead>\n",
       "    <tr style=\"text-align: right;\">\n",
       "      <th></th>\n",
       "      <th>City</th>\n",
       "      <th>State</th>\n",
       "      <th>Profit</th>\n",
       "    </tr>\n",
       "  </thead>\n",
       "  <tbody>\n",
       "    <tr>\n",
       "      <th>2402</th>\n",
       "      <td>New York City</td>\n",
       "      <td>New York</td>\n",
       "      <td>68468.399834</td>\n",
       "    </tr>\n",
       "    <tr>\n",
       "      <th>2006</th>\n",
       "      <td>Los Angeles</td>\n",
       "      <td>California</td>\n",
       "      <td>33891.576919</td>\n",
       "    </tr>\n",
       "    <tr>\n",
       "      <th>3085</th>\n",
       "      <td>Seattle</td>\n",
       "      <td>Washington</td>\n",
       "      <td>30527.425014</td>\n",
       "    </tr>\n",
       "    <tr>\n",
       "      <th>2096</th>\n",
       "      <td>Manila</td>\n",
       "      <td>National Capital</td>\n",
       "      <td>26143.423492</td>\n",
       "    </tr>\n",
       "    <tr>\n",
       "      <th>1580</th>\n",
       "      <td>Jakarta</td>\n",
       "      <td>Jakarta</td>\n",
       "      <td>25412.669240</td>\n",
       "    </tr>\n",
       "  </tbody>\n",
       "</table>\n",
       "</div>"
      ],
      "text/plain": [
       "               City             State        Profit\n",
       "2402  New York City          New York  68468.399834\n",
       "2006    Los Angeles        California  33891.576919\n",
       "3085        Seattle        Washington  30527.425014\n",
       "2096         Manila  National Capital  26143.423492\n",
       "1580        Jakarta           Jakarta  25412.669240"
      ]
     },
     "execution_count": 43,
     "metadata": {},
     "output_type": "execute_result"
    }
   ],
   "source": [
    "# Group the data by 'City' and 'State', then calculate the total 'Profit' for each group\n",
    "city_state_profit = segment_data.groupby(['City', 'State'])['Profit'].sum().reset_index()\n",
    "\n",
    "top_city_state_profit = city_state_profit.sort_values(by='Profit', ascending=False).head()\n",
    "\n",
    "top_city_state_profit"
   ]
  },
  {
   "cell_type": "code",
   "execution_count": 44,
   "id": "ed564c3c",
   "metadata": {},
   "outputs": [
    {
     "data": {
      "image/png": "[encoded data removed]",
      "text/plain": [
       "<Figure size 1000x600 with 1 Axes>"
      ]
     },
     "metadata": {},
     "output_type": "display_data"
    }
   ],
   "source": [
    "# Sort the city_state_profit DataFrame by 'Profit' in descending order and select the top 10 cities\n",
    "top_city_state_profit = city_state_profit.sort_values(by='Profit', ascending=False).head(10)\n",
    "\n",
    "# Plotting the top 10 cities by profit\n",
    "fig, ax = plt.subplots(figsize=(10,6))\n",
    "\n",
    "# Plot the bar chart for the top 10 cities by profit\n",
    "top_city_state_profit.plot(kind='bar', x='City', y='Profit', ax=ax, color='darkblue')\n",
    "\n",
    "ax.bar_label(ax.containers[0])\n",
    "ax.set_title('Top Cities by Profit', fontsize=14, color='darkblue')\n",
    "ax.set_ylabel('Profit ($)', fontsize=12)\n",
    "ax.set_xlabel(\"City\", fontsize=12)\n",
    "\n",
    "plt.xticks(rotation=45, ha='right')\n",
    "\n",
    "plt.tight_layout()\n"
   ]
  },
  {
   "cell_type": "markdown",
   "id": "fc2bc2fe",
   "metadata": {},
   "source": [
    "Top Cities by Profit\n",
    "\n",
    "The above bar chart highlights the top 10 cities contributing the most to profit. New York City leads with the highest profit, followed by Los Angeles and Seattle. These cities demonstrate strong market performance, significantly driving overall profitability."
   ]
  },
  {
   "cell_type": "markdown",
   "id": "016f5f0f",
   "metadata": {},
   "source": [
    "### Q4. Which Products are the most popular (Highest Quantity Sold)?"
   ]
  },
  {
   "cell_type": "code",
   "execution_count": 45,
   "id": "23b6b147",
   "metadata": {},
   "outputs": [
    {
     "data": {
      "text/html": [
       "<div>\n",
       "<style scoped>\n",
       "    .dataframe tbody tr th:only-of-type {\n",
       "        vertical-align: middle;\n",
       "    }\n",
       "\n",
       "    .dataframe tbody tr th {\n",
       "        vertical-align: top;\n",
       "    }\n",
       "\n",
       "    .dataframe thead th {\n",
       "        text-align: right;\n",
       "    }\n",
       "</style>\n",
       "<table border=\"1\" class=\"dataframe\">\n",
       "  <thead>\n",
       "    <tr style=\"text-align: right;\">\n",
       "      <th></th>\n",
       "      <th>Product Name</th>\n",
       "      <th>Quantity</th>\n",
       "    </tr>\n",
       "  </thead>\n",
       "  <tbody>\n",
       "    <tr>\n",
       "      <th>3275</th>\n",
       "      <td>Staples</td>\n",
       "      <td>876</td>\n",
       "    </tr>\n",
       "    <tr>\n",
       "      <th>894</th>\n",
       "      <td>Cardinal Index Tab, Clear</td>\n",
       "      <td>337</td>\n",
       "    </tr>\n",
       "    <tr>\n",
       "      <th>1210</th>\n",
       "      <td>Eldon File Cart, Single Width</td>\n",
       "      <td>321</td>\n",
       "    </tr>\n",
       "    <tr>\n",
       "      <th>2840</th>\n",
       "      <td>Rogers File Cart, Single Width</td>\n",
       "      <td>262</td>\n",
       "    </tr>\n",
       "    <tr>\n",
       "      <th>3070</th>\n",
       "      <td>Sanford Pencil Sharpener, Water Color</td>\n",
       "      <td>259</td>\n",
       "    </tr>\n",
       "  </tbody>\n",
       "</table>\n",
       "</div>"
      ],
      "text/plain": [
       "                               Product Name  Quantity\n",
       "3275                                Staples       876\n",
       "894               Cardinal Index Tab, Clear       337\n",
       "1210          Eldon File Cart, Single Width       321\n",
       "2840         Rogers File Cart, Single Width       262\n",
       "3070  Sanford Pencil Sharpener, Water Color       259"
      ]
     },
     "execution_count": 45,
     "metadata": {},
     "output_type": "execute_result"
    }
   ],
   "source": [
    "# Group the data by 'Product Name' and calculate the total 'Quantity' sold for each product\n",
    "product_quantity = segment_data.groupby('Product Name')['Quantity'].sum().reset_index()\n",
    "top_products = product_quantity.sort_values(by='Quantity', ascending=False).head()\n",
    "top_products"
   ]
  },
  {
   "cell_type": "code",
   "execution_count": 46,
   "id": "d33cbb09",
   "metadata": {},
   "outputs": [
    {
     "data": {
      "image/png": "[encoded data removed]",
      "text/plain": [
       "<Figure size 1000x600 with 1 Axes>"
      ]
     },
     "metadata": {},
     "output_type": "display_data"
    }
   ],
   "source": [
    "# Plot a pie chart to visualize the top 5 products by quantity sold\n",
    "top_products = product_quantity.sort_values(by='Quantity', ascending=False).head()\n",
    "\n",
    "fig, ax = plt.subplots(figsize=(10,6))\n",
    "ax.pie(top_products['Quantity'], labels=top_products['Product Name'], autopct='%1.2f%%', colors=['#1f77b4','#2ca02c','#ff7f0e', '#d62728', '#9467bd'])\n",
    "ax.set_title(\"Top products by Quantity sold\", fontsize=14, color='darkblue')\n",
    "plt.tight_layout()"
   ]
  },
  {
   "cell_type": "markdown",
   "id": "a5e073bf",
   "metadata": {},
   "source": [
    "Top Products by Quantity Sold\n",
    "\n",
    "The pie chart illustrates the top five products with the highest quantities sold. \"Staples\" dominates with the largest share, followed by \"Cardinal Index Tab, Clear\" and \"Eldon File Cart, Single Width.\" These products are the most popular among customers, indicating their high demand in the market."
   ]
  },
  {
   "cell_type": "markdown",
   "id": "df2a261a",
   "metadata": {},
   "source": [
    "### Q5. What is the sales and profit distribution across different market?"
   ]
  },
  {
   "cell_type": "code",
   "execution_count": 47,
   "id": "07dbeb2d",
   "metadata": {},
   "outputs": [
    {
     "data": {
      "text/html": [
       "<div>\n",
       "<style scoped>\n",
       "    .dataframe tbody tr th:only-of-type {\n",
       "        vertical-align: middle;\n",
       "    }\n",
       "\n",
       "    .dataframe tbody tr th {\n",
       "        vertical-align: top;\n",
       "    }\n",
       "\n",
       "    .dataframe thead th {\n",
       "        text-align: right;\n",
       "    }\n",
       "</style>\n",
       "<table border=\"1\" class=\"dataframe\">\n",
       "  <thead>\n",
       "    <tr style=\"text-align: right;\">\n",
       "      <th></th>\n",
       "      <th>Market</th>\n",
       "      <th>Sales</th>\n",
       "      <th>Profit</th>\n",
       "    </tr>\n",
       "  </thead>\n",
       "  <tbody>\n",
       "    <tr>\n",
       "      <th>0</th>\n",
       "      <td>APAC</td>\n",
       "      <td>3.585744e+06</td>\n",
       "      <td>835093.627750</td>\n",
       "    </tr>\n",
       "    <tr>\n",
       "      <th>1</th>\n",
       "      <td>Africa</td>\n",
       "      <td>7.837732e+05</td>\n",
       "      <td>241230.547508</td>\n",
       "    </tr>\n",
       "    <tr>\n",
       "      <th>2</th>\n",
       "      <td>Canada</td>\n",
       "      <td>6.692817e+04</td>\n",
       "      <td>17817.390000</td>\n",
       "    </tr>\n",
       "    <tr>\n",
       "      <th>3</th>\n",
       "      <td>EMEA</td>\n",
       "      <td>8.061613e+05</td>\n",
       "      <td>265949.434402</td>\n",
       "    </tr>\n",
       "    <tr>\n",
       "      <th>4</th>\n",
       "      <td>EU</td>\n",
       "      <td>2.938089e+06</td>\n",
       "      <td>689561.324641</td>\n",
       "    </tr>\n",
       "    <tr>\n",
       "      <th>5</th>\n",
       "      <td>LATAM</td>\n",
       "      <td>2.164605e+06</td>\n",
       "      <td>553751.445089</td>\n",
       "    </tr>\n",
       "    <tr>\n",
       "      <th>6</th>\n",
       "      <td>US</td>\n",
       "      <td>2.297201e+06</td>\n",
       "      <td>557847.089967</td>\n",
       "    </tr>\n",
       "  </tbody>\n",
       "</table>\n",
       "</div>"
      ],
      "text/plain": [
       "   Market         Sales         Profit\n",
       "0    APAC  3.585744e+06  835093.627750\n",
       "1  Africa  7.837732e+05  241230.547508\n",
       "2  Canada  6.692817e+04   17817.390000\n",
       "3    EMEA  8.061613e+05  265949.434402\n",
       "4      EU  2.938089e+06  689561.324641\n",
       "5   LATAM  2.164605e+06  553751.445089\n",
       "6      US  2.297201e+06  557847.089967"
      ]
     },
     "execution_count": 47,
     "metadata": {},
     "output_type": "execute_result"
    }
   ],
   "source": [
    "market_sales_profit = segment_data.groupby(by='Market', observed=False)[['Sales', 'Profit']].sum().reset_index()\n",
    "\n",
    "market_sales_profit"
   ]
  },
  {
   "cell_type": "code",
   "execution_count": 48,
   "id": "ab0601c8",
   "metadata": {},
   "outputs": [
    {
     "data": {
      "image/png": "[encoded data removed]",
      "text/plain": [
       "<Figure size 1400x700 with 1 Axes>"
      ]
     },
     "metadata": {},
     "output_type": "display_data"
    }
   ],
   "source": [
    "fig, ax = plt.subplots(figsize=(14,7))\n",
    "\n",
    "market_sales_profit.set_index('Market')[['Sales','Profit']].plot(kind='bar', ax=ax, color=['#1f77b4','#2ca02c'], width=0.9)\n",
    "\n",
    "ax.set_title('Sales and Profit Distibution Across Different Market', fontsize=14, color='darkblue')\n",
    "ax.bar_label(ax.containers[0])\n",
    "ax.bar_label(ax.containers[1])\n",
    "ax.set_ylabel('Amount ($)', fontsize=12)\n",
    "ax.set_xlabel('Market', fontsize=12)\n",
    "\n",
    "plt.show()\n"
   ]
  },
  {
   "cell_type": "markdown",
   "id": "b8f7c7fd",
   "metadata": {},
   "source": [
    "Sales and Profit Distribution Across Different Markets\n",
    "\n",
    "The bar chart above illustrates the sales and profit distribution across various markets. The \"US\" market leads in both sales and profit, followed by \"APAC\" and \"EU,\" showcasing their significant contribution to overall revenue and profitability. This highlights the importance of these markets in driving business growth."
   ]
  },
  {
   "cell_type": "markdown",
   "id": "46886c8a",
   "metadata": {},
   "source": [
    "## ##Extra Questions"
   ]
  },
  {
   "cell_type": "markdown",
   "id": "73fbf7d2",
   "metadata": {},
   "source": [
    "### Q6. What is the average order value (AOV) per region or customer segment?"
   ]
  },
  {
   "cell_type": "code",
   "execution_count": 49,
   "id": "68170ff7",
   "metadata": {},
   "outputs": [
    {
     "name": "stdout",
     "output_type": "stream",
     "text": [
      "Average Order Value by Region:\n",
      "            Region   total_sales  total_orders         AOV\n",
      "0           Africa  7.837732e+05          2232  351.152872\n",
      "1           Canada  6.692817e+04           201  332.975970\n",
      "2        Caribbean  3.242809e+05           855  379.275861\n",
      "3          Central  2.822303e+06          5249  537.683848\n",
      "4     Central Asia  7.528266e+05          1026  733.749091\n",
      "5             EMEA  8.061613e+05          2462  327.441637\n",
      "6             East  6.787812e+05          1401  484.497673\n",
      "7            North  1.248166e+06          2356  529.781665\n",
      "8       North Asia  8.483098e+05          1150  737.660679\n",
      "9          Oceania  1.100185e+06          1744  630.839800\n",
      "10           South  1.600907e+06          3270  489.574019\n",
      "11  Southeast Asia  8.844232e+05          1517  583.008022\n",
      "12            West  7.254578e+05          1611  450.315223\n"
     ]
    }
   ],
   "source": [
    "# --- AOV by Region ---\n",
    "# Group the data by 'Region', calculate total sales and unique orders, and compute the Average Order Value (AOV)\n",
    "aov_region = df.groupby(\"Region\", observed=True).agg(total_sales=('Sales', 'sum'), total_orders=('Order ID', 'nunique')) \n",
    "\n",
    "aov_region['AOV'] = aov_region['total_sales'] / aov_region['total_orders']\n",
    "\n",
    "aov_region = aov_region.reset_index()\n",
    "print(\"Average Order Value by Region:\")\n",
    "print(aov_region)\n"
   ]
  },
  {
   "cell_type": "code",
   "execution_count": 50,
   "id": "426debb4",
   "metadata": {},
   "outputs": [
    {
     "name": "stdout",
     "output_type": "stream",
     "text": [
      "Average Order Value by Customer Segment:\n",
      "              total_sales  total_orders         AOV\n",
      "Segment                                            \n",
      "Consumer     6.507949e+06         13104  496.638387\n",
      "Corporate    3.824698e+06          7673  498.461817\n",
      "Home Office  2.309855e+06          4687  492.821628\n"
     ]
    }
   ],
   "source": [
    "# --- AOV by Customer Segment ---\n",
    "# Group the data by 'Segment', calculate total sales and unique orders, and compute the Average Order Value (AOV)\n",
    "aov_segment = df.groupby('Segment', observed=True).agg(total_sales=('Sales', 'sum'), total_orders=(\"Order ID\", \"nunique\"))\n",
    "\n",
    "aov_segment['AOV'] = aov_segment['total_sales'] / aov_segment['total_orders']\n",
    "aov_segment.reset_index()\n",
    "print(\"Average Order Value by Customer Segment:\")\n",
    "print(aov_segment)"
   ]
  },
  {
   "cell_type": "code",
   "execution_count": 51,
   "id": "e1010111",
   "metadata": {},
   "outputs": [
    {
     "data": {
      "application/vnd.plotly.v1+json": {
       "config": {
        "plotlyServerURL": "https://plot.ly"
       },
       "data": [
        {
         "hovertemplate": "Region=%{x}<br>AOV=%{y}<extra></extra>",
         "legendgroup": "Africa",
         "marker": {
          "color": "#636efa",
          "pattern": {
           "shape": ""
          }
         },
         "name": "Africa",
         "orientation": "v",
         "showlegend": true,
         "textposition": "auto",
         "type": "bar",
         "x": [
          "Africa"
         ],
         "xaxis": "x",
         "y": {
          "bdata": "Pbw8KnLydUA=",
          "dtype": "f8"
         },
         "yaxis": "y"
        },
        {
         "hovertemplate": "Region=%{x}<br>AOV=%{y}<extra></extra>",
         "legendgroup": "Canada",
         "marker": {
          "color": "#EF553B",
          "pattern": {
           "shape": ""
          }
         },
         "name": "Canada",
         "orientation": "v",
         "showlegend": true,
         "textposition": "auto",
         "type": "bar",
         "x": [
          "Canada"
         ],
         "xaxis": "x",
         "y": {
          "bdata": "rA7gkp3PdEA=",
          "dtype": "f8"
         },
         "yaxis": "y"
        },
        {
         "hovertemplate": "Region=%{x}<br>AOV=%{y}<extra></extra>",
         "legendgroup": "Caribbean",
         "marker": {
          "color": "#00cc96",
          "pattern": {
           "shape": ""
          }
         },
         "name": "Caribbean",
         "orientation": "v",
         "showlegend": true,
         "textposition": "auto",
         "type": "bar",
         "x": [
          "Caribbean"
         ],
         "xaxis": "x",
         "y": {
          "bdata": "5jgV7Wm0d0A=",
          "dtype": "f8"
         },
         "yaxis": "y"
        },
        {
         "hovertemplate": "Region=%{x}<br>AOV=%{y}<extra></extra>",
         "legendgroup": "Central",
         "marker": {
          "color": "#ab63fa",
          "pattern": {
           "shape": ""
          }
         },
         "name": "Central",
         "orientation": "v",
         "showlegend": true,
         "textposition": "auto",
         "type": "bar",
         "x": [
          "Central"
         ],
         "xaxis": "x",
         "y": {
          "bdata": "qJN6hXjNgEA=",
          "dtype": "f8"
         },
         "yaxis": "y"
        },
        {
         "hovertemplate": "Region=%{x}<br>AOV=%{y}<extra></extra>",
         "legendgroup": "Central Asia",
         "marker": {
          "color": "#FFA15A",
          "pattern": {
           "shape": ""
          }
         },
         "name": "Central Asia",
         "orientation": "v",
         "showlegend": true,
         "textposition": "auto",
         "type": "bar",
         "x": [
          "Central Asia"
         ],
         "xaxis": "x",
         "y": {
          "bdata": "2DQ8I/7thkA=",
          "dtype": "f8"
         },
         "yaxis": "y"
        },
        {
         "hovertemplate": "Region=%{x}<br>AOV=%{y}<extra></extra>",
         "legendgroup": "EMEA",
         "marker": {
          "color": "#19d3f3",
          "pattern": {
           "shape": ""
          }
         },
         "name": "EMEA",
         "orientation": "v",
         "showlegend": true,
         "textposition": "auto",
         "type": "bar",
         "x": [
          "EMEA"
         ],
         "xaxis": "x",
         "y": {
          "bdata": "K3VC8hB3dEA=",
          "dtype": "f8"
         },
         "yaxis": "y"
        },
        {
         "hovertemplate": "Region=%{x}<br>AOV=%{y}<extra></extra>",
         "legendgroup": "East",
         "marker": {
          "color": "#FF6692",
          "pattern": {
           "shape": ""
          }
         },
         "name": "East",
         "orientation": "v",
         "showlegend": true,
         "textposition": "auto",
         "type": "bar",
         "x": [
          "East"
         ],
         "xaxis": "x",
         "y": {
          "bdata": "BgcPePZHfkA=",
          "dtype": "f8"
         },
         "yaxis": "y"
        },
        {
         "hovertemplate": "Region=%{x}<br>AOV=%{y}<extra></extra>",
         "legendgroup": "North",
         "marker": {
          "color": "#B6E880",
          "pattern": {
           "shape": ""
          }
         },
         "name": "North",
         "orientation": "v",
         "showlegend": true,
         "textposition": "auto",
         "type": "bar",
         "x": [
          "North"
         ],
         "xaxis": "x",
         "y": {
          "bdata": "9dKH2UCOgEA=",
          "dtype": "f8"
         },
         "yaxis": "y"
        },
        {
         "hovertemplate": "Region=%{x}<br>AOV=%{y}<extra></extra>",
         "legendgroup": "North Asia",
         "marker": {
          "color": "#FF97FF",
          "pattern": {
           "shape": ""
          }
         },
         "name": "North Asia",
         "orientation": "v",
         "showlegend": true,
         "textposition": "auto",
         "type": "bar",
         "x": [
          "North Asia"
         ],
         "xaxis": "x",
         "y": {
          "bdata": "8NIjEkkNh0A=",
          "dtype": "f8"
         },
         "yaxis": "y"
        },
        {
         "hovertemplate": "Region=%{x}<br>AOV=%{y}<extra></extra>",
         "legendgroup": "Oceania",
         "marker": {
          "color": "#FECB52",
          "pattern": {
           "shape": ""
          }
         },
         "name": "Oceania",
         "orientation": "v",
         "showlegend": true,
         "textposition": "auto",
         "type": "bar",
         "x": [
          "Oceania"
         ],
         "xaxis": "x",
         "y": {
          "bdata": "y4pN6be2g0A=",
          "dtype": "f8"
         },
         "yaxis": "y"
        },
        {
         "hovertemplate": "Region=%{x}<br>AOV=%{y}<extra></extra>",
         "legendgroup": "South",
         "marker": {
          "color": "#636efa",
          "pattern": {
           "shape": ""
          }
         },
         "name": "South",
         "orientation": "v",
         "showlegend": true,
         "textposition": "auto",
         "type": "bar",
         "x": [
          "South"
         ],
         "xaxis": "x",
         "y": {
          "bdata": "nGclLi+ZfkA=",
          "dtype": "f8"
         },
         "yaxis": "y"
        },
        {
         "hovertemplate": "Region=%{x}<br>AOV=%{y}<extra></extra>",
         "legendgroup": "Southeast Asia",
         "marker": {
          "color": "#EF553B",
          "pattern": {
           "shape": ""
          }
         },
         "name": "Southeast Asia",
         "orientation": "v",
         "showlegend": true,
         "textposition": "auto",
         "type": "bar",
         "x": [
          "Southeast Asia"
         ],
         "xaxis": "x",
         "y": {
          "bdata": "Koa1bRA4gkA=",
          "dtype": "f8"
         },
         "yaxis": "y"
        },
        {
         "hovertemplate": "Region=%{x}<br>AOV=%{y}<extra></extra>",
         "legendgroup": "West",
         "marker": {
          "color": "#00cc96",
          "pattern": {
           "shape": ""
          }
         },
         "name": "West",
         "orientation": "v",
         "showlegend": true,
         "textposition": "auto",
         "type": "bar",
         "x": [
          "West"
         ],
         "xaxis": "x",
         "y": {
          "bdata": "SeduJwslfEA=",
          "dtype": "f8"
         },
         "yaxis": "y"
        }
       ],
       "layout": {
        "barmode": "relative",
        "legend": {
         "title": {
          "text": "Region"
         },
         "tracegroupgap": 0
        },
        "template": {
         "data": {
          "bar": [
           {
            "error_x": {
             "color": "#2a3f5f"
            },
            "error_y": {
             "color": "#2a3f5f"
            },
            "marker": {
             "line": {
              "color": "#E5ECF6",
              "width": 0.5
             },
             "pattern": {
              "fillmode": "overlay",
              "size": 10,
              "solidity": 0.2
             }
            },
            "type": "bar"
           }
          ],
          "barpolar": [
           {
            "marker": {
             "line": {
              "color": "#E5ECF6",
              "width": 0.5
             },
             "pattern": {
              "fillmode": "overlay",
              "size": 10,
              "solidity": 0.2
             }
            },
            "type": "barpolar"
           }
          ],
          "carpet": [
           {
            "aaxis": {
             "endlinecolor": "#2a3f5f",
             "gridcolor": "white",
             "linecolor": "white",
             "minorgridcolor": "white",
             "startlinecolor": "#2a3f5f"
            },
            "baxis": {
             "endlinecolor": "#2a3f5f",
             "gridcolor": "white",
             "linecolor": "white",
             "minorgridcolor": "white",
             "startlinecolor": "#2a3f5f"
            },
            "type": "carpet"
           }
          ],
          "choropleth": [
           {
            "colorbar": {
             "outlinewidth": 0,
             "ticks": ""
            },
            "type": "choropleth"
           }
          ],
          "contour": [
           {
            "colorbar": {
             "outlinewidth": 0,
             "ticks": ""
            },
            "colorscale": [
             [
              0,
              "#0d0887"
             ],
             [
              0.1111111111111111,
              "#46039f"
             ],
             [
              0.2222222222222222,
              "#7201a8"
             ],
             [
              0.3333333333333333,
              "#9c179e"
             ],
             [
              0.4444444444444444,
              "#bd3786"
             ],
             [
              0.5555555555555556,
              "#d8576b"
             ],
             [
              0.6666666666666666,
              "#ed7953"
             ],
             [
              0.7777777777777778,
              "#fb9f3a"
             ],
             [
              0.8888888888888888,
              "#fdca26"
             ],
             [
              1,
              "#f0f921"
             ]
            ],
            "type": "contour"
           }
          ],
          "contourcarpet": [
           {
            "colorbar": {
             "outlinewidth": 0,
             "ticks": ""
            },
            "type": "contourcarpet"
           }
          ],
          "heatmap": [
           {
            "colorbar": {
             "outlinewidth": 0,
             "ticks": ""
            },
            "colorscale": [
             [
              0,
              "#0d0887"
             ],
             [
              0.1111111111111111,
              "#46039f"
             ],
             [
              0.2222222222222222,
              "#7201a8"
             ],
             [
              0.3333333333333333,
              "#9c179e"
             ],
             [
              0.4444444444444444,
              "#bd3786"
             ],
             [
              0.5555555555555556,
              "#d8576b"
             ],
             [
              0.6666666666666666,
              "#ed7953"
             ],
             [
              0.7777777777777778,
              "#fb9f3a"
             ],
             [
              0.8888888888888888,
              "#fdca26"
             ],
             [
              1,
              "#f0f921"
             ]
            ],
            "type": "heatmap"
           }
          ],
          "histogram": [
           {
            "marker": {
             "pattern": {
              "fillmode": "overlay",
              "size": 10,
              "solidity": 0.2
             }
            },
            "type": "histogram"
           }
          ],
          "histogram2d": [
           {
            "colorbar": {
             "outlinewidth": 0,
             "ticks": ""
            },
            "colorscale": [
             [
              0,
              "#0d0887"
             ],
             [
              0.1111111111111111,
              "#46039f"
             ],
             [
              0.2222222222222222,
              "#7201a8"
             ],
             [
              0.3333333333333333,
              "#9c179e"
             ],
             [
              0.4444444444444444,
              "#bd3786"
             ],
             [
              0.5555555555555556,
              "#d8576b"
             ],
             [
              0.6666666666666666,
              "#ed7953"
             ],
             [
              0.7777777777777778,
              "#fb9f3a"
             ],
             [
              0.8888888888888888,
              "#fdca26"
             ],
             [
              1,
              "#f0f921"
             ]
            ],
            "type": "histogram2d"
           }
          ],
          "histogram2dcontour": [
           {
            "colorbar": {
             "outlinewidth": 0,
             "ticks": ""
            },
            "colorscale": [
             [
              0,
              "#0d0887"
             ],
             [
              0.1111111111111111,
              "#46039f"
             ],
             [
              0.2222222222222222,
              "#7201a8"
             ],
             [
              0.3333333333333333,
              "#9c179e"
             ],
             [
              0.4444444444444444,
              "#bd3786"
             ],
             [
              0.5555555555555556,
              "#d8576b"
             ],
             [
              0.6666666666666666,
              "#ed7953"
             ],
             [
              0.7777777777777778,
              "#fb9f3a"
             ],
             [
              0.8888888888888888,
              "#fdca26"
             ],
             [
              1,
              "#f0f921"
             ]
            ],
            "type": "histogram2dcontour"
           }
          ],
          "mesh3d": [
           {
            "colorbar": {
             "outlinewidth": 0,
             "ticks": ""
            },
            "type": "mesh3d"
           }
          ],
          "parcoords": [
           {
            "line": {
             "colorbar": {
              "outlinewidth": 0,
              "ticks": ""
             }
            },
            "type": "parcoords"
           }
          ],
          "pie": [
           {
            "automargin": true,
            "type": "pie"
           }
          ],
          "scatter": [
           {
            "fillpattern": {
             "fillmode": "overlay",
             "size": 10,
             "solidity": 0.2
            },
            "type": "scatter"
           }
          ],
          "scatter3d": [
           {
            "line": {
             "colorbar": {
              "outlinewidth": 0,
              "ticks": ""
             }
            },
            "marker": {
             "colorbar": {
              "outlinewidth": 0,
              "ticks": ""
             }
            },
            "type": "scatter3d"
           }
          ],
          "scattercarpet": [
           {
            "marker": {
             "colorbar": {
              "outlinewidth": 0,
              "ticks": ""
             }
            },
            "type": "scattercarpet"
           }
          ],
          "scattergeo": [
           {
            "marker": {
             "colorbar": {
              "outlinewidth": 0,
              "ticks": ""
             }
            },
            "type": "scattergeo"
           }
          ],
          "scattergl": [
           {
            "marker": {
             "colorbar": {
              "outlinewidth": 0,
              "ticks": ""
             }
            },
            "type": "scattergl"
           }
          ],
          "scattermap": [
           {
            "marker": {
             "colorbar": {
              "outlinewidth": 0,
              "ticks": ""
             }
            },
            "type": "scattermap"
           }
          ],
          "scattermapbox": [
           {
            "marker": {
             "colorbar": {
              "outlinewidth": 0,
              "ticks": ""
             }
            },
            "type": "scattermapbox"
           }
          ],
          "scatterpolar": [
           {
            "marker": {
             "colorbar": {
              "outlinewidth": 0,
              "ticks": ""
             }
            },
            "type": "scatterpolar"
           }
          ],
          "scatterpolargl": [
           {
            "marker": {
             "colorbar": {
              "outlinewidth": 0,
              "ticks": ""
             }
            },
            "type": "scatterpolargl"
           }
          ],
          "scatterternary": [
           {
            "marker": {
             "colorbar": {
              "outlinewidth": 0,
              "ticks": ""
             }
            },
            "type": "scatterternary"
           }
          ],
          "surface": [
           {
            "colorbar": {
             "outlinewidth": 0,
             "ticks": ""
            },
            "colorscale": [
             [
              0,
              "#0d0887"
             ],
             [
              0.1111111111111111,
              "#46039f"
             ],
             [
              0.2222222222222222,
              "#7201a8"
             ],
             [
              0.3333333333333333,
              "#9c179e"
             ],
             [
              0.4444444444444444,
              "#bd3786"
             ],
             [
              0.5555555555555556,
              "#d8576b"
             ],
             [
              0.6666666666666666,
              "#ed7953"
             ],
             [
              0.7777777777777778,
              "#fb9f3a"
             ],
             [
              0.8888888888888888,
              "#fdca26"
             ],
             [
              1,
              "#f0f921"
             ]
            ],
            "type": "surface"
           }
          ],
          "table": [
           {
            "cells": {
             "fill": {
              "color": "#EBF0F8"
             },
             "line": {
              "color": "white"
             }
            },
            "header": {
             "fill": {
              "color": "#C8D4E3"
             },
             "line": {
              "color": "white"
             }
            },
            "type": "table"
           }
          ]
         },
         "layout": {
          "annotationdefaults": {
           "arrowcolor": "#2a3f5f",
           "arrowhead": 0,
           "arrowwidth": 1
          },
          "autotypenumbers": "strict",
          "coloraxis": {
           "colorbar": {
            "outlinewidth": 0,
            "ticks": ""
           }
          },
          "colorscale": {
           "diverging": [
            [
             0,
             "#8e0152"
            ],
            [
             0.1,
             "#c51b7d"
            ],
            [
             0.2,
             "#de77ae"
            ],
            [
             0.3,
             "#f1b6da"
            ],
            [
             0.4,
             "#fde0ef"
            ],
            [
             0.5,
             "#f7f7f7"
            ],
            [
             0.6,
             "#e6f5d0"
            ],
            [
             0.7,
             "#b8e186"
            ],
            [
             0.8,
             "#7fbc41"
            ],
            [
             0.9,
             "#4d9221"
            ],
            [
             1,
             "#276419"
            ]
           ],
           "sequential": [
            [
             0,
             "#0d0887"
            ],
            [
             0.1111111111111111,
             "#46039f"
            ],
            [
             0.2222222222222222,
             "#7201a8"
            ],
            [
             0.3333333333333333,
             "#9c179e"
            ],
            [
             0.4444444444444444,
             "#bd3786"
            ],
            [
             0.5555555555555556,
             "#d8576b"
            ],
            [
             0.6666666666666666,
             "#ed7953"
            ],
            [
             0.7777777777777778,
             "#fb9f3a"
            ],
            [
             0.8888888888888888,
             "#fdca26"
            ],
            [
             1,
             "#f0f921"
            ]
           ],
           "sequentialminus": [
            [
             0,
             "#0d0887"
            ],
            [
             0.1111111111111111,
             "#46039f"
            ],
            [
             0.2222222222222222,
             "#7201a8"
            ],
            [
             0.3333333333333333,
             "#9c179e"
            ],
            [
             0.4444444444444444,
             "#bd3786"
            ],
            [
             0.5555555555555556,
             "#d8576b"
            ],
            [
             0.6666666666666666,
             "#ed7953"
            ],
            [
             0.7777777777777778,
             "#fb9f3a"
            ],
            [
             0.8888888888888888,
             "#fdca26"
            ],
            [
             1,
             "#f0f921"
            ]
           ]
          },
          "colorway": [
           "#636efa",
           "#EF553B",
           "#00cc96",
           "#ab63fa",
           "#FFA15A",
           "#19d3f3",
           "#FF6692",
           "#B6E880",
           "#FF97FF",
           "#FECB52"
          ],
          "font": {
           "color": "#2a3f5f"
          },
          "geo": {
           "bgcolor": "white",
           "lakecolor": "white",
           "landcolor": "#E5ECF6",
           "showlakes": true,
           "showland": true,
           "subunitcolor": "white"
          },
          "hoverlabel": {
           "align": "left"
          },
          "hovermode": "closest",
          "mapbox": {
           "style": "light"
          },
          "paper_bgcolor": "white",
          "plot_bgcolor": "#E5ECF6",
          "polar": {
           "angularaxis": {
            "gridcolor": "white",
            "linecolor": "white",
            "ticks": ""
           },
           "bgcolor": "#E5ECF6",
           "radialaxis": {
            "gridcolor": "white",
            "linecolor": "white",
            "ticks": ""
           }
          },
          "scene": {
           "xaxis": {
            "backgroundcolor": "#E5ECF6",
            "gridcolor": "white",
            "gridwidth": 2,
            "linecolor": "white",
            "showbackground": true,
            "ticks": "",
            "zerolinecolor": "white"
           },
           "yaxis": {
            "backgroundcolor": "#E5ECF6",
            "gridcolor": "white",
            "gridwidth": 2,
            "linecolor": "white",
            "showbackground": true,
            "ticks": "",
            "zerolinecolor": "white"
           },
           "zaxis": {
            "backgroundcolor": "#E5ECF6",
            "gridcolor": "white",
            "gridwidth": 2,
            "linecolor": "white",
            "showbackground": true,
            "ticks": "",
            "zerolinecolor": "white"
           }
          },
          "shapedefaults": {
           "line": {
            "color": "#2a3f5f"
           }
          },
          "ternary": {
           "aaxis": {
            "gridcolor": "white",
            "linecolor": "white",
            "ticks": ""
           },
           "baxis": {
            "gridcolor": "white",
            "linecolor": "white",
            "ticks": ""
           },
           "bgcolor": "#E5ECF6",
           "caxis": {
            "gridcolor": "white",
            "linecolor": "white",
            "ticks": ""
           }
          },
          "title": {
           "x": 0.05
          },
          "xaxis": {
           "automargin": true,
           "gridcolor": "white",
           "linecolor": "white",
           "ticks": "",
           "title": {
            "standoff": 15
           },
           "zerolinecolor": "white",
           "zerolinewidth": 2
          },
          "yaxis": {
           "automargin": true,
           "gridcolor": "white",
           "linecolor": "white",
           "ticks": "",
           "title": {
            "standoff": 15
           },
           "zerolinecolor": "white",
           "zerolinewidth": 2
          }
         }
        },
        "title": {
         "text": "Average Order Value by Region"
        },
        "xaxis": {
         "anchor": "y",
         "categoryarray": [
          "Africa",
          "Canada",
          "Caribbean",
          "Central",
          "Central Asia",
          "EMEA",
          "East",
          "North",
          "North Asia",
          "Oceania",
          "South",
          "Southeast Asia",
          "West"
         ],
         "categoryorder": "array",
         "domain": [
          0,
          1
         ],
         "title": {
          "text": "Region"
         }
        },
        "yaxis": {
         "anchor": "x",
         "domain": [
          0,
          1
         ],
         "title": {
          "text": "AOV"
         }
        }
       }
      }
     },
     "metadata": {},
     "output_type": "display_data"
    }
   ],
   "source": [
    "# Region AOV Chart\n",
    "# Create a bar chart to visualize the Average Order Value (AOV) by Region using Plotly Express\n",
    "fig_rigion = px.bar(aov_region, x='Region', y='AOV', color='Region', title='Average Order Value by Region')\n",
    "fig_rigion.show()"
   ]
  },
  {
   "cell_type": "code",
   "execution_count": 52,
   "id": "b416227e",
   "metadata": {},
   "outputs": [
    {
     "data": {
      "application/vnd.plotly.v1+json": {
       "config": {
        "plotlyServerURL": "https://plot.ly"
       },
       "data": [
        {
         "hovertemplate": "Segment=%{x}<br>AOV=%{y}<extra></extra>",
         "legendgroup": "Consumer",
         "marker": {
          "color": "#636efa",
          "pattern": {
           "shape": ""
          }
         },
         "name": "Consumer",
         "orientation": "v",
         "showlegend": true,
         "textposition": "auto",
         "type": "bar",
         "x": [
          "Consumer"
         ],
         "xaxis": "x",
         "y": {
          "bdata": "iBPb1DYKf0A=",
          "dtype": "f8"
         },
         "yaxis": "y"
        },
        {
         "hovertemplate": "Segment=%{x}<br>AOV=%{y}<extra></extra>",
         "legendgroup": "Corporate",
         "marker": {
          "color": "#EF553B",
          "pattern": {
           "shape": ""
          }
         },
         "name": "Corporate",
         "orientation": "v",
         "showlegend": true,
         "textposition": "auto",
         "type": "bar",
         "x": [
          "Corporate"
         ],
         "xaxis": "x",
         "y": {
          "bdata": "jKcrmmMnf0A=",
          "dtype": "f8"
         },
         "yaxis": "y"
        },
        {
         "hovertemplate": "Segment=%{x}<br>AOV=%{y}<extra></extra>",
         "legendgroup": "Home Office",
         "marker": {
          "color": "#00cc96",
          "pattern": {
           "shape": ""
          }
         },
         "name": "Home Office",
         "orientation": "v",
         "showlegend": true,
         "textposition": "auto",
         "type": "bar",
         "x": [
          "Home Office"
         ],
         "xaxis": "x",
         "y": {
          "bdata": "svFtYyXNfkA=",
          "dtype": "f8"
         },
         "yaxis": "y"
        }
       ],
       "layout": {
        "barmode": "relative",
        "legend": {
         "title": {
          "text": "Segment"
         },
         "tracegroupgap": 0
        },
        "template": {
         "data": {
          "bar": [
           {
            "error_x": {
             "color": "#2a3f5f"
            },
            "error_y": {
             "color": "#2a3f5f"
            },
            "marker": {
             "line": {
              "color": "#E5ECF6",
              "width": 0.5
             },
             "pattern": {
              "fillmode": "overlay",
              "size": 10,
              "solidity": 0.2
             }
            },
            "type": "bar"
           }
          ],
          "barpolar": [
           {
            "marker": {
             "line": {
              "color": "#E5ECF6",
              "width": 0.5
             },
             "pattern": {
              "fillmode": "overlay",
              "size": 10,
              "solidity": 0.2
             }
            },
            "type": "barpolar"
           }
          ],
          "carpet": [
           {
            "aaxis": {
             "endlinecolor": "#2a3f5f",
             "gridcolor": "white",
             "linecolor": "white",
             "minorgridcolor": "white",
             "startlinecolor": "#2a3f5f"
            },
            "baxis": {
             "endlinecolor": "#2a3f5f",
             "gridcolor": "white",
             "linecolor": "white",
             "minorgridcolor": "white",
             "startlinecolor": "#2a3f5f"
            },
            "type": "carpet"
           }
          ],
          "choropleth": [
           {
            "colorbar": {
             "outlinewidth": 0,
             "ticks": ""
            },
            "type": "choropleth"
           }
          ],
          "contour": [
           {
            "colorbar": {
             "outlinewidth": 0,
             "ticks": ""
            },
            "colorscale": [
             [
              0,
              "#0d0887"
             ],
             [
              0.1111111111111111,
              "#46039f"
             ],
             [
              0.2222222222222222,
              "#7201a8"
             ],
             [
              0.3333333333333333,
              "#9c179e"
             ],
             [
              0.4444444444444444,
              "#bd3786"
             ],
             [
              0.5555555555555556,
              "#d8576b"
             ],
             [
              0.6666666666666666,
              "#ed7953"
             ],
             [
              0.7777777777777778,
              "#fb9f3a"
             ],
             [
              0.8888888888888888,
              "#fdca26"
             ],
             [
              1,
              "#f0f921"
             ]
            ],
            "type": "contour"
           }
          ],
          "contourcarpet": [
           {
            "colorbar": {
             "outlinewidth": 0,
             "ticks": ""
            },
            "type": "contourcarpet"
           }
          ],
          "heatmap": [
           {
            "colorbar": {
             "outlinewidth": 0,
             "ticks": ""
            },
            "colorscale": [
             [
              0,
              "#0d0887"
             ],
             [
              0.1111111111111111,
              "#46039f"
             ],
             [
              0.2222222222222222,
              "#7201a8"
             ],
             [
              0.3333333333333333,
              "#9c179e"
             ],
             [
              0.4444444444444444,
              "#bd3786"
             ],
             [
              0.5555555555555556,
              "#d8576b"
             ],
             [
              0.6666666666666666,
              "#ed7953"
             ],
             [
              0.7777777777777778,
              "#fb9f3a"
             ],
             [
              0.8888888888888888,
              "#fdca26"
             ],
             [
              1,
              "#f0f921"
             ]
            ],
            "type": "heatmap"
           }
          ],
          "histogram": [
           {
            "marker": {
             "pattern": {
              "fillmode": "overlay",
              "size": 10,
              "solidity": 0.2
             }
            },
            "type": "histogram"
           }
          ],
          "histogram2d": [
           {
            "colorbar": {
             "outlinewidth": 0,
             "ticks": ""
            },
            "colorscale": [
             [
              0,
              "#0d0887"
             ],
             [
              0.1111111111111111,
              "#46039f"
             ],
             [
              0.2222222222222222,
              "#7201a8"
             ],
             [
              0.3333333333333333,
              "#9c179e"
             ],
             [
              0.4444444444444444,
              "#bd3786"
             ],
             [
              0.5555555555555556,
              "#d8576b"
             ],
             [
              0.6666666666666666,
              "#ed7953"
             ],
             [
              0.7777777777777778,
              "#fb9f3a"
             ],
             [
              0.8888888888888888,
              "#fdca26"
             ],
             [
              1,
              "#f0f921"
             ]
            ],
            "type": "histogram2d"
           }
          ],
          "histogram2dcontour": [
           {
            "colorbar": {
             "outlinewidth": 0,
             "ticks": ""
            },
            "colorscale": [
             [
              0,
              "#0d0887"
             ],
             [
              0.1111111111111111,
              "#46039f"
             ],
             [
              0.2222222222222222,
              "#7201a8"
             ],
             [
              0.3333333333333333,
              "#9c179e"
             ],
             [
              0.4444444444444444,
              "#bd3786"
             ],
             [
              0.5555555555555556,
              "#d8576b"
             ],
             [
              0.6666666666666666,
              "#ed7953"
             ],
             [
              0.7777777777777778,
              "#fb9f3a"
             ],
             [
              0.8888888888888888,
              "#fdca26"
             ],
             [
              1,
              "#f0f921"
             ]
            ],
            "type": "histogram2dcontour"
           }
          ],
          "mesh3d": [
           {
            "colorbar": {
             "outlinewidth": 0,
             "ticks": ""
            },
            "type": "mesh3d"
           }
          ],
          "parcoords": [
           {
            "line": {
             "colorbar": {
              "outlinewidth": 0,
              "ticks": ""
             }
            },
            "type": "parcoords"
           }
          ],
          "pie": [
           {
            "automargin": true,
            "type": "pie"
           }
          ],
          "scatter": [
           {
            "fillpattern": {
             "fillmode": "overlay",
             "size": 10,
             "solidity": 0.2
            },
            "type": "scatter"
           }
          ],
          "scatter3d": [
           {
            "line": {
             "colorbar": {
              "outlinewidth": 0,
              "ticks": ""
             }
            },
            "marker": {
             "colorbar": {
              "outlinewidth": 0,
              "ticks": ""
             }
            },
            "type": "scatter3d"
           }
          ],
          "scattercarpet": [
           {
            "marker": {
             "colorbar": {
              "outlinewidth": 0,
              "ticks": ""
             }
            },
            "type": "scattercarpet"
           }
          ],
          "scattergeo": [
           {
            "marker": {
             "colorbar": {
              "outlinewidth": 0,
              "ticks": ""
             }
            },
            "type": "scattergeo"
           }
          ],
          "scattergl": [
           {
            "marker": {
             "colorbar": {
              "outlinewidth": 0,
              "ticks": ""
             }
            },
            "type": "scattergl"
           }
          ],
          "scattermap": [
           {
            "marker": {
             "colorbar": {
              "outlinewidth": 0,
              "ticks": ""
             }
            },
            "type": "scattermap"
           }
          ],
          "scattermapbox": [
           {
            "marker": {
             "colorbar": {
              "outlinewidth": 0,
              "ticks": ""
             }
            },
            "type": "scattermapbox"
           }
          ],
          "scatterpolar": [
           {
            "marker": {
             "colorbar": {
              "outlinewidth": 0,
              "ticks": ""
             }
            },
            "type": "scatterpolar"
           }
          ],
          "scatterpolargl": [
           {
            "marker": {
             "colorbar": {
              "outlinewidth": 0,
              "ticks": ""
             }
            },
            "type": "scatterpolargl"
           }
          ],
          "scatterternary": [
           {
            "marker": {
             "colorbar": {
              "outlinewidth": 0,
              "ticks": ""
             }
            },
            "type": "scatterternary"
           }
          ],
          "surface": [
           {
            "colorbar": {
             "outlinewidth": 0,
             "ticks": ""
            },
            "colorscale": [
             [
              0,
              "#0d0887"
             ],
             [
              0.1111111111111111,
              "#46039f"
             ],
             [
              0.2222222222222222,
              "#7201a8"
             ],
             [
              0.3333333333333333,
              "#9c179e"
             ],
             [
              0.4444444444444444,
              "#bd3786"
             ],
             [
              0.5555555555555556,
              "#d8576b"
             ],
             [
              0.6666666666666666,
              "#ed7953"
             ],
             [
              0.7777777777777778,
              "#fb9f3a"
             ],
             [
              0.8888888888888888,
              "#fdca26"
             ],
             [
              1,
              "#f0f921"
             ]
            ],
            "type": "surface"
           }
          ],
          "table": [
           {
            "cells": {
             "fill": {
              "color": "#EBF0F8"
             },
             "line": {
              "color": "white"
             }
            },
            "header": {
             "fill": {
              "color": "#C8D4E3"
             },
             "line": {
              "color": "white"
             }
            },
            "type": "table"
           }
          ]
         },
         "layout": {
          "annotationdefaults": {
           "arrowcolor": "#2a3f5f",
           "arrowhead": 0,
           "arrowwidth": 1
          },
          "autotypenumbers": "strict",
          "coloraxis": {
           "colorbar": {
            "outlinewidth": 0,
            "ticks": ""
           }
          },
          "colorscale": {
           "diverging": [
            [
             0,
             "#8e0152"
            ],
            [
             0.1,
             "#c51b7d"
            ],
            [
             0.2,
             "#de77ae"
            ],
            [
             0.3,
             "#f1b6da"
            ],
            [
             0.4,
             "#fde0ef"
            ],
            [
             0.5,
             "#f7f7f7"
            ],
            [
             0.6,
             "#e6f5d0"
            ],
            [
             0.7,
             "#b8e186"
            ],
            [
             0.8,
             "#7fbc41"
            ],
            [
             0.9,
             "#4d9221"
            ],
            [
             1,
             "#276419"
            ]
           ],
           "sequential": [
            [
             0,
             "#0d0887"
            ],
            [
             0.1111111111111111,
             "#46039f"
            ],
            [
             0.2222222222222222,
             "#7201a8"
            ],
            [
             0.3333333333333333,
             "#9c179e"
            ],
            [
             0.4444444444444444,
             "#bd3786"
            ],
            [
             0.5555555555555556,
             "#d8576b"
            ],
            [
             0.6666666666666666,
             "#ed7953"
            ],
            [
             0.7777777777777778,
             "#fb9f3a"
            ],
            [
             0.8888888888888888,
             "#fdca26"
            ],
            [
             1,
             "#f0f921"
            ]
           ],
           "sequentialminus": [
            [
             0,
             "#0d0887"
            ],
            [
             0.1111111111111111,
             "#46039f"
            ],
            [
             0.2222222222222222,
             "#7201a8"
            ],
            [
             0.3333333333333333,
             "#9c179e"
            ],
            [
             0.4444444444444444,
             "#bd3786"
            ],
            [
             0.5555555555555556,
             "#d8576b"
            ],
            [
             0.6666666666666666,
             "#ed7953"
            ],
            [
             0.7777777777777778,
             "#fb9f3a"
            ],
            [
             0.8888888888888888,
             "#fdca26"
            ],
            [
             1,
             "#f0f921"
            ]
           ]
          },
          "colorway": [
           "#636efa",
           "#EF553B",
           "#00cc96",
           "#ab63fa",
           "#FFA15A",
           "#19d3f3",
           "#FF6692",
           "#B6E880",
           "#FF97FF",
           "#FECB52"
          ],
          "font": {
           "color": "#2a3f5f"
          },
          "geo": {
           "bgcolor": "white",
           "lakecolor": "white",
           "landcolor": "#E5ECF6",
           "showlakes": true,
           "showland": true,
           "subunitcolor": "white"
          },
          "hoverlabel": {
           "align": "left"
          },
          "hovermode": "closest",
          "mapbox": {
           "style": "light"
          },
          "paper_bgcolor": "white",
          "plot_bgcolor": "#E5ECF6",
          "polar": {
           "angularaxis": {
            "gridcolor": "white",
            "linecolor": "white",
            "ticks": ""
           },
           "bgcolor": "#E5ECF6",
           "radialaxis": {
            "gridcolor": "white",
            "linecolor": "white",
            "ticks": ""
           }
          },
          "scene": {
           "xaxis": {
            "backgroundcolor": "#E5ECF6",
            "gridcolor": "white",
            "gridwidth": 2,
            "linecolor": "white",
            "showbackground": true,
            "ticks": "",
            "zerolinecolor": "white"
           },
           "yaxis": {
            "backgroundcolor": "#E5ECF6",
            "gridcolor": "white",
            "gridwidth": 2,
            "linecolor": "white",
            "showbackground": true,
            "ticks": "",
            "zerolinecolor": "white"
           },
           "zaxis": {
            "backgroundcolor": "#E5ECF6",
            "gridcolor": "white",
            "gridwidth": 2,
            "linecolor": "white",
            "showbackground": true,
            "ticks": "",
            "zerolinecolor": "white"
           }
          },
          "shapedefaults": {
           "line": {
            "color": "#2a3f5f"
           }
          },
          "ternary": {
           "aaxis": {
            "gridcolor": "white",
            "linecolor": "white",
            "ticks": ""
           },
           "baxis": {
            "gridcolor": "white",
            "linecolor": "white",
            "ticks": ""
           },
           "bgcolor": "#E5ECF6",
           "caxis": {
            "gridcolor": "white",
            "linecolor": "white",
            "ticks": ""
           }
          },
          "title": {
           "x": 0.05
          },
          "xaxis": {
           "automargin": true,
           "gridcolor": "white",
           "linecolor": "white",
           "ticks": "",
           "title": {
            "standoff": 15
           },
           "zerolinecolor": "white",
           "zerolinewidth": 2
          },
          "yaxis": {
           "automargin": true,
           "gridcolor": "white",
           "linecolor": "white",
           "ticks": "",
           "title": {
            "standoff": 15
           },
           "zerolinecolor": "white",
           "zerolinewidth": 2
          }
         }
        },
        "title": {
         "text": "Average Order Value by Customer Segment"
        },
        "xaxis": {
         "anchor": "y",
         "categoryarray": [
          "Consumer",
          "Corporate",
          "Home Office"
         ],
         "categoryorder": "array",
         "domain": [
          0,
          1
         ],
         "title": {
          "text": "Segment"
         }
        },
        "yaxis": {
         "anchor": "x",
         "domain": [
          0,
          1
         ],
         "title": {
          "text": "AOV"
         }
        }
       }
      }
     },
     "metadata": {},
     "output_type": "display_data"
    }
   ],
   "source": [
    "# Ensure 'Customer Segment' is a column, not index\n",
    "aov_segment = aov_segment.reset_index()\n",
    "\n",
    "# Customer Segment AOV Chart\n",
    "fig_segment = px.bar(aov_segment, x='Segment', y='AOV', title='Average Order Value by Customer Segment', color='Segment')\n",
    "fig_segment.show()"
   ]
  },
  {
   "cell_type": "markdown",
   "id": "a9449c8c",
   "metadata": {},
   "source": [
    "Analysis of Average Order Value (AOV) by Region and Customer Segment\n",
    "\n",
    "The charts above illustrate the Average Order Value (AOV) across different regions and customer segments. The AOV by region highlights \"North Asia\" and \"Central Asia\" as the top-performing regions, showcasing higher order values. Similarly, the AOV by customer segment reveals that \"Corporate\" customers slightly outperform \"Consumer\" and \"Home Office\" segments in terms of average order value."
   ]
  }
 ],
 "metadata": {
  "kernelspec": {
   "display_name": "base",
   "language": "python",
   "name": "python3"
  },
  "language_info": {
   "codemirror_mode": {
    "name": "ipython",
    "version": 3
   },
   "file_extension": ".py",
   "mimetype": "text/x-python",
   "name": "python",
   "nbconvert_exporter": "python",
   "pygments_lexer": "ipython3",
   "version": "3.12.9"
  }
 },
 "nbformat": 4,
 "nbformat_minor": 5
}
